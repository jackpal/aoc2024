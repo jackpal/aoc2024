{
 "cells": [
  {
   "cell_type": "markdown",
   "metadata": {},
   "source": [
    "# Advent of Code 2024\n",
    "\n",
    "[Day 3](https://adventofcode.com/2024/day/3)"
   ]
  },
  {
   "cell_type": "code",
   "execution_count": null,
   "metadata": {},
   "outputs": [],
   "source": [
    "from aocd import puzzle"
   ]
  },
  {
   "cell_type": "code",
   "execution_count": null,
   "metadata": {},
   "outputs": [],
   "source": [
    "def parse(input):\n",
    "    def parse_line(line):\n",
    "        return line\n",
    "    return [parse_line(line) for line in input.split('\\n')]"
   ]
  },
  {
   "cell_type": "code",
   "execution_count": null,
   "metadata": {},
   "outputs": [],
   "source": [
    "import re\n"
   ]
  },
  {
   "cell_type": "code",
   "execution_count": null,
   "metadata": {},
   "outputs": [],
   "source": [
    "re.findall(r\"(mul\\(\\d+,\\d+\\))\", \"xmul(2,4)%&mul[3,7]!@^do_not_mul(5,5)+mul(32,64]then(mul(11,8)mul(8,5))\")"
   ]
  },
  {
   "cell_type": "code",
   "execution_count": null,
   "metadata": {},
   "outputs": [],
   "source": [
    "def nums(item):\n",
    "    match = re.search(r\"mul\\((\\d+),(\\d+)\\)\", item)\n",
    "    return int(match.group(1)), int(match.group(2))\n",
    "\n",
    "def instructions(line):\n",
    "    items = re.findall(r\"(mul\\(\\d+,\\d+\\))\", line)\n",
    "    return [nums(item) for item in items]\n",
    "\n",
    "instructions(\"xmul(2,4)%&mul[3,7]!@^do_not_mul(5,5)+mul(32,64]then(mul(11,8)mul(8,5))\")"
   ]
  },
  {
   "cell_type": "code",
   "execution_count": null,
   "metadata": {},
   "outputs": [],
   "source": [
    "def solve_part_a(input):\n",
    "    return sum(sum(a*b for a,b in instructions(line)) for line in input)\n"
   ]
  },
  {
   "cell_type": "code",
   "execution_count": null,
   "metadata": {},
   "outputs": [],
   "source": [
    "puzzle.answer_a = solve_part_a(parse(puzzle.input_data))"
   ]
  },
  {
   "cell_type": "code",
   "execution_count": null,
   "metadata": {},
   "outputs": [],
   "source": [
    "def instructions_per_line(line):\n",
    "  return list(re.findall(r\"(mul\\(\\d+,\\d+\\)|do\\(\\)|don't\\(\\))\", line))\n",
    "\n",
    "instructions_per_line(\"xmul(2,4)&mul[3,7]!^don't()_mul(5,5)+mul(32,64](mul(11,8)undo()?mul(8,5)\")"
   ]
  },
  {
   "cell_type": "code",
   "execution_count": null,
   "metadata": {},
   "outputs": [],
   "source": [
    "def all_instructions(input):\n",
    "    x = []\n",
    "    for line in input:\n",
    "        for i in instructions_per_line(line):\n",
    "            x.append(i)\n",
    "    return x"
   ]
  },
  {
   "cell_type": "code",
   "execution_count": null,
   "metadata": {},
   "outputs": [],
   "source": [
    "def solve_part_b(input):\n",
    "    sum = 0\n",
    "    skip = False\n",
    "    for instruction in all_instructions(input):\n",
    "        if instruction == 'do()':\n",
    "            skip = False\n",
    "        elif instruction == 'don\\'t()':\n",
    "            skip = True\n",
    "        elif not skip:\n",
    "            a,b = nums(instruction)\n",
    "            sum += a * b\n",
    "    return sum"
   ]
  },
  {
   "cell_type": "code",
   "execution_count": null,
   "metadata": {},
   "outputs": [],
   "source": [
    "puzzle.answer_b = solve_part_b(parse(puzzle.input_data))"
   ]
  }
 ],
 "metadata": {
  "kernelspec": {
   "display_name": "Python 3",
   "language": "python",
   "name": "python3"
  },
  "language_info": {
   "codemirror_mode": {
    "name": "ipython",
    "version": 3
   },
   "file_extension": ".py",
   "mimetype": "text/x-python",
   "name": "python",
   "nbconvert_exporter": "python",
   "pygments_lexer": "ipython3",
   "version": "3.12.4"
  }
 },
 "nbformat": 4,
 "nbformat_minor": 2
}
