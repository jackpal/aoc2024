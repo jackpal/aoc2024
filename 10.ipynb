{
 "cells": [
  {
   "cell_type": "markdown",
   "metadata": {},
   "source": [
    "# Advent of Code 2024\n",
    "\n",
    "[Day 10](https://adventofcode.com/2024/day/10)"
   ]
  },
  {
   "cell_type": "code",
   "execution_count": 1,
   "metadata": {},
   "outputs": [
    {
     "data": {
      "text/plain": [
       "'https://adventofcode.com/2024/day/10'"
      ]
     },
     "execution_count": 1,
     "metadata": {},
     "output_type": "execute_result"
    }
   ],
   "source": [
    "from aocd.models import Puzzle\n",
    "from pathlib import Path\n",
    "puzzle = Puzzle(year=2024, day=int(Path(__vsc_ipynb_file__).stem))\n",
    "puzzle.url"
   ]
  },
  {
   "cell_type": "code",
   "execution_count": 2,
   "metadata": {},
   "outputs": [],
   "source": [
    "def solve_a(inp):\n",
    "    grid = [[int(c) for c in row] for row in inp.splitlines()]\n",
    "    rows, cols = len(grid), len(grid[0])\n",
    "    starts = [(r, c) for r in range(rows) for c in range(cols) if grid[r][c] == 0]\n",
    "    scores = []\n",
    "    for sr, sc in starts:\n",
    "        reachable = set()\n",
    "\n",
    "        def dfs(r, c, h):\n",
    "            if not (0 <= r < rows and 0 <= c < cols):\n",
    "                return\n",
    "            if grid[r][c] != h:\n",
    "                return\n",
    "            if h == 9:\n",
    "                reachable.add((r, c))\n",
    "                return\n",
    "            dfs(r + 1, c, h + 1)\n",
    "            dfs(r - 1, c, h + 1)\n",
    "            dfs(r, c + 1, h + 1)\n",
    "            dfs(r, c - 1, h + 1)\n",
    "\n",
    "        dfs(sr, sc, 0)\n",
    "        scores.append(len(reachable))\n",
    "    return sum(scores)\n",
    "\n",
    "puzzle.answer_a = solve_a(puzzle.input_data)"
   ]
  },
  {
   "cell_type": "code",
   "execution_count": 3,
   "metadata": {},
   "outputs": [],
   "source": [
    "def solve_b(inp):\n",
    "    grid = [[int(c) for c in row] for row in inp.splitlines()]\n",
    "    rows, cols = len(grid), len(grid[0])\n",
    "    starts = [(r, c) for r in range(rows) for c in range(cols) if grid[r][c] == 0]\n",
    "    ratings = []\n",
    "    for sr, sc in starts:\n",
    "        paths = set()\n",
    "\n",
    "        def dfs(r, c, h, path):\n",
    "            if not (0 <= r < rows and 0 <= c < cols):\n",
    "                return\n",
    "            if grid[r][c] != h:\n",
    "                return\n",
    "            if h == 9:\n",
    "                paths.add(tuple(path))\n",
    "                return\n",
    "            dfs(r + 1, c, h + 1, path + [(r + 1, c)])\n",
    "            dfs(r - 1, c, h + 1, path + [(r - 1, c)])\n",
    "            dfs(r, c + 1, h + 1, path + [(r, c + 1)])\n",
    "            dfs(r, c - 1, h + 1, path + [(r, c - 1)])\n",
    "\n",
    "        dfs(sr, sc, 0, [(sr, sc)])\n",
    "        ratings.append(len(paths))\n",
    "    return sum(ratings)\n",
    "\n",
    "puzzle.answer_b = solve_b(puzzle.input_data)"
   ]
  }
 ],
 "metadata": {
  "kernelspec": {
   "display_name": "Python 3",
   "language": "python",
   "name": "python3"
  },
  "language_info": {
   "codemirror_mode": {
    "name": "ipython",
    "version": 3
   },
   "file_extension": ".py",
   "mimetype": "text/x-python",
   "name": "python",
   "nbconvert_exporter": "python",
   "pygments_lexer": "ipython3",
   "version": "3.13.1"
  }
 },
 "nbformat": 4,
 "nbformat_minor": 2
}
