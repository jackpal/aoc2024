{
 "cells": [
  {
   "cell_type": "markdown",
   "metadata": {},
   "source": [
    "# Advent of Code 2024\n",
    "\n",
    "[Day 4](https://adventofcode.com/2024/day/4)"
   ]
  },
  {
   "cell_type": "code",
   "execution_count": null,
   "metadata": {},
   "outputs": [],
   "source": [
    "from aocd.models import Puzzle\n",
    "puzzle = Puzzle(year=2024, day=4)\n",
    "puzzle.url"
   ]
  },
  {
   "cell_type": "code",
   "execution_count": null,
   "metadata": {},
   "outputs": [],
   "source": [
    "def solve_a(d):\n",
    "    g = d.splitlines()\n",
    "    r = len(g)\n",
    "    c = len(g[0])\n",
    "    t = 0\n",
    "    def chk(i, j, di, dj):\n",
    "        w = 'XMAS'\n",
    "        for k in range(4):\n",
    "            ni, nj = i + k * di, j + k * dj\n",
    "            if not (0 <= ni < r and 0 <= nj < c and g[ni][nj] == w[k]):\n",
    "                return False\n",
    "        return True\n",
    "    for i in range(r):\n",
    "        for j in range(c):\n",
    "            for di in [-1, 0, 1]:\n",
    "                for dj in [-1, 0, 1]:\n",
    "                    if di == 0 and dj == 0:\n",
    "                        continue\n",
    "                    if chk(i, j, di, dj):\n",
    "                        t += 1\n",
    "    return t\n",
    "puzzle.answer_a = solve_a(puzzle.input_data)"
   ]
  },
  {
   "cell_type": "markdown",
   "metadata": {},
   "source": [
    "LLM had trouble with second part fixed by restarting with amended prompt: Write a short explanation of the algorithm before writing the code."
   ]
  },
  {
   "cell_type": "code",
   "execution_count": 20,
   "metadata": {},
   "outputs": [],
   "source": [
    "def solve_a(g):\n",
    "  c = 0\n",
    "  for i in range(len(g)):\n",
    "    for j in range(len(g[0])):\n",
    "      for di, dj in [(0, 1), (1, 0), (0, -1), (-1, 0), (1, 1), (-1, -1), (1, -1), (-1, 1)]:\n",
    "        s = ''\n",
    "        for k in range(4):\n",
    "          ni, nj = i + di * k, j + dj * k\n",
    "          if 0 <= ni < len(g) and 0 <= nj < len(g[0]):\n",
    "            s += g[ni][nj]\n",
    "        if s == 'XMAS':\n",
    "          c += 1\n",
    "  return c\n",
    "\n",
    "puzzle.answer_a = solve_a(puzzle.input_data.splitlines())\n",
    "\n",
    "def solve_b(g):\n",
    "  c = 0\n",
    "  for i in range(1, len(g) - 1):\n",
    "    for j in range(1, len(g[0]) - 1):\n",
    "      if (g[i][j] == 'A' and\n",
    "          ((g[i - 1][j - 1] == 'M' and g[i + 1][j + 1] == 'S') or\n",
    "           (g[i - 1][j - 1] == 'S' and g[i + 1][j + 1] == 'M')) and\n",
    "          ((g[i - 1][j + 1] == 'M' and g[i + 1][j - 1] == 'S') or\n",
    "           (g[i - 1][j + 1] == 'S' and g[i + 1][j - 1] == 'M'))):\n",
    "        c += 1\n",
    "  return c\n",
    "\n",
    "puzzle.answer_b = solve_b(puzzle.input_data.splitlines())"
   ]
  },
  {
   "cell_type": "code",
   "execution_count": null,
   "metadata": {},
   "outputs": [],
   "source": []
  }
 ],
 "metadata": {
  "kernelspec": {
   "display_name": "Python 3",
   "language": "python",
   "name": "python3"
  },
  "language_info": {
   "codemirror_mode": {
    "name": "ipython",
    "version": 3
   },
   "file_extension": ".py",
   "mimetype": "text/x-python",
   "name": "python",
   "nbconvert_exporter": "python",
   "pygments_lexer": "ipython3",
   "version": "3.13.1"
  }
 },
 "nbformat": 4,
 "nbformat_minor": 2
}
