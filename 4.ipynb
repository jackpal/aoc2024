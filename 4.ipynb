{
 "cells": [
  {
   "cell_type": "markdown",
   "metadata": {},
   "source": [
    "# Advent of Code 2024\n",
    "\n",
    "[Day 4](https://adventofcode.com/2024/day/4)"
   ]
  },
  {
   "cell_type": "code",
   "execution_count": null,
   "metadata": {},
   "outputs": [],
   "source": [
    "from aocd import puzzle"
   ]
  },
  {
   "cell_type": "code",
   "execution_count": null,
   "metadata": {},
   "outputs": [],
   "source": [
    "def parse(input):\n",
    "    return input.split('\\n')"
   ]
  },
  {
   "cell_type": "code",
   "execution_count": null,
   "metadata": {},
   "outputs": [],
   "source": [
    "def solve_part_a(grid):\n",
    "    w,h = len(grid[0]), len(grid)\n",
    "    dirs = [(-1,-1), (0,-1), (1,-1), (-1, 0), (1, 0), (-1,1), (0,1), (1,1)]\n",
    "    def get(x,y,dir, i):\n",
    "        d = dirs[dir]\n",
    "        xx,yy = x + d[0] * i, y + d[1] * i\n",
    "        if not (0 <= xx < w and 0 <= yy < h):\n",
    "            return None\n",
    "        return grid[yy][xx]\n",
    "    count = 0\n",
    "    for y in range(h):\n",
    "        for x in range(w):\n",
    "            for d in range(len(dirs)):\n",
    "                for i,c in enumerate('XMAS'):\n",
    "                    if c != get(x, y, d, i):\n",
    "                        break\n",
    "                else:\n",
    "                    count += 1\n",
    "    return count"
   ]
  },
  {
   "cell_type": "code",
   "execution_count": null,
   "metadata": {},
   "outputs": [],
   "source": [
    "puzzle.answer_a = solve_part_a(parse(puzzle.input_data))"
   ]
  },
  {
   "cell_type": "code",
   "execution_count": null,
   "metadata": {},
   "outputs": [],
   "source": [
    "def solve_part_b(grid):\n",
    "    w,h = len(grid[0]), len(grid)\n",
    "    dirs = [(-1,-1), (0,-1), (1,-1), (-1, 0), (1, 0), (-1,1), (0,1), (1,1)]\n",
    "    def get(x,y,dir, i):\n",
    "        d = dirs[dir]\n",
    "        xx,yy = x + d[0] * i, y + d[1] * i\n",
    "        if not (0 <= xx < w and 0 <= yy < h):\n",
    "            return None\n",
    "        return grid[yy][xx]\n",
    "    def is_mas(x, y, d):\n",
    "        for i, c in enumerate('MAS', -1):\n",
    "            c2 = get(x, y, d, i)\n",
    "            if c != c2:\n",
    "                return False\n",
    "        return True\n",
    "    def is_x_mas(x, y, d):\n",
    "        d2 = {0: 2, 2: 7, 7: 5, 5: 0}[d]\n",
    "        return is_mas(x,y, d) and is_mas(x,y,d2)\n",
    "    count = 0\n",
    "    for y in range(1,h-1):\n",
    "        for x in range(1,w-1):\n",
    "            if get(x,y,0, 0) != 'A':\n",
    "                continue\n",
    "            for d in [0, 2, 7, 5]:\n",
    "                if is_x_mas(x, y, d):\n",
    "                    count += 1\n",
    "                    break\n",
    "    return count"
   ]
  },
  {
   "cell_type": "code",
   "execution_count": null,
   "metadata": {},
   "outputs": [],
   "source": [
    "example = \"\"\"MMMSXXMASM\n",
    "MSAMXMSMSA\n",
    "AMXSXMAAMM\n",
    "MSAMASMSMX\n",
    "XMASAMXAMM\n",
    "XXAMMXXAMA\n",
    "SMSMSASXSS\n",
    "SAXAMASAAA\n",
    "MAMMMXMMMM\n",
    "MXMXAXMASX\"\"\""
   ]
  },
  {
   "cell_type": "code",
   "execution_count": null,
   "metadata": {},
   "outputs": [],
   "source": [
    "solve_part_b(parse(example))"
   ]
  },
  {
   "cell_type": "code",
   "execution_count": null,
   "metadata": {},
   "outputs": [],
   "source": [
    "puzzle.answer_b = solve_part_b(parse(puzzle.input_data))"
   ]
  }
 ],
 "metadata": {
  "kernelspec": {
   "display_name": "Python 3",
   "language": "python",
   "name": "python3"
  },
  "language_info": {
   "codemirror_mode": {
    "name": "ipython",
    "version": 3
   },
   "file_extension": ".py",
   "mimetype": "text/x-python",
   "name": "python",
   "nbconvert_exporter": "python",
   "pygments_lexer": "ipython3",
   "version": "3.12.4"
  }
 },
 "nbformat": 4,
 "nbformat_minor": 2
}
