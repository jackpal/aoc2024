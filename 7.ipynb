{
 "cells": [
  {
   "cell_type": "markdown",
   "metadata": {},
   "source": [
    "# Advent of Code 2024\n",
    "\n",
    "[Day 7](https://adventofcode.com/2024/day/7)"
   ]
  },
  {
   "cell_type": "code",
   "execution_count": null,
   "metadata": {},
   "outputs": [],
   "source": [
    "from aocd.models import Puzzle\n",
    "puzzle = Puzzle(year=2024, day=7)\n",
    "puzzle.url"
   ]
  },
  {
   "cell_type": "code",
   "execution_count": null,
   "metadata": {},
   "outputs": [],
   "source": [
    "\n",
    "import itertools"
   ]
  },
  {
   "cell_type": "code",
   "execution_count": null,
   "metadata": {},
   "outputs": [],
   "source": [
    "example = \"\"\"190: 10 19\n",
    "3267: 81 40 27\n",
    "83: 17 5\n",
    "156: 15 6\n",
    "7290: 6 8 6 15\n",
    "161011: 16 10 13\n",
    "192: 17 8 14\n",
    "21037: 9 7 18 13\n",
    "292: 11 6 16 20\"\"\""
   ]
  },
  {
   "cell_type": "code",
   "execution_count": null,
   "metadata": {},
   "outputs": [],
   "source": [
    "def parse(input):\n",
    "    def parse_line(line):\n",
    "        parts = line.split(': ')\n",
    "        a = int(parts[0])\n",
    "        b = [int(a) for a in parts[1].split()]\n",
    "        return (a,b)\n",
    "    return [parse_line(line) for line in input.split('\\n')]"
   ]
  },
  {
   "cell_type": "code",
   "execution_count": null,
   "metadata": {},
   "outputs": [],
   "source": [
    "def eval_expr(v, inputs):\n",
    "    sum = inputs[0]\n",
    "    for i, input in enumerate(inputs[1:]):\n",
    "        if v[i] == '+':\n",
    "            sum += input\n",
    "        elif v[i] == '*':\n",
    "            sum *= input\n",
    "        elif v[i] == '|':\n",
    "            sum = int(str(sum) + str(input))\n",
    "        else:\n",
    "            assert(False)\n",
    "    return sum\n"
   ]
  },
  {
   "cell_type": "code",
   "execution_count": null,
   "metadata": {},
   "outputs": [],
   "source": [
    "def is_valid(line, ops):\n",
    "    answer, inputs = line\n",
    "    for v in itertools.product(ops, repeat=len(inputs)-1):\n",
    "        sum = eval_expr(v, inputs)\n",
    "        if sum == answer:\n",
    "            return True\n",
    "    return False"
   ]
  },
  {
   "cell_type": "code",
   "execution_count": null,
   "metadata": {},
   "outputs": [],
   "source": [
    "def compute_answer(input, ops):\n",
    "    sum = 0\n",
    "    for line in input:\n",
    "        if is_valid(line, ops):\n",
    "            sum += line[0]\n",
    "    return sum\n"
   ]
  },
  {
   "cell_type": "code",
   "execution_count": null,
   "metadata": {},
   "outputs": [],
   "source": [
    "def solve_part_a(input):\n",
    "    return compute_answer(input, '+*')\n"
   ]
  },
  {
   "cell_type": "code",
   "execution_count": null,
   "metadata": {},
   "outputs": [],
   "source": [
    "assert(solve_part_a(parse(example)) == 3749 )\n"
   ]
  },
  {
   "cell_type": "code",
   "execution_count": null,
   "metadata": {},
   "outputs": [],
   "source": [
    "puzzle.answer_a = solve_part_a(parse(puzzle.input_data))"
   ]
  },
  {
   "cell_type": "code",
   "execution_count": null,
   "metadata": {},
   "outputs": [],
   "source": [
    "def solve_part_b(input):\n",
    "    return compute_answer(input, '+*|')"
   ]
  },
  {
   "cell_type": "code",
   "execution_count": null,
   "metadata": {},
   "outputs": [],
   "source": [
    "puzzle.answer_b = solve_part_b(parse(puzzle.input_data))"
   ]
  },
  {
   "cell_type": "markdown",
   "metadata": {},
   "source": [
    "# Gemini 1206 answers"
   ]
  },
  {
   "cell_type": "code",
   "execution_count": null,
   "metadata": {},
   "outputs": [],
   "source": [
    "def solve(v, ns):\n",
    "  if not ns:\n",
    "    return {v}\n",
    "  n, *r = ns\n",
    "  return solve(v + n, r) | solve(v * n, r)\n",
    "\n",
    "t = 0\n",
    "for l in puzzle.input_data.splitlines():\n",
    "  v, ns = l.split(':')\n",
    "  v = int(v)\n",
    "  ns = [int(n) for n in ns.split()]\n",
    "  if v in solve(ns[0], ns[1:]):\n",
    "    t += v\n",
    "puzzle.answer_a = t"
   ]
  },
  {
   "cell_type": "code",
   "execution_count": null,
   "metadata": {},
   "outputs": [],
   "source": [
    "def solve(v, ns):\n",
    "  if not ns:\n",
    "    return {v}\n",
    "  n, *r = ns\n",
    "  return (\n",
    "      solve(v + n, r)\n",
    "      | solve(v * n, r)\n",
    "      | solve(int(str(v) + str(n)), r)\n",
    "  )\n",
    "\n",
    "t = 0\n",
    "for l in puzzle.input_data.splitlines():\n",
    "  v, ns = l.split(':')\n",
    "  v = int(v)\n",
    "  ns = [int(n) for n in ns.split()]\n",
    "  if v in solve(ns[0], ns[1:]):\n",
    "    t += v\n",
    "puzzle.answer_b = t\n"
   ]
  },
  {
   "cell_type": "code",
   "execution_count": null,
   "metadata": {},
   "outputs": [],
   "source": [
    "def solve(ns):\n",
    "    dp = [set() for _ in range(len(ns))]\n",
    "    dp[0].add(ns[0])\n",
    "    for i in range(len(ns) - 1):\n",
    "        for x in dp[i]:\n",
    "            dp[i + 1].add(x + ns[i + 1])\n",
    "            dp[i + 1].add(x * ns[i + 1])\n",
    "            if x:\n",
    "              dp[i + 1].add(int(str(x) + str(ns[i+1])))\n",
    "    return dp[-1]\n",
    "\n",
    "total = 0\n",
    "cache = {}\n",
    "for line in puzzle.input_data.splitlines():\n",
    "    target, nums_str = line.split(':')\n",
    "    target = int(target)\n",
    "    nums = tuple(map(int, nums_str.split()))\n",
    "    if nums not in cache:\n",
    "        cache[nums] = solve(nums)\n",
    "    if target in cache[nums]:\n",
    "        total += target\n",
    "puzzle.answer_b = total\n"
   ]
  }
 ],
 "metadata": {
  "kernelspec": {
   "display_name": "Python 3",
   "language": "python",
   "name": "python3"
  },
  "language_info": {
   "codemirror_mode": {
    "name": "ipython",
    "version": 3
   },
   "file_extension": ".py",
   "mimetype": "text/x-python",
   "name": "python",
   "nbconvert_exporter": "python",
   "pygments_lexer": "ipython3",
   "version": "3.12.4"
  }
 },
 "nbformat": 4,
 "nbformat_minor": 2
}
