{
 "cells": [
  {
   "cell_type": "markdown",
   "metadata": {},
   "source": [
    "# Advent of Code 2024\n",
    "\n",
    "[Day 7](https://adventofcode.com/2024/day/7)"
   ]
  },
  {
   "cell_type": "code",
   "execution_count": null,
   "metadata": {},
   "outputs": [],
   "source": [
    "from aocd.models import Puzzle\n",
    "puzzle = Puzzle(year=2024, day=7)\n",
    "puzzle.url"
   ]
  },
  {
   "cell_type": "code",
   "execution_count": 2,
   "metadata": {},
   "outputs": [],
   "source": [
    "def solve_a(d):\n",
    "  def c(t, v, n):\n",
    "    if not n:\n",
    "      return v == t\n",
    "    return c(t, v + n[0], n[1:]) or c(t, v * n[0], n[1:])\n",
    "\n",
    "  s = 0\n",
    "  for l in d.splitlines():\n",
    "    p = l.split(':')\n",
    "    t = int(p[0])\n",
    "    n = [int(x) for x in p[1].split()]\n",
    "    if c(t, n[0], n[1:]):\n",
    "      s += t\n",
    "  return s\n",
    "\n",
    "puzzle.answer_a = solve_a(puzzle.input_data)"
   ]
  },
  {
   "cell_type": "code",
   "execution_count": null,
   "metadata": {},
   "outputs": [],
   "source": [
    "def solve_b(d):\n",
    "  def c(t, v, n):\n",
    "    if not n:\n",
    "      return v == t\n",
    "    return (\n",
    "        c(t, v + n[0], n[1:])\n",
    "        or c(t, v * n[0], n[1:])\n",
    "        or c(t, int(str(v) + str(n[0])), n[1:])\n",
    "    )\n",
    "\n",
    "  s = 0\n",
    "  for l in d.splitlines():\n",
    "    p = l.split(':')\n",
    "    t = int(p[0])\n",
    "    n = [int(x) for x in p[1].split()]\n",
    "    if c(t, n[0], n[1:]):\n",
    "      s += t\n",
    "  return s\n",
    "\n",
    "puzzle.answer_b = solve_b(puzzle.input_data)"
   ]
  }
 ],
 "metadata": {
  "kernelspec": {
   "display_name": "Python 3",
   "language": "python",
   "name": "python3"
  },
  "language_info": {
   "codemirror_mode": {
    "name": "ipython",
    "version": 3
   },
   "file_extension": ".py",
   "mimetype": "text/x-python",
   "name": "python",
   "nbconvert_exporter": "python",
   "pygments_lexer": "ipython3",
   "version": "3.13.1"
  }
 },
 "nbformat": 4,
 "nbformat_minor": 2
}
