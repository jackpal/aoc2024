{
 "cells": [
  {
   "cell_type": "markdown",
   "metadata": {},
   "source": [
    "# Advent of Code 2024"
   ]
  },
  {
   "cell_type": "code",
   "execution_count": 1,
   "metadata": {},
   "outputs": [
    {
     "data": {
      "text/plain": [
       "'https://adventofcode.com/2024/day/13'"
      ]
     },
     "execution_count": 1,
     "metadata": {},
     "output_type": "execute_result"
    }
   ],
   "source": [
    "from aocd.models import Puzzle\n",
    "puzzle = Puzzle(year=2024, day=13)\n",
    "puzzle.url"
   ]
  },
  {
   "cell_type": "code",
   "execution_count": 4,
   "metadata": {},
   "outputs": [],
   "source": [
    "def solve_a(input_data):\n",
    "    total_cost = 0\n",
    "    wins = 0\n",
    "    for machine in input_data.split('\\n\\n'):\n",
    "        lines = machine.splitlines()\n",
    "        a_x = int(lines[0].split(',')[0].split('+')[1])\n",
    "        a_y = int(lines[0].split(',')[1].split('+')[1])\n",
    "        b_x = int(lines[1].split(',')[0].split('+')[1])\n",
    "        b_y = int(lines[1].split(',')[1].split('+')[1])\n",
    "        p_x = int(lines[2].split(',')[0].split('=')[1])\n",
    "        p_y = int(lines[2].split(',')[1].split('=')[1])\n",
    "        min_cost = float('inf')\n",
    "        for m in range(101):\n",
    "            for n in range(101):\n",
    "                if m * a_x + n * b_x == p_x and m * a_y + n * b_y == p_y:\n",
    "                    min_cost = min(min_cost, 3 * m + n)\n",
    "        if min_cost != float('inf'):\n",
    "            wins += 1\n",
    "            total_cost += min_cost\n",
    "    return total_cost\n",
    "\n",
    "puzzle.answer_a = solve_a(puzzle.input_data)"
   ]
  },
  {
   "cell_type": "code",
   "execution_count": 5,
   "metadata": {},
   "outputs": [
    {
     "name": "stdout",
     "output_type": "stream",
     "text": [
      "aocd will not submit that answer again. At 2024-12-13 00:44:03.435577-05:00 you've previously submitted 0 and the server responded with:\n",
      "\u001b[31mThat's not the right answer.  If you're stuck, make sure you're using the full input data; there are also some general tips on the about page, or you can ask for hints on the subreddit.  Please wait one minute before trying again. (You guessed 0.) [Return to Day 13]\u001b[0m\n"
     ]
    }
   ],
   "source": [
    "def egcd(a, b):\n",
    "    if a == 0:\n",
    "        return b, 0, 1\n",
    "    else:\n",
    "        g, y, x = egcd(b % a, a)\n",
    "        return g, x - (b // a) * y, y\n",
    "\n",
    "def crt(a1, m1, a2, m2):\n",
    "    g, x, y = egcd(m1, m2)\n",
    "    if a1 % g != a2 % g:\n",
    "        return None\n",
    "    else:\n",
    "        lcm = m1 * m2 // g\n",
    "        return (a1 * (y % lcm) * (m2 // g) + a2 * (x % lcm) * (m1 // g)) % lcm, lcm\n",
    "\n",
    "def solve_b(input_data):\n",
    "    total_cost = 0\n",
    "    wins = 0\n",
    "    for machine in input_data.split('\\n\\n'):\n",
    "        lines = machine.splitlines()\n",
    "        a_x = int(lines[0].split(',')[0].split('+')[1])\n",
    "        a_y = int(lines[0].split(',')[1].split('+')[1])\n",
    "        b_x = int(lines[1].split(',')[0].split('+')[1])\n",
    "        b_y = int(lines[1].split(',')[1].split('+')[1])\n",
    "        p_x = int(lines[2].split(',')[0].split('=')[1]) + 10**13\n",
    "        p_y = int(lines[2].split(',')[1].split('=')[1]) + 10**13\n",
    "\n",
    "        g_x, x, y = egcd(a_x, b_x)\n",
    "        g_y, z, w = egcd(a_y, b_y)\n",
    "\n",
    "        if p_x % g_x != 0 or p_y % g_y != 0:\n",
    "            continue\n",
    "\n",
    "        m0_x = x * (p_x // g_x)\n",
    "        m0_y = z * (p_y // g_y)\n",
    "\n",
    "        m1 = b_x // g_x\n",
    "        m2 = b_y // g_y\n",
    "        \n",
    "        res = crt(m0_x, m1, m0_y, m2)\n",
    "\n",
    "        if res is None:\n",
    "            continue\n",
    "        m, lcm = res\n",
    "        if m < 0:\n",
    "            m += ((-m + lcm -1)//lcm)*lcm\n",
    "            \n",
    "        min_cost = float('inf')\n",
    "        for k_mult in range(1000):\n",
    "            \n",
    "            m_final = m + k_mult * lcm\n",
    "            n_x = (p_x - a_x*m_final) // b_x\n",
    "            n_y = (p_y - a_y*m_final) // b_y\n",
    "            if n_x >= 0 and n_y >=0 and n_x == n_y:\n",
    "                min_cost = min(min_cost, 3*m_final + n_x)\n",
    "\n",
    "        if min_cost != float('inf'):\n",
    "            wins += 1\n",
    "            total_cost += min_cost\n",
    "            \n",
    "    return total_cost\n",
    "\n",
    "puzzle.answer_b = solve_b(puzzle.input_data)"
   ]
  },
  {
   "cell_type": "markdown",
   "metadata": {},
   "source": [
    "That's wrong, try another algorithm"
   ]
  },
  {
   "cell_type": "code",
   "execution_count": 6,
   "metadata": {},
   "outputs": [
    {
     "name": "stdout",
     "output_type": "stream",
     "text": [
      "aocd will not submit that answer. At 2024-12-13 00:48:15.028643-05:00 you've previously submitted 107824497933339 and the server responded with:\n",
      "\u001b[32mThat's the right answer!  You are one gold star closer to finding the Chief Historian.You have completed Day 13! You can [Shareon\n",
      "  Bluesky\n",
      "Twitter\n",
      "Mastodon] this victory or [Return to Your Advent Calendar].\u001b[0m\n",
      "It is certain that '3304283434700' is incorrect, because '3304283434700' != '107824497933339'.\n"
     ]
    }
   ],
   "source": [
    "def egcd(a, b):\n",
    "    if a == 0:\n",
    "        return b, 0, 1\n",
    "    else:\n",
    "        g, y, x = egcd(b % a, a)\n",
    "        return g, x - (b // a) * y, y\n",
    "\n",
    "def solve_b_revised(input_data):\n",
    "    total_cost = 0\n",
    "    wins = 0\n",
    "    for machine in input_data.split('\\n\\n'):\n",
    "        lines = machine.splitlines()\n",
    "        a_x = int(lines[0].split(',')[0].split('+')[1])\n",
    "        a_y = int(lines[0].split(',')[1].split('+')[1])\n",
    "        b_x = int(lines[1].split(',')[0].split('+')[1])\n",
    "        b_y = int(lines[1].split(',')[1].split('+')[1])\n",
    "        p_x = int(lines[2].split(',')[0].split('=')[1]) + 10**13\n",
    "        p_y = int(lines[2].split(',')[1].split('=')[1]) + 10**13\n",
    "\n",
    "        g_x, x, y = egcd(a_x, b_x)\n",
    "        g_y, z, w = egcd(a_y, b_y)\n",
    "\n",
    "        if p_x % g_x != 0 or p_y % g_y != 0:\n",
    "            continue\n",
    "\n",
    "        m0_x = x * (p_x // g_x)\n",
    "        n0_x = y * (p_x // g_x)\n",
    "        m0_y = z * (p_y // g_y)\n",
    "        n0_y = w * (p_y // g_y)\n",
    "        \n",
    "        min_cost = float('inf')\n",
    "        \n",
    "        for l in range(-1000,1000):\n",
    "            k_numerator = (m0_y - m0_x + l * (b_y // g_y))\n",
    "            k_denominator = (b_x // g_x)\n",
    "\n",
    "            if k_numerator % k_denominator == 0:\n",
    "                k = k_numerator // k_denominator\n",
    "                m = m0_x + k * (b_x // g_x)\n",
    "                n = n0_x - k * (a_x // g_x)\n",
    "\n",
    "                if m >= 0 and n >= 0 :\n",
    "                    min_cost = min(min_cost, 3 * m + n)\n",
    "\n",
    "        if min_cost != float('inf'):\n",
    "            wins += 1\n",
    "            total_cost += min_cost\n",
    "\n",
    "    return total_cost\n",
    "\n",
    "puzzle.answer_b = solve_b_revised(puzzle.input_data)"
   ]
  },
  {
   "cell_type": "markdown",
   "metadata": {},
   "source": [
    "That's wrong. Use Cramer's Rule."
   ]
  },
  {
   "cell_type": "code",
   "execution_count": 7,
   "metadata": {},
   "outputs": [],
   "source": [
    "def egcd(a, b):\n",
    "    if a == 0:\n",
    "        return b, 0, 1\n",
    "    else:\n",
    "        g, y, x = egcd(b % a, a)\n",
    "        return g, x - (b // a) * y, y\n",
    "\n",
    "def solve_b_cramer(input_data):\n",
    "    total_cost = 0\n",
    "    wins = 0\n",
    "    for machine in input_data.split('\\n\\n'):\n",
    "        lines = machine.splitlines()\n",
    "        a_x = int(lines[0].split(',')[0].split('+')[1])\n",
    "        a_y = int(lines[0].split(',')[1].split('+')[1])\n",
    "        b_x = int(lines[1].split(',')[0].split('+')[1])\n",
    "        b_y = int(lines[1].split(',')[1].split('+')[1])\n",
    "        p_x = int(lines[2].split(',')[0].split('=')[1]) + 10**13\n",
    "        p_y = int(lines[2].split(',')[1].split('=')[1]) + 10**13\n",
    "\n",
    "        determinant = a_x * b_y - b_x * a_y\n",
    "\n",
    "        if determinant == 0:\n",
    "          continue\n",
    "\n",
    "        m = (p_x * b_y - b_x * p_y) / determinant\n",
    "        n = (a_x * p_y - p_x * a_y) / determinant\n",
    "\n",
    "        min_cost = float('inf')\n",
    "        \n",
    "        if m >= 0 and n >= 0 and m == int(m) and n == int(n):\n",
    "            min_cost = min(min_cost, 3*int(m) + int(n))\n",
    "        else:\n",
    "          g_x, x, y = egcd(a_x, b_x)\n",
    "\n",
    "          if p_x % g_x != 0 :\n",
    "              continue\n",
    "          \n",
    "          m0 = x * (p_x // g_x)\n",
    "          \n",
    "          for k in range(-1000, 1000):\n",
    "              m_k = m0 + k * (b_x // g_x)\n",
    "              n_k = (p_x - a_x * m_k) // b_x\n",
    "\n",
    "              if m_k >= 0 and n_k >= 0 and (p_y - a_y*m_k) // b_y == n_k :\n",
    "                min_cost = min(min_cost, 3*m_k + n_k)\n",
    "            \n",
    "        if min_cost != float('inf'):\n",
    "            wins += 1\n",
    "            total_cost += min_cost\n",
    "    return total_cost\n",
    "\n",
    "puzzle.answer_b = solve_b_cramer(puzzle.input_data)"
   ]
  }
 ],
 "metadata": {
  "kernelspec": {
   "display_name": "Python 3",
   "language": "python",
   "name": "python3"
  },
  "language_info": {
   "codemirror_mode": {
    "name": "ipython",
    "version": 3
   },
   "file_extension": ".py",
   "mimetype": "text/x-python",
   "name": "python",
   "nbconvert_exporter": "python",
   "pygments_lexer": "ipython3",
   "version": "3.13.1"
  }
 },
 "nbformat": 4,
 "nbformat_minor": 2
}
