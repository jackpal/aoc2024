{
 "cells": [
  {
   "cell_type": "markdown",
   "metadata": {},
   "source": [
    "# Advent of Code 2024\n",
    "\n",
    "[Day 11](https://adventofcode.com/2024/day/11)"
   ]
  },
  {
   "cell_type": "code",
   "execution_count": null,
   "metadata": {},
   "outputs": [],
   "source": [
    "from aocd import puzzle\n",
    "puzzle.url"
   ]
  },
  {
   "cell_type": "code",
   "execution_count": null,
   "metadata": {},
   "outputs": [],
   "source": [
    "def f(n: int):\n",
    "    if n == 0:\n",
    "        return [1]\n",
    "    s = str(n)\n",
    "    l = len(s)\n",
    "    if l % 2 == 0:\n",
    "        return [int(s[: l // 2]), int(s[l // 2 :])]\n",
    "    return [n * 2024]\n",
    "\n",
    "def solve(a: list[int], b: int):\n",
    "    for _ in range(b):\n",
    "        a = [y for x in a for y in f(x)]\n",
    "    return len(a)\n",
    "\n",
    "puzzle.answer_a = solve([int(x) for x in puzzle.input_data.split()], 25)"
   ]
  },
  {
   "cell_type": "code",
   "execution_count": null,
   "metadata": {},
   "outputs": [],
   "source": [
    "puzzle.answer_b = solve([int(x) for x in puzzle.input_data.split()], 75)"
   ]
  },
  {
   "cell_type": "code",
   "execution_count": null,
   "metadata": {},
   "outputs": [],
   "source": [
    "puzzle.answer_a = solve([int(x) for x in puzzle.input_data.split()], 25)"
   ]
  },
  {
   "cell_type": "code",
   "execution_count": null,
   "metadata": {},
   "outputs": [],
   "source": [
    "from functools import lru_cache\n",
    "\n",
    "@lru_cache(maxsize=None)\n",
    "def f(n: int, b: int) -> int:\n",
    "    if b == 0:\n",
    "        return 1\n",
    "    if n == 0:\n",
    "        return f(1, b - 1)\n",
    "    s = str(n)\n",
    "    l = len(s)\n",
    "    if l % 2 == 0:\n",
    "        return f(int(s[: l // 2]), b - 1) + f(int(s[l // 2 :]), b - 1)\n",
    "    return f(n * 2024, b - 1)\n",
    "\n",
    "def solve(a: list[int], b: int):\n",
    "    return sum(f(x, b) for x in a)\n",
    "\n",
    "a = [int(x) for x in puzzle.input_data.split()]\n",
    "puzzle.answer_b = solve(a, 75)\n"
   ]
  }
 ],
 "metadata": {
  "kernelspec": {
   "display_name": "Python 3",
   "language": "python",
   "name": "python3"
  },
  "language_info": {
   "codemirror_mode": {
    "name": "ipython",
    "version": 3
   },
   "file_extension": ".py",
   "mimetype": "text/x-python",
   "name": "python",
   "nbconvert_exporter": "python",
   "pygments_lexer": "ipython3",
   "version": "3.12.4"
  }
 },
 "nbformat": 4,
 "nbformat_minor": 2
}
