{
 "cells": [
  {
   "cell_type": "markdown",
   "metadata": {},
   "source": [
    "# Advent of Code 2024\n",
    "\n",
    "[Day 11](https://adventofcode.com/2024/day/11)"
   ]
  },
  {
   "cell_type": "code",
   "execution_count": null,
   "metadata": {},
   "outputs": [],
   "source": [
    "from aocd.models import Puzzle\n",
    "from pathlib import Path\n",
    "puzzle = Puzzle(year=2024, day=int(Path(__vsc_ipynb_file__).stem))\n",
    "puzzle.url"
   ]
  },
  {
   "cell_type": "code",
   "execution_count": 2,
   "metadata": {},
   "outputs": [],
   "source": [
    "def blink(stones):\n",
    "    new_stones = []\n",
    "    for stone in stones:\n",
    "        s = str(stone)\n",
    "        if stone == 0:\n",
    "            new_stones.append(1)\n",
    "        elif len(s) % 2 == 0:\n",
    "            new_stones.append(int(s[:len(s)//2]))\n",
    "            new_stones.append(int(s[len(s)//2:]))\n",
    "        else:\n",
    "            new_stones.append(stone * 2024)\n",
    "    return new_stones\n",
    "\n",
    "def solve_a(input_data):\n",
    "    stones = [int(x) for x in input_data.split()]\n",
    "    for _ in range(25):\n",
    "        stones = blink(stones)\n",
    "    return len(stones)\n",
    "\n",
    "puzzle.answer_a = solve_a(puzzle.input_data)"
   ]
  },
  {
   "cell_type": "code",
   "execution_count": null,
   "metadata": {},
   "outputs": [],
   "source": [
    "from functools import cache\n",
    "\n",
    "@cache\n",
    "def blink(stones):\n",
    "    if not stones:\n",
    "        return ()\n",
    "    new_stones = []\n",
    "    for stone in stones:\n",
    "        s = str(stone)\n",
    "        if stone == 0:\n",
    "            new_stones.append(1)\n",
    "        elif len(s) % 2 == 0:\n",
    "            new_stones.append(int(s[:len(s)//2]))\n",
    "            new_stones.append(int(s[len(s)//2:]))\n",
    "        else:\n",
    "            new_stones.append(stone * 2024)\n",
    "    return tuple(new_stones)\n",
    "\n",
    "@cache\n",
    "def blink_n_times(stones, n):\n",
    "    if n == 0:\n",
    "        return stones\n",
    "    return blink_n_times(blink(stones), n - 1)\n",
    "\n",
    "def solve_b(input_data):\n",
    "    stones = tuple(int(x) for x in input_data.split())\n",
    "    return len(blink_n_times(stones, 75))\n",
    "\n",
    "puzzle.answer_b = solve_b(puzzle.input_data)"
   ]
  },
  {
   "cell_type": "markdown",
   "metadata": {},
   "source": [
    "Prompt: That's still too slow. Can you think of a different way of counting the stones?"
   ]
  },
  {
   "cell_type": "code",
   "execution_count": 4,
   "metadata": {},
   "outputs": [],
   "source": [
    "from functools import cache\n",
    "\n",
    "@cache\n",
    "def count_stones(stone, n):\n",
    "    if n == 0:\n",
    "        return 1\n",
    "    s = str(stone)\n",
    "    if stone == 0:\n",
    "        return count_stones(1, n - 1)\n",
    "    elif len(s) % 2 == 0:\n",
    "        return count_stones(int(s[:len(s)//2]), n - 1) + \\\n",
    "               count_stones(int(s[len(s)//2:]), n - 1)\n",
    "    else:\n",
    "        return count_stones(stone * 2024, n - 1)\n",
    "\n",
    "def solve_b(input_data):\n",
    "    stones = [int(x) for x in input_data.split()]\n",
    "    total_stones = 0\n",
    "    for stone in stones:\n",
    "        total_stones += count_stones(stone, 75)\n",
    "    return total_stones\n",
    "\n",
    "puzzle.answer_b = solve_b(puzzle.input_data)"
   ]
  }
 ],
 "metadata": {
  "kernelspec": {
   "display_name": "Python 3",
   "language": "python",
   "name": "python3"
  },
  "language_info": {
   "codemirror_mode": {
    "name": "ipython",
    "version": 3
   },
   "file_extension": ".py",
   "mimetype": "text/x-python",
   "name": "python",
   "nbconvert_exporter": "python",
   "pygments_lexer": "ipython3",
   "version": "3.13.1"
  }
 },
 "nbformat": 4,
 "nbformat_minor": 2
}
