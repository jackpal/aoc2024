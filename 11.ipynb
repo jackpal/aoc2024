{
 "cells": [
  {
   "cell_type": "markdown",
   "metadata": {},
   "source": [
    "# Advent of Code 2024\n",
    "\n",
    "[Day 10](https://adventofcode.com/2024/day/10)"
   ]
  },
  {
   "cell_type": "code",
   "execution_count": 2,
   "metadata": {},
   "outputs": [],
   "source": [
    "from aocd import puzzle"
   ]
  },
  {
   "cell_type": "code",
   "execution_count": null,
   "metadata": {},
   "outputs": [],
   "source": [
    "def parse(input):\n",
    "    def parse_line(line):\n",
    "        return [int(a) for a in line.split()]\n",
    "    return [parse_line(line) for line in input.split('\\n')]"
   ]
  },
  {
   "cell_type": "code",
   "execution_count": 6,
   "metadata": {},
   "outputs": [
    {
     "name": "stdout",
     "output_type": "stream",
     "text": [
      "1483\n"
     ]
    }
   ],
   "source": [
    "def solve():\n",
    "    grid = [list(map(int, line)) for line in puzzle.input_data.splitlines()]\n",
    "    rows = len(grid)\n",
    "    cols = len(grid[0])\n",
    "    \n",
    "    def find_paths(r, c, path):\n",
    "      \n",
    "      if not (0 <= r < rows and 0 <= c < cols) or grid[r][c] != len(path) or (r,c) in path:\n",
    "          return 0\n",
    "      \n",
    "      path.add((r,c))\n",
    "\n",
    "      if grid[r][c] == 9:\n",
    "        path.remove((r,c))\n",
    "        return 1\n",
    "      \n",
    "      score = 0\n",
    "\n",
    "      score += find_paths(r + 1, c, path)\n",
    "      score += find_paths(r - 1, c, path)\n",
    "      score += find_paths(r, c + 1, path)\n",
    "      score += find_paths(r, c - 1, path)\n",
    "\n",
    "      path.remove((r,c))\n",
    "      return score\n",
    "\n",
    "    total_score = 0\n",
    "    for r in range(rows):\n",
    "        for c in range(cols):\n",
    "            if grid[r][c] == 0:\n",
    "              total_score += find_paths(r, c, set())\n",
    "    \n",
    "    print(total_score)\n",
    "\n",
    "solve()\n"
   ]
  },
  {
   "cell_type": "code",
   "execution_count": 4,
   "metadata": {},
   "outputs": [
    {
     "name": "stdout",
     "output_type": "stream",
     "text": [
      "\u001b[32mThat's the right answer!  You are one gold star closer to finding the Chief Historian. You got rank 334 on this star's leaderboard. [Continue to Part Two]\u001b[0m\n"
     ]
    }
   ],
   "source": [
    "def solve():\n",
    "    grid = [[int(c) for c in line] for line in puzzle.input_data.split('\\n')]\n",
    "    h, w = len(grid), len(grid[0])\n",
    "\n",
    "    def find_paths(x, y):\n",
    "        q = [(x, y, 0)]\n",
    "        visited = set()\n",
    "        count = 0\n",
    "        while q:\n",
    "            x, y, hgt = q.pop(0)\n",
    "            if (x, y) in visited:\n",
    "                continue\n",
    "            visited.add((x, y))\n",
    "            if hgt == 9:\n",
    "                count += 1\n",
    "                continue\n",
    "            for dx, dy in [(0, 1), (0, -1), (1, 0), (-1, 0)]:\n",
    "                nx, ny = x + dx, y + dy\n",
    "                if 0 <= nx < w and 0 <= ny < h and grid[ny][nx] == hgt + 1:\n",
    "                    q.append((nx, ny, hgt + 1))\n",
    "        return count\n",
    "\n",
    "    total_score = 0\n",
    "    for y in range(h):\n",
    "        for x in range(w):\n",
    "            if grid[y][x] == 0:\n",
    "                total_score += find_paths(x, y)\n",
    "\n",
    "    puzzle.answer_a = total_score\n",
    "\n",
    "solve()\n",
    "\n"
   ]
  },
  {
   "cell_type": "code",
   "execution_count": 5,
   "metadata": {},
   "outputs": [
    {
     "name": "stdout",
     "output_type": "stream",
     "text": [
      "\u001b[32mThat's the right answer!  You are one gold star closer to finding the Chief Historian. You got rank 262 on this star's leaderboard.You have completed Day 10! You can [Shareon\n",
      "  Bluesky\n",
      "Twitter\n",
      "Mastodon] this victory or [Return to Your Advent Calendar].\u001b[0m\n"
     ]
    }
   ],
   "source": [
    "def solve():\n",
    "    grid = [[int(c) for c in line] for line in puzzle.input_data.split('\\n')]\n",
    "    h, w = len(grid), len(grid[0])\n",
    "\n",
    "    def find_paths(x, y):\n",
    "        q = [(x, y, 0, set())]\n",
    "        paths = set()\n",
    "        while q:\n",
    "            x, y, hgt, visited = q.pop()\n",
    "            if hgt == 9:\n",
    "                paths.add(tuple(sorted(visited)))\n",
    "                continue\n",
    "            for dx, dy in [(0, 1), (0, -1), (1, 0), (-1, 0)]:\n",
    "                nx, ny = x + dx, y + dy\n",
    "                if 0 <= nx < w and 0 <= ny < h and grid[ny][nx] == hgt + 1:\n",
    "                    nvisited = visited.copy()\n",
    "                    nvisited.add((nx, ny))\n",
    "                    q.append((nx, ny, hgt + 1, nvisited))\n",
    "        return len(paths)\n",
    "\n",
    "    total_rating = 0\n",
    "    for y in range(h):\n",
    "        for x in range(w):\n",
    "            if grid[y][x] == 0:\n",
    "                total_rating += find_paths(x, y)\n",
    "\n",
    "    puzzle.answer_b = total_rating\n",
    "\n",
    "solve()\n",
    "\n"
   ]
  },
  {
   "cell_type": "code",
   "execution_count": null,
   "metadata": {},
   "outputs": [],
   "source": [
    "def solve_part_a(input):\n",
    "    for line in input:\n",
    "        pass\n",
    "    return None"
   ]
  },
  {
   "cell_type": "code",
   "execution_count": null,
   "metadata": {},
   "outputs": [],
   "source": [
    "puzzle.answer_a = solve_part_a(parse(puzzle.input_data))"
   ]
  },
  {
   "cell_type": "code",
   "execution_count": null,
   "metadata": {},
   "outputs": [],
   "source": [
    "def solve_part_b(input):\n",
    "    for line in input:\n",
    "        pass\n",
    "    return None"
   ]
  },
  {
   "cell_type": "code",
   "execution_count": null,
   "metadata": {},
   "outputs": [],
   "source": [
    "puzzle.answer_b = solve_part_b(parse(puzzle.input_data))"
   ]
  }
 ],
 "metadata": {
  "kernelspec": {
   "display_name": "Python 3",
   "language": "python",
   "name": "python3"
  },
  "language_info": {
   "codemirror_mode": {
    "name": "ipython",
    "version": 3
   },
   "file_extension": ".py",
   "mimetype": "text/x-python",
   "name": "python",
   "nbconvert_exporter": "python",
   "pygments_lexer": "ipython3",
   "version": "3.12.4"
  }
 },
 "nbformat": 4,
 "nbformat_minor": 2
}
