{
 "cells": [
  {
   "cell_type": "markdown",
   "metadata": {},
   "source": [
    "# Advent of Code 2024\n",
    "\n",
    "[Day 5](https://adventofcode.com/2024/day/5)"
   ]
  },
  {
   "cell_type": "code",
   "execution_count": 2,
   "metadata": {},
   "outputs": [
    {
     "data": {
      "text/plain": [
       "'https://adventofcode.com/2024/day/5'"
      ]
     },
     "execution_count": 2,
     "metadata": {},
     "output_type": "execute_result"
    }
   ],
   "source": [
    "from aocd.models import Puzzle\n",
    "puzzle = Puzzle(year=2024, day=5)\n",
    "puzzle.url"
   ]
  },
  {
   "cell_type": "code",
   "execution_count": null,
   "metadata": {},
   "outputs": [],
   "source": [
    "from functools import cmp_to_key\n",
    "import itertools"
   ]
  },
  {
   "cell_type": "code",
   "execution_count": 3,
   "metadata": {},
   "outputs": [],
   "source": [
    "example = \"\"\"47|53\n",
    "97|13\n",
    "97|61\n",
    "97|47\n",
    "75|29\n",
    "61|13\n",
    "75|53\n",
    "29|13\n",
    "97|29\n",
    "53|29\n",
    "61|53\n",
    "97|53\n",
    "61|29\n",
    "47|13\n",
    "75|47\n",
    "97|75\n",
    "47|61\n",
    "75|61\n",
    "47|29\n",
    "75|13\n",
    "53|13\n",
    "\n",
    "75,47,61,53,29\n",
    "97,61,53,29,13\n",
    "75,29,13\n",
    "75,97,47,61,53\n",
    "61,13,29\n",
    "97,13,75,29,47\"\"\"\n",
    "\n",
    "example_answer_a = 143"
   ]
  },
  {
   "cell_type": "code",
   "execution_count": null,
   "metadata": {},
   "outputs": [],
   "source": [
    "def parse(input):\n",
    "    def parse_line(line,sep):\n",
    "        return tuple(int(a) for a in line.split(sep))\n",
    "    \n",
    "    parts = input.split('\\n\\n')\n",
    "    return tuple(tuple(parse_line(line,sep) for line in parts[i].split('\\n')) for i,sep in enumerate('|,'))"
   ]
  },
  {
   "cell_type": "code",
   "execution_count": null,
   "metadata": {},
   "outputs": [],
   "source": [
    "parse(example)"
   ]
  },
  {
   "cell_type": "code",
   "execution_count": null,
   "metadata": {},
   "outputs": [],
   "source": [
    "def solve_part_a(input):\n",
    "    orders, updates = input\n",
    "    order_set = set(orders)\n",
    "    def is_valid_update(update):\n",
    "        for a in itertools.combinations(update, 2):\n",
    "            if (a[1], a[0]) in order_set:\n",
    "                return False\n",
    "        return True\n",
    "    def mid_update(update):\n",
    "        return update[len(update)//2]\n",
    "    return sum(mid_update(update) for update in updates if is_valid_update(update))"
   ]
  },
  {
   "cell_type": "code",
   "execution_count": null,
   "metadata": {},
   "outputs": [],
   "source": [
    "assert(solve_part_a(parse(example)) == example_answer_a)"
   ]
  },
  {
   "cell_type": "code",
   "execution_count": null,
   "metadata": {},
   "outputs": [],
   "source": [
    "puzzle.answer_a = solve_part_a(parse(puzzle.input_data))"
   ]
  },
  {
   "cell_type": "code",
   "execution_count": null,
   "metadata": {},
   "outputs": [],
   "source": [
    "example_answer_b = 123"
   ]
  },
  {
   "cell_type": "code",
   "execution_count": 51,
   "metadata": {},
   "outputs": [],
   "source": [
    "def solve_part_b(input):\n",
    "    orders, updates = input\n",
    "    order_set = set(orders)\n",
    "    def is_valid_update(update):\n",
    "        for a in itertools.combinations(update, 2):\n",
    "            if (a[1], a[0]) in order_set:\n",
    "                return False\n",
    "        return True\n",
    "    def mid_update(update):\n",
    "        return update[len(update)//2]\n",
    "    def compare_lt(a,b):\n",
    "        if (a,b) in order_set:\n",
    "            return -1\n",
    "        return 0\n",
    "    def create_valid_update(update):\n",
    "        return sorted(update, key=cmp_to_key(compare_lt))\n",
    "    return sum(mid_update(create_valid_update(update)) for update in updates if not is_valid_update(update))"
   ]
  },
  {
   "cell_type": "code",
   "execution_count": 52,
   "metadata": {},
   "outputs": [],
   "source": [
    "assert(solve_part_b(parse(example)) == example_answer_b)"
   ]
  },
  {
   "cell_type": "code",
   "execution_count": 53,
   "metadata": {},
   "outputs": [],
   "source": [
    "puzzle.answer_b = solve_part_b(parse(puzzle.input_data))"
   ]
  },
  {
   "cell_type": "markdown",
   "metadata": {},
   "source": [
    "# Gemini\n",
    "\n",
    "Mostly right -- got is_valid_update code backwards."
   ]
  },
  {
   "cell_type": "code",
   "execution_count": null,
   "metadata": {},
   "outputs": [],
   "source": [
    "def solve():\n",
    "    puzzle.answer_a = calculate_middle_page_sum(puzzle.input_data)\n",
    "\n",
    "def calculate_middle_page_sum(input_data):\n",
    "    rules_str, updates_str = input_data.split(\"\\n\\n\")\n",
    "    rules = parse_rules(rules_str)\n",
    "    updates = parse_updates(updates_str)\n",
    "    valid_updates = [u for u in updates if is_valid_update(u, rules)]\n",
    "    print(valid_updates)\n",
    "    middle_pages = [u[len(u) // 2] for u in valid_updates]\n",
    "    return sum(middle_pages)\n",
    "\n",
    "def parse_rules(rules_str):\n",
    "    rules = {}\n",
    "    for line in rules_str.splitlines():\n",
    "        a, b = map(int, line.split(\"|\"))\n",
    "        if a not in rules:\n",
    "            rules[a] = []\n",
    "        rules[a].append(b)\n",
    "    return rules\n",
    "\n",
    "def parse_updates(updates_str):\n",
    "    return [[int(p) for p in line.split(\",\")] for line in updates_str.splitlines()]\n",
    "\n",
    "def is_valid_update(update, rules):\n",
    "    for i in range(len(update)):\n",
    "        for j in range(i + 1, len(update)):\n",
    "            if update[j] in rules and update[i] in rules[update[j]]:\n",
    "                return False\n",
    "    return True\n",
    "\n",
    "solve()\n"
   ]
  },
  {
   "cell_type": "code",
   "execution_count": null,
   "metadata": {},
   "outputs": [],
   "source": [
    "print(calculate_middle_page_sum(example))"
   ]
  },
  {
   "cell_type": "code",
   "execution_count": 9,
   "metadata": {},
   "outputs": [],
   "source": [
    "def sort_update(update, rules):\n",
    "    n = len(update)\n",
    "    for i in range(n):\n",
    "        for j in range(0, n - i - 1):\n",
    "            if update[j] in rules and update[j+1] in rules.get(update[j], []):\n",
    "                 update[j], update[j + 1] = update[j + 1], update[j]\n",
    "    return update\n",
    "\n",
    "def calculate_middle_page_sum_invalid(input_data):\n",
    "    rules_str, updates_str = input_data.split(\"\\n\\n\")\n",
    "    rules = parse_rules(rules_str)\n",
    "    updates = parse_updates(updates_str)\n",
    "    invalid_updates = [u for u in updates if not is_valid_update(u, rules)]\n",
    "    sorted_updates = [sort_update(u, rules) for u in invalid_updates]\n",
    "    middle_pages = [u[len(u) // 2] for u in sorted_updates]\n",
    "    return sum(middle_pages)\n",
    "\n",
    "puzzle.answer_b = calculate_middle_page_sum_invalid(puzzle.input_data)\n"
   ]
  },
  {
   "cell_type": "code",
   "execution_count": null,
   "metadata": {},
   "outputs": [],
   "source": [
    "def solve_a(d):\n",
    "  r, u = d.split('\\n\\n')\n",
    "  R = {}\n",
    "  for l in r.splitlines():\n",
    "    x, y = map(int, l.split('|'))\n",
    "    if x not in R:\n",
    "      R[x] = set()\n",
    "    R[x].add(y)\n",
    "  s = 0\n",
    "  for l in u.splitlines():\n",
    "    U = list(map(int, l.split(',')))\n",
    "    ok = True\n",
    "    for i in range(len(U)):\n",
    "      for j in range(i + 1, len(U)):\n",
    "        if U[j] in R and U[i] in R[U[j]]:\n",
    "           ok = False\n",
    "    if ok:\n",
    "      s += U[len(U) // 2]\n",
    "  return s\n",
    "puzzle.answer_a = solve_a(puzzle.input_data)\n",
    "\n",
    "def solve_b(d):\n",
    "  r, u = d.split('\\n\\n')\n",
    "  R = {}\n",
    "  for l in r.splitlines():\n",
    "    x, y = map(int, l.split('|'))\n",
    "    if x not in R:\n",
    "      R[x] = set()\n",
    "    R[x].add(y)\n",
    "  s = 0\n",
    "  for l in u.splitlines():\n",
    "    U = list(map(int, l.split(',')))\n",
    "    for i in range(len(U)):\n",
    "        for j in range(i + 1, len(U)):\n",
    "            if U[i] in R and U[j] in R[U[i]]:\n",
    "                pass\n",
    "            else:\n",
    "                if U[j] in R and U[i] in R[U[j]]:\n",
    "                    U[i], U[j] = U[j], U[i]\n",
    "\n",
    "    s += U[len(U) // 2]\n",
    "  return s\n",
    "\n",
    "puzzle.answer_b = solve_b(puzzle.input_data)"
   ]
  }
 ],
 "metadata": {
  "kernelspec": {
   "display_name": "Python 3",
   "language": "python",
   "name": "python3"
  },
  "language_info": {
   "codemirror_mode": {
    "name": "ipython",
    "version": 3
   },
   "file_extension": ".py",
   "mimetype": "text/x-python",
   "name": "python",
   "nbconvert_exporter": "python",
   "pygments_lexer": "ipython3",
   "version": "3.12.4"
  }
 },
 "nbformat": 4,
 "nbformat_minor": 2
}
