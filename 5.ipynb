{
 "cells": [
  {
   "cell_type": "markdown",
   "metadata": {},
   "source": [
    "# Advent of Code 2024\n",
    "\n",
    "[Day 5](https://adventofcode.com/2024/day/5)"
   ]
  },
  {
   "cell_type": "code",
   "execution_count": 48,
   "metadata": {},
   "outputs": [],
   "source": [
    "from aocd import puzzle\n",
    "from functools import cmp_to_key\n",
    "import itertools"
   ]
  },
  {
   "cell_type": "code",
   "execution_count": null,
   "metadata": {},
   "outputs": [],
   "source": [
    "example = \"\"\"47|53\n",
    "97|13\n",
    "97|61\n",
    "97|47\n",
    "75|29\n",
    "61|13\n",
    "75|53\n",
    "29|13\n",
    "97|29\n",
    "53|29\n",
    "61|53\n",
    "97|53\n",
    "61|29\n",
    "47|13\n",
    "75|47\n",
    "97|75\n",
    "47|61\n",
    "75|61\n",
    "47|29\n",
    "75|13\n",
    "53|13\n",
    "\n",
    "75,47,61,53,29\n",
    "97,61,53,29,13\n",
    "75,29,13\n",
    "75,97,47,61,53\n",
    "61,13,29\n",
    "97,13,75,29,47\"\"\"\n",
    "\n",
    "example_answer_a = 143"
   ]
  },
  {
   "cell_type": "code",
   "execution_count": null,
   "metadata": {},
   "outputs": [],
   "source": [
    "def parse(input):\n",
    "    def parse_line(line,sep):\n",
    "        return tuple(int(a) for a in line.split(sep))\n",
    "    \n",
    "    parts = input.split('\\n\\n')\n",
    "    return tuple(tuple(parse_line(line,sep) for line in parts[i].split('\\n')) for i,sep in enumerate('|,'))"
   ]
  },
  {
   "cell_type": "code",
   "execution_count": null,
   "metadata": {},
   "outputs": [],
   "source": [
    "parse(example)"
   ]
  },
  {
   "cell_type": "code",
   "execution_count": null,
   "metadata": {},
   "outputs": [],
   "source": [
    "def solve_part_a(input):\n",
    "    orders, updates = input\n",
    "    order_set = set(orders)\n",
    "    def is_valid_update(update):\n",
    "        for a in itertools.combinations(update, 2):\n",
    "            if (a[1], a[0]) in order_set:\n",
    "                return False\n",
    "        return True\n",
    "    def mid_update(update):\n",
    "        return update[len(update)//2]\n",
    "    return sum(mid_update(update) for update in updates if is_valid_update(update))"
   ]
  },
  {
   "cell_type": "code",
   "execution_count": null,
   "metadata": {},
   "outputs": [],
   "source": [
    "assert(solve_part_a(parse(example)) == example_answer_a)"
   ]
  },
  {
   "cell_type": "code",
   "execution_count": null,
   "metadata": {},
   "outputs": [],
   "source": [
    "puzzle.answer_a = solve_part_a(parse(puzzle.input_data))"
   ]
  },
  {
   "cell_type": "code",
   "execution_count": null,
   "metadata": {},
   "outputs": [],
   "source": [
    "example_answer_b = 123"
   ]
  },
  {
   "cell_type": "code",
   "execution_count": 51,
   "metadata": {},
   "outputs": [],
   "source": [
    "def solve_part_b(input):\n",
    "    orders, updates = input\n",
    "    order_set = set(orders)\n",
    "    def is_valid_update(update):\n",
    "        for a in itertools.combinations(update, 2):\n",
    "            if (a[1], a[0]) in order_set:\n",
    "                return False\n",
    "        return True\n",
    "    def mid_update(update):\n",
    "        return update[len(update)//2]\n",
    "    def compare_lt(a,b):\n",
    "        if (a,b) in order_set:\n",
    "            return -1\n",
    "        return 0\n",
    "    def create_valid_update(update):\n",
    "        return sorted(update, key=cmp_to_key(compare_lt))\n",
    "    return sum(mid_update(create_valid_update(update)) for update in updates if not is_valid_update(update))"
   ]
  },
  {
   "cell_type": "code",
   "execution_count": 52,
   "metadata": {},
   "outputs": [],
   "source": [
    "assert(solve_part_b(parse(example)) == example_answer_b)"
   ]
  },
  {
   "cell_type": "code",
   "execution_count": 53,
   "metadata": {},
   "outputs": [],
   "source": [
    "puzzle.answer_b = solve_part_b(parse(puzzle.input_data))"
   ]
  }
 ],
 "metadata": {
  "kernelspec": {
   "display_name": "Python 3",
   "language": "python",
   "name": "python3"
  },
  "language_info": {
   "codemirror_mode": {
    "name": "ipython",
    "version": 3
   },
   "file_extension": ".py",
   "mimetype": "text/x-python",
   "name": "python",
   "nbconvert_exporter": "python",
   "pygments_lexer": "ipython3",
   "version": "3.12.4"
  }
 },
 "nbformat": 4,
 "nbformat_minor": 2
}
