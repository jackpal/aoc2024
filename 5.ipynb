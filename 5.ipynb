{
 "cells": [
  {
   "cell_type": "markdown",
   "metadata": {},
   "source": [
    "# Advent of Code 2024\n",
    "\n",
    "[Day 5](https://adventofcode.com/2024/day/5)"
   ]
  },
  {
   "cell_type": "code",
   "execution_count": 1,
   "metadata": {},
   "outputs": [
    {
     "data": {
      "text/plain": [
       "'https://adventofcode.com/2024/day/5'"
      ]
     },
     "execution_count": 1,
     "metadata": {},
     "output_type": "execute_result"
    }
   ],
   "source": [
    "from aocd.models import Puzzle\n",
    "puzzle = Puzzle(year=2024, day=5)\n",
    "puzzle.url"
   ]
  },
  {
   "cell_type": "code",
   "execution_count": 2,
   "metadata": {},
   "outputs": [],
   "source": [
    "def solve_a(i):\n",
    "  r, u = i.split('\\n\\n')\n",
    "  rl = [(int(x), int(y)) for x, y in [l.split('|') for l in r.splitlines()]]\n",
    "  ul = [[int(n) for n in l.split(',')] for l in u.splitlines()]\n",
    "\n",
    "  def c(up, rl):\n",
    "    for i in range(len(up)):\n",
    "      for j in range(i + 1, len(up)):\n",
    "        if (up[j], up[i]) in rl:\n",
    "          return False\n",
    "    return True\n",
    "\n",
    "  t = 0\n",
    "  for up in ul:\n",
    "    if c(up, rl):\n",
    "      t += up[len(up) // 2]\n",
    "  return t\n",
    "\n",
    "puzzle.answer_a = solve_a(puzzle.input_data)"
   ]
  },
  {
   "cell_type": "code",
   "execution_count": 3,
   "metadata": {},
   "outputs": [],
   "source": [
    "def solve_b(i):\n",
    "  r, u = i.split('\\n\\n')\n",
    "  rl = [(int(x), int(y)) for x, y in [l.split('|') for l in r.splitlines()]]\n",
    "  ul = [[int(n) for n in l.split(',')] for l in u.splitlines()]\n",
    "\n",
    "  def c(up, rl):\n",
    "    for i in range(len(up)):\n",
    "      for j in range(i + 1, len(up)):\n",
    "        if (up[j], up[i]) in rl:\n",
    "          return False\n",
    "    return True\n",
    "\n",
    "  def s(up, rl):\n",
    "    g = {p: [] for p in up}\n",
    "    for a, b in rl:\n",
    "      if a in up and b in up:\n",
    "        g[a].append(b)\n",
    "    st = []\n",
    "    v = set()\n",
    "\n",
    "    def dfs(n):\n",
    "      v.add(n)\n",
    "      for nei in g[n]:\n",
    "        if nei not in v:\n",
    "          dfs(nei)\n",
    "      st.append(n)\n",
    "\n",
    "    for n in up:\n",
    "      if n not in v:\n",
    "        dfs(n)\n",
    "    return st[::-1]\n",
    "\n",
    "  t = 0\n",
    "  for up in ul:\n",
    "    if not c(up, rl):\n",
    "      su = s(up, rl)\n",
    "      t += su[len(su) // 2]\n",
    "  return t\n",
    "\n",
    "puzzle.answer_b = solve_b(puzzle.input_data)"
   ]
  }
 ],
 "metadata": {
  "kernelspec": {
   "display_name": "Python 3",
   "language": "python",
   "name": "python3"
  },
  "language_info": {
   "codemirror_mode": {
    "name": "ipython",
    "version": 3
   },
   "file_extension": ".py",
   "mimetype": "text/x-python",
   "name": "python",
   "nbconvert_exporter": "python",
   "pygments_lexer": "ipython3",
   "version": "3.13.1"
  }
 },
 "nbformat": 4,
 "nbformat_minor": 2
}
