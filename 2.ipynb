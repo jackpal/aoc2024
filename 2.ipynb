{
 "cells": [
  {
   "cell_type": "markdown",
   "metadata": {},
   "source": [
    "# Advent of Code 2024\n",
    "\n",
    "[Day 2](https://adventofcode.com/2024/day/2)"
   ]
  },
  {
   "cell_type": "code",
   "execution_count": 1,
   "metadata": {},
   "outputs": [
    {
     "data": {
      "text/plain": [
       "'https://adventofcode.com/2024/day/2'"
      ]
     },
     "execution_count": 1,
     "metadata": {},
     "output_type": "execute_result"
    }
   ],
   "source": [
    "from aocd.models import Puzzle\n",
    "puzzle = Puzzle(year=2024, day=2)\n",
    "puzzle.url"
   ]
  },
  {
   "cell_type": "code",
   "execution_count": 2,
   "metadata": {},
   "outputs": [],
   "source": [
    "def parse(input):\n",
    "    a = []\n",
    "    for line in input.split('\\n'):\n",
    "        items = [int(a) for a in line.split()]\n",
    "        a.append(items)\n",
    "    return a"
   ]
  },
  {
   "cell_type": "code",
   "execution_count": 3,
   "metadata": {},
   "outputs": [],
   "source": [
    "def count_safe(input):\n",
    "    def is_safe(report):\n",
    "        diffs = [report[i] - report[i+1] for i in range(len(report)-1)]\n",
    "        minDiff, maxDiff = min(diffs), max(diffs)\n",
    "        return 1 <= minDiff and maxDiff <= 3 or -3 <= minDiff and maxDiff <= -1\n",
    "    safe = 0\n",
    "    for report in input:\n",
    "        if is_safe(report):\n",
    "            safe += 1\n",
    "    return safe"
   ]
  },
  {
   "cell_type": "code",
   "execution_count": 4,
   "metadata": {},
   "outputs": [
    {
     "name": "stdout",
     "output_type": "stream",
     "text": [
      "\u001b[32mThat's the right answer!  You are one gold star closer to finding the Chief Historian. [Continue to Part Two]\u001b[0m\n"
     ]
    }
   ],
   "source": [
    "puzzle.answer_a = count_safe(parse(puzzle.input_data))"
   ]
  },
  {
   "cell_type": "code",
   "execution_count": 8,
   "metadata": {},
   "outputs": [],
   "source": [
    "def count_damped_safe(input):\n",
    "    def is_safe(report):\n",
    "        diffs = [report[i] - report[i+1] for i in range(len(report)-1)]\n",
    "        minDiff, maxDiff = min(diffs), max(diffs)\n",
    "        return 1 <= minDiff and maxDiff <= 3 or -3 <= minDiff and maxDiff <= -1\n",
    "    def is_damped_safe(report):\n",
    "        if is_safe(report):\n",
    "            return True\n",
    "        for cut in range(len(report)):\n",
    "            cut_report = report[:]\n",
    "            del cut_report[cut]\n",
    "            if is_safe(cut_report):\n",
    "                return True\n",
    "        return False\n",
    "    safe = 0\n",
    "    for report in input:\n",
    "        if is_damped_safe(report):\n",
    "            safe += 1\n",
    "    return safe"
   ]
  },
  {
   "cell_type": "code",
   "execution_count": 9,
   "metadata": {},
   "outputs": [
    {
     "name": "stdout",
     "output_type": "stream",
     "text": [
      "\u001b[32mThat's the right answer!  You are one gold star closer to finding the Chief Historian.You have completed Day 2! You can [Shareon\n",
      "  Bluesky\n",
      "Twitter\n",
      "Mastodon] this victory or [Return to Your Advent Calendar].\u001b[0m\n"
     ]
    }
   ],
   "source": [
    "puzzle.answer_b = count_damped_safe(parse(puzzle.input_data))"
   ]
  },
  {
   "cell_type": "markdown",
   "metadata": {},
   "source": [
    "# Gemini"
   ]
  },
  {
   "cell_type": "code",
   "execution_count": 2,
   "metadata": {},
   "outputs": [],
   "source": [
    "def is_safe(lvls):\n",
    "    d = all(1 <= lvls[i] - lvls[i + 1] <= 3 for i in range(len(lvls) - 1))\n",
    "    i = all(1 <= lvls[i + 1] - lvls[i] <= 3 for i in range(len(lvls) - 1))\n",
    "    return d or i\n",
    "\n",
    "def solve_a(d):\n",
    "    return sum(is_safe(list(map(int, l.split()))) for l in d.splitlines())\n",
    "\n",
    "def is_safe_with_removal(lvls):\n",
    "    for i in range(len(lvls)):\n",
    "        if is_safe(lvls[:i] + lvls[i + 1:]):\n",
    "            return True\n",
    "    return False\n",
    "\n",
    "def solve_b(d):\n",
    "    return sum(is_safe(l) or is_safe_with_removal(l) for l in [list(map(int, line.split())) for line in d.splitlines()])\n",
    "\n",
    "puzzle.answer_a = solve_a(puzzle.input_data)\n",
    "puzzle.answer_b = solve_b(puzzle.input_data)\n"
   ]
  }
 ],
 "metadata": {
  "kernelspec": {
   "display_name": "Python 3",
   "language": "python",
   "name": "python3"
  },
  "language_info": {
   "codemirror_mode": {
    "name": "ipython",
    "version": 3
   },
   "file_extension": ".py",
   "mimetype": "text/x-python",
   "name": "python",
   "nbconvert_exporter": "python",
   "pygments_lexer": "ipython3",
   "version": "3.12.4"
  }
 },
 "nbformat": 4,
 "nbformat_minor": 2
}
