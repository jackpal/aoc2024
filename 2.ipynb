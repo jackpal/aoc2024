{
 "cells": [
  {
   "cell_type": "markdown",
   "metadata": {},
   "source": [
    "# Advent of Code 2024\n",
    "\n",
    "[Day 2](https://adventofcode.com/2024/day/2)"
   ]
  },
  {
   "cell_type": "code",
   "execution_count": 1,
   "metadata": {},
   "outputs": [
    {
     "data": {
      "text/plain": [
       "'https://adventofcode.com/2024/day/2'"
      ]
     },
     "execution_count": 1,
     "metadata": {},
     "output_type": "execute_result"
    }
   ],
   "source": [
    "from aocd.models import Puzzle\n",
    "puzzle = Puzzle(year=2024, day=2)\n",
    "puzzle.url"
   ]
  },
  {
   "cell_type": "code",
   "execution_count": 2,
   "metadata": {},
   "outputs": [],
   "source": [
    "def solve_a(d):\n",
    "  def is_safe(r):\n",
    "    diffs = [r[i] - r[i - 1] for i in range(1, len(r))]\n",
    "    if all(d > 0 for d in diffs):\n",
    "      return all(1 <= d <= 3 for d in diffs)\n",
    "    if all(d < 0 for d in diffs):\n",
    "      return all(-3 <= d <= -1 for d in diffs)\n",
    "    return False\n",
    "\n",
    "  return sum(is_safe([int(x) for x in l.split()]) for l in d.splitlines())\n",
    "puzzle.answer_a = solve_a(puzzle.input_data)"
   ]
  },
  {
   "cell_type": "code",
   "execution_count": 3,
   "metadata": {},
   "outputs": [
    {
     "ename": "NameError",
     "evalue": "name 'is_safe' is not defined",
     "output_type": "error",
     "traceback": [
      "\u001b[0;31m---------------------------------------------------------------------------\u001b[0m",
      "\u001b[0;31mNameError\u001b[0m                                 Traceback (most recent call last)",
      "Cell \u001b[0;32mIn[3], line 15\u001b[0m\n\u001b[1;32m      9\u001b[0m     \u001b[38;5;28;01mreturn\u001b[39;00m \u001b[38;5;28;01mFalse\u001b[39;00m\n\u001b[1;32m     11\u001b[0m   \u001b[38;5;28;01mreturn\u001b[39;00m \u001b[38;5;28msum\u001b[39m(\n\u001b[1;32m     12\u001b[0m       is_safe_with_removal([\u001b[38;5;28mint\u001b[39m(x) \u001b[38;5;28;01mfor\u001b[39;00m x \u001b[38;5;129;01min\u001b[39;00m l\u001b[38;5;241m.\u001b[39msplit()])\n\u001b[1;32m     13\u001b[0m       \u001b[38;5;28;01mfor\u001b[39;00m l \u001b[38;5;129;01min\u001b[39;00m d\u001b[38;5;241m.\u001b[39msplitlines()\n\u001b[1;32m     14\u001b[0m   )\n\u001b[0;32m---> 15\u001b[0m puzzle\u001b[38;5;241m.\u001b[39manswer_b \u001b[38;5;241m=\u001b[39m \u001b[43msolve_b\u001b[49m\u001b[43m(\u001b[49m\u001b[43mpuzzle\u001b[49m\u001b[38;5;241;43m.\u001b[39;49m\u001b[43minput_data\u001b[49m\u001b[43m)\u001b[49m\n",
      "Cell \u001b[0;32mIn[3], line 11\u001b[0m, in \u001b[0;36msolve_b\u001b[0;34m(d)\u001b[0m\n\u001b[1;32m      8\u001b[0m       \u001b[38;5;28;01mreturn\u001b[39;00m \u001b[38;5;28;01mTrue\u001b[39;00m\n\u001b[1;32m      9\u001b[0m   \u001b[38;5;28;01mreturn\u001b[39;00m \u001b[38;5;28;01mFalse\u001b[39;00m\n\u001b[0;32m---> 11\u001b[0m \u001b[38;5;28;01mreturn\u001b[39;00m \u001b[38;5;28;43msum\u001b[39;49m\u001b[43m(\u001b[49m\n\u001b[1;32m     12\u001b[0m \u001b[43m    \u001b[49m\u001b[43mis_safe_with_removal\u001b[49m\u001b[43m(\u001b[49m\u001b[43m[\u001b[49m\u001b[38;5;28;43mint\u001b[39;49m\u001b[43m(\u001b[49m\u001b[43mx\u001b[49m\u001b[43m)\u001b[49m\u001b[43m \u001b[49m\u001b[38;5;28;43;01mfor\u001b[39;49;00m\u001b[43m \u001b[49m\u001b[43mx\u001b[49m\u001b[43m \u001b[49m\u001b[38;5;129;43;01min\u001b[39;49;00m\u001b[43m \u001b[49m\u001b[43ml\u001b[49m\u001b[38;5;241;43m.\u001b[39;49m\u001b[43msplit\u001b[49m\u001b[43m(\u001b[49m\u001b[43m)\u001b[49m\u001b[43m]\u001b[49m\u001b[43m)\u001b[49m\n\u001b[1;32m     13\u001b[0m \u001b[43m    \u001b[49m\u001b[38;5;28;43;01mfor\u001b[39;49;00m\u001b[43m \u001b[49m\u001b[43ml\u001b[49m\u001b[43m \u001b[49m\u001b[38;5;129;43;01min\u001b[39;49;00m\u001b[43m \u001b[49m\u001b[43md\u001b[49m\u001b[38;5;241;43m.\u001b[39;49m\u001b[43msplitlines\u001b[49m\u001b[43m(\u001b[49m\u001b[43m)\u001b[49m\n\u001b[1;32m     14\u001b[0m \u001b[43m\u001b[49m\u001b[43m)\u001b[49m\n",
      "Cell \u001b[0;32mIn[3], line 12\u001b[0m, in \u001b[0;36m<genexpr>\u001b[0;34m(.0)\u001b[0m\n\u001b[1;32m      8\u001b[0m       \u001b[38;5;28;01mreturn\u001b[39;00m \u001b[38;5;28;01mTrue\u001b[39;00m\n\u001b[1;32m      9\u001b[0m   \u001b[38;5;28;01mreturn\u001b[39;00m \u001b[38;5;28;01mFalse\u001b[39;00m\n\u001b[1;32m     11\u001b[0m \u001b[38;5;28;01mreturn\u001b[39;00m \u001b[38;5;28msum\u001b[39m(\n\u001b[0;32m---> 12\u001b[0m     \u001b[43mis_safe_with_removal\u001b[49m\u001b[43m(\u001b[49m\u001b[43m[\u001b[49m\u001b[38;5;28;43mint\u001b[39;49m\u001b[43m(\u001b[49m\u001b[43mx\u001b[49m\u001b[43m)\u001b[49m\u001b[43m \u001b[49m\u001b[38;5;28;43;01mfor\u001b[39;49;00m\u001b[43m \u001b[49m\u001b[43mx\u001b[49m\u001b[43m \u001b[49m\u001b[38;5;129;43;01min\u001b[39;49;00m\u001b[43m \u001b[49m\u001b[43ml\u001b[49m\u001b[38;5;241;43m.\u001b[39;49m\u001b[43msplit\u001b[49m\u001b[43m(\u001b[49m\u001b[43m)\u001b[49m\u001b[43m]\u001b[49m\u001b[43m)\u001b[49m\n\u001b[1;32m     13\u001b[0m     \u001b[38;5;28;01mfor\u001b[39;00m l \u001b[38;5;129;01min\u001b[39;00m d\u001b[38;5;241m.\u001b[39msplitlines()\n\u001b[1;32m     14\u001b[0m )\n",
      "Cell \u001b[0;32mIn[3], line 3\u001b[0m, in \u001b[0;36msolve_b.<locals>.is_safe_with_removal\u001b[0;34m(r)\u001b[0m\n\u001b[1;32m      2\u001b[0m \u001b[38;5;28;01mdef\u001b[39;00m \u001b[38;5;21mis_safe_with_removal\u001b[39m(r):\n\u001b[0;32m----> 3\u001b[0m   \u001b[38;5;28;01mif\u001b[39;00m \u001b[43mis_safe\u001b[49m(r):\n\u001b[1;32m      4\u001b[0m     \u001b[38;5;28;01mreturn\u001b[39;00m \u001b[38;5;28;01mTrue\u001b[39;00m\n\u001b[1;32m      5\u001b[0m   \u001b[38;5;28;01mfor\u001b[39;00m i \u001b[38;5;129;01min\u001b[39;00m \u001b[38;5;28mrange\u001b[39m(\u001b[38;5;28mlen\u001b[39m(r)):\n",
      "\u001b[0;31mNameError\u001b[0m: name 'is_safe' is not defined"
     ]
    }
   ],
   "source": [
    "def solve_a(d):\n",
    "  def is_safe(r):\n",
    "    diffs = [r[i] - r[i - 1] for i in range(1, len(r))]\n",
    "    if all(d > 0 for d in diffs):\n",
    "      return all(1 <= d <= 3 for d in diffs)\n",
    "    if all(d < 0 for d in diffs):\n",
    "      return all(-3 <= d <= -1 for d in diffs)\n",
    "    return False\n",
    "\n",
    "  return sum(is_safe([int(x) for x in l.split()]) for l in d.splitlines())\n",
    "\n",
    "def solve_b(d):\n",
    "  def is_safe_with_removal(r):\n",
    "    if is_safe(r):\n",
    "      return True\n",
    "    for i in range(len(r)):\n",
    "      temp_r = r[:i] + r[i + 1 :]\n",
    "      if is_safe(temp_r):\n",
    "        return True\n",
    "    return False\n",
    "\n",
    "  return sum(\n",
    "      is_safe_with_removal([int(x) for x in l.split()])\n",
    "      for l in d.splitlines()\n",
    "  )\n",
    "puzzle.answer_b = solve_b(puzzle.input_data)"
   ]
  },
  {
   "cell_type": "markdown",
   "metadata": {},
   "source": [
    "Prompt: \"is_safe is not defined in solve_b"
   ]
  },
  {
   "cell_type": "code",
   "execution_count": 4,
   "metadata": {},
   "outputs": [],
   "source": [
    "def solve_a(d):\n",
    "  def is_safe(r):\n",
    "    diffs = [r[i] - r[i - 1] for i in range(1, len(r))]\n",
    "    if all(d > 0 for d in diffs):\n",
    "      return all(1 <= d <= 3 for d in diffs)\n",
    "    if all(d < 0 for d in diffs):\n",
    "      return all(-3 <= d <= -1 for d in diffs)\n",
    "    return False\n",
    "\n",
    "  return sum(is_safe([int(x) for x in l.split()]) for l in d.splitlines())\n",
    "puzzle.answer_a = solve_a(puzzle.input_data)\n",
    "\n",
    "def solve_b(d):\n",
    "  def is_safe(r):\n",
    "    diffs = [r[i] - r[i - 1] for i in range(1, len(r))]\n",
    "    if all(d > 0 for d in diffs):\n",
    "      return all(1 <= d <= 3 for d in diffs)\n",
    "    if all(d < 0 for d in diffs):\n",
    "      return all(-3 <= d <= -1 for d in diffs)\n",
    "    return False\n",
    "  \n",
    "  def is_safe_with_removal(r):\n",
    "    if is_safe(r):\n",
    "      return True\n",
    "    for i in range(len(r)):\n",
    "      temp_r = r[:i] + r[i + 1 :]\n",
    "      if is_safe(temp_r):\n",
    "        return True\n",
    "    return False\n",
    "\n",
    "  return sum(\n",
    "      is_safe_with_removal([int(x) for x in l.split()])\n",
    "      for l in d.splitlines()\n",
    "  )\n",
    "puzzle.answer_b = solve_b(puzzle.input_data)"
   ]
  }
 ],
 "metadata": {
  "kernelspec": {
   "display_name": "Python 3",
   "language": "python",
   "name": "python3"
  },
  "language_info": {
   "codemirror_mode": {
    "name": "ipython",
    "version": 3
   },
   "file_extension": ".py",
   "mimetype": "text/x-python",
   "name": "python",
   "nbconvert_exporter": "python",
   "pygments_lexer": "ipython3",
   "version": "3.13.1"
  }
 },
 "nbformat": 4,
 "nbformat_minor": 2
}
