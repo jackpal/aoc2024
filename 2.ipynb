{
 "cells": [
  {
   "cell_type": "markdown",
   "metadata": {},
   "source": [
    "# Advent of Code 2024\n",
    "\n",
    "[Day 2](https://adventofcode.com/2024/day/2)"
   ]
  },
  {
   "cell_type": "code",
   "execution_count": 1,
   "metadata": {},
   "outputs": [],
   "source": [
    "from aocd import puzzle"
   ]
  },
  {
   "cell_type": "code",
   "execution_count": 2,
   "metadata": {},
   "outputs": [],
   "source": [
    "def parse(input):\n",
    "    a = []\n",
    "    for line in input.split('\\n'):\n",
    "        items = [int(a) for a in line.split()]\n",
    "        a.append(items)\n",
    "    return a"
   ]
  },
  {
   "cell_type": "code",
   "execution_count": 3,
   "metadata": {},
   "outputs": [],
   "source": [
    "def count_safe(input):\n",
    "    def is_safe(report):\n",
    "        diffs = [report[i] - report[i+1] for i in range(len(report)-1)]\n",
    "        minDiff, maxDiff = min(diffs), max(diffs)\n",
    "        return 1 <= minDiff and maxDiff <= 3 or -3 <= minDiff and maxDiff <= -1\n",
    "    safe = 0\n",
    "    for report in input:\n",
    "        if is_safe(report):\n",
    "            safe += 1\n",
    "    return safe"
   ]
  },
  {
   "cell_type": "code",
   "execution_count": 4,
   "metadata": {},
   "outputs": [
    {
     "name": "stdout",
     "output_type": "stream",
     "text": [
      "\u001b[32mThat's the right answer!  You are one gold star closer to finding the Chief Historian. [Continue to Part Two]\u001b[0m\n"
     ]
    }
   ],
   "source": [
    "puzzle.answer_a = count_safe(parse(puzzle.input_data))"
   ]
  },
  {
   "cell_type": "code",
   "execution_count": 8,
   "metadata": {},
   "outputs": [],
   "source": [
    "def count_damped_safe(input):\n",
    "    def is_safe(report):\n",
    "        diffs = [report[i] - report[i+1] for i in range(len(report)-1)]\n",
    "        minDiff, maxDiff = min(diffs), max(diffs)\n",
    "        return 1 <= minDiff and maxDiff <= 3 or -3 <= minDiff and maxDiff <= -1\n",
    "    def is_damped_safe(report):\n",
    "        if is_safe(report):\n",
    "            return True\n",
    "        for cut in range(len(report)):\n",
    "            cut_report = report[:]\n",
    "            del cut_report[cut]\n",
    "            if is_safe(cut_report):\n",
    "                return True\n",
    "        return False\n",
    "    safe = 0\n",
    "    for report in input:\n",
    "        if is_damped_safe(report):\n",
    "            safe += 1\n",
    "    return safe"
   ]
  },
  {
   "cell_type": "code",
   "execution_count": 9,
   "metadata": {},
   "outputs": [
    {
     "name": "stdout",
     "output_type": "stream",
     "text": [
      "\u001b[32mThat's the right answer!  You are one gold star closer to finding the Chief Historian.You have completed Day 2! You can [Shareon\n",
      "  Bluesky\n",
      "Twitter\n",
      "Mastodon] this victory or [Return to Your Advent Calendar].\u001b[0m\n"
     ]
    }
   ],
   "source": [
    "puzzle.answer_b = count_damped_safe(parse(puzzle.input_data))"
   ]
  }
 ],
 "metadata": {
  "kernelspec": {
   "display_name": "Python 3",
   "language": "python",
   "name": "python3"
  },
  "language_info": {
   "codemirror_mode": {
    "name": "ipython",
    "version": 3
   },
   "file_extension": ".py",
   "mimetype": "text/x-python",
   "name": "python",
   "nbconvert_exporter": "python",
   "pygments_lexer": "ipython3",
   "version": "3.12.4"
  }
 },
 "nbformat": 4,
 "nbformat_minor": 2
}
