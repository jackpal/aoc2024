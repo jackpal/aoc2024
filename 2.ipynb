{
 "cells": [
  {
   "cell_type": "markdown",
   "metadata": {},
   "source": [
    "# Advent of Code 2024\n",
    "\n",
    "[Day 2](https://adventofcode.com/2024/day/2)"
   ]
  },
  {
   "cell_type": "code",
   "execution_count": 1,
   "metadata": {},
   "outputs": [
    {
     "data": {
      "text/plain": [
       "'https://adventofcode.com/2024/day/2'"
      ]
     },
     "execution_count": 1,
     "metadata": {},
     "output_type": "execute_result"
    }
   ],
   "source": [
    "from aocd.models import Puzzle\n",
    "puzzle = Puzzle(year=2024, day=2)\n",
    "puzzle.url"
   ]
  },
  {
   "cell_type": "code",
   "execution_count": 2,
   "metadata": {},
   "outputs": [],
   "source": [
    "from aocd.models import Puzzle\n",
    "from pathlib import Path\n",
    "\n",
    "puzzle = Puzzle(year=2024, day=int(Path(__vsc_ipynb_file__).stem))\n",
    "\n",
    "def is_safe(r):\n",
    "  d = [r[i+1]-r[i] for i in range(len(r)-1)]\n",
    "  inc = all(x>0 for x in d)\n",
    "  dec = all(x<0 for x in d)\n",
    "  return (inc or dec) and all(1<=abs(x)<=3 for x in d)\n",
    "\n",
    "s = 0\n",
    "for line in puzzle.input_data.split('\\n'):\n",
    "  r = [int(x) for x in line.split()]\n",
    "  if is_safe(r):\n",
    "    s+=1\n",
    "puzzle.answer_a = s"
   ]
  },
  {
   "cell_type": "code",
   "execution_count": null,
   "metadata": {},
   "outputs": [],
   "source": [
    "def is_safe(r):\n",
    "  d = [r[i+1]-r[i] for i in range(len(r)-1)]\n",
    "  inc = all(x>0 for x in d)\n",
    "  dec = all(x<0 for x in d)\n",
    "  return (inc or dec) and all(1<=abs(x)<=3 for x in d)\n",
    "\n",
    "def solve_b(d):\n",
    "    s = 0\n",
    "    for line in d.split('\\n'):\n",
    "        r = [int(x) for x in line.split()]\n",
    "        if is_safe(r):\n",
    "            s += 1\n",
    "        else:\n",
    "            for i in range(len(r)):\n",
    "                if is_safe(r[:i] + r[i+1:]):\n",
    "                    s += 1\n",
    "                    break\n",
    "    return s\n",
    "\n",
    "puzzle.answer_b = solve_b(puzzle.input_data)"
   ]
  }
 ],
 "metadata": {
  "kernelspec": {
   "display_name": "Python 3",
   "language": "python",
   "name": "python3"
  },
  "language_info": {
   "codemirror_mode": {
    "name": "ipython",
    "version": 3
   },
   "file_extension": ".py",
   "mimetype": "text/x-python",
   "name": "python",
   "nbconvert_exporter": "python",
   "pygments_lexer": "ipython3",
   "version": "3.13.1"
  }
 },
 "nbformat": 4,
 "nbformat_minor": 2
}
