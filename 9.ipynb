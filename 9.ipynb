{
 "cells": [
  {
   "cell_type": "markdown",
   "metadata": {},
   "source": [
    "# Advent of Code 2024\n",
    "\n",
    "[Day 9](https://adventofcode.com/2024/day/9)"
   ]
  },
  {
   "cell_type": "code",
   "execution_count": null,
   "metadata": {},
   "outputs": [],
   "source": [
    "from aocd.models import Puzzle\n",
    "from pathlib import Path\n",
    "puzzle = Puzzle(year=2024, day=int(Path(__vsc_ipynb_file__).stem))\n",
    "puzzle.url"
   ]
  },
  {
   "cell_type": "code",
   "execution_count": null,
   "metadata": {},
   "outputs": [],
   "source": [
    "def solve_a(d):\n",
    "  fs = []\n",
    "  fid = 0\n",
    "  i = 0\n",
    "  while i < len(d):\n",
    "    fl = int(d[i])\n",
    "    fs.extend([fid] * fl)\n",
    "    fid += 1\n",
    "    i += 1\n",
    "    if i < len(d):\n",
    "      sl = int(d[i])\n",
    "      fs.extend([-1] * sl)\n",
    "      i += 1\n",
    "  while True:\n",
    "    li = -1\n",
    "    fi = -1\n",
    "    for i in range(len(fs) - 1, -1, -1):\n",
    "      if fs[i] != -1:\n",
    "        li = i\n",
    "        break\n",
    "    for i in range(len(fs)):\n",
    "      if fs[i] == -1:\n",
    "        fi = i\n",
    "        break\n",
    "    if fi == -1 or fi > li:\n",
    "      break\n",
    "    fs[fi], fs[li] = fs[li], fs[fi]\n",
    "  cs = 0\n",
    "  for i in range(len(fs)):\n",
    "    if fs[i] != -1:\n",
    "      cs += i * fs[i]\n",
    "  return cs\n",
    "puzzle.answer_a = solve_a(puzzle.input_data.strip())"
   ]
  },
  {
   "cell_type": "code",
   "execution_count": 13,
   "metadata": {},
   "outputs": [],
   "source": [
    "def solve_b(d):\n",
    "  fs = []\n",
    "  fls = {}\n",
    "  fid = 0\n",
    "  i = 0\n",
    "  while i < len(d):\n",
    "    fl = int(d[i])\n",
    "    fs.extend([fid] * fl)\n",
    "    fls[fid] = fl\n",
    "    fid += 1\n",
    "    i += 1\n",
    "    if i < len(d):\n",
    "      sl = int(d[i])\n",
    "      fs.extend([-1] * sl)\n",
    "      i += 1\n",
    "  for fid in range(len(fls) - 1, -1, -1):\n",
    "    li = -1\n",
    "    ri = -1\n",
    "    for i in range(len(fs)):\n",
    "      if fs[i] == fid:\n",
    "        if li == -1:\n",
    "          li = i\n",
    "        ri = i\n",
    "    fl = fls[fid]\n",
    "    fi = -1\n",
    "    for i in range(li):\n",
    "      ok = True\n",
    "      for j in range(fl):\n",
    "        if i + j >= len(fs) or fs[i + j] != -1:\n",
    "          ok = False\n",
    "          break\n",
    "      if ok:\n",
    "        fi = i\n",
    "        break\n",
    "    if fi != -1:\n",
    "      for i in range(fl):\n",
    "        fs[fi + i], fs[li + i] = fs[li + i], fs[fi + i]\n",
    "  cs = 0\n",
    "  for i in range(len(fs)):\n",
    "    if fs[i] != -1:\n",
    "      cs += i * fs[i]\n",
    "  return cs\n",
    "puzzle.answer_b = solve_b(puzzle.input_data.strip())"
   ]
  }
 ],
 "metadata": {
  "kernelspec": {
   "display_name": "Python 3",
   "language": "python",
   "name": "python3"
  },
  "language_info": {
   "codemirror_mode": {
    "name": "ipython",
    "version": 3
   },
   "file_extension": ".py",
   "mimetype": "text/x-python",
   "name": "python",
   "nbconvert_exporter": "python",
   "pygments_lexer": "ipython3",
   "version": "3.13.1"
  }
 },
 "nbformat": 4,
 "nbformat_minor": 2
}
