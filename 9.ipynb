{
 "cells": [
  {
   "cell_type": "markdown",
   "metadata": {},
   "source": [
    "# Advent of Code 2024\n",
    "\n",
    "[Day 9](https://adventofcode.com/2024/day/9)"
   ]
  },
  {
   "cell_type": "code",
   "execution_count": null,
   "metadata": {},
   "outputs": [],
   "source": [
    "from aocd import puzzle"
   ]
  },
  {
   "cell_type": "code",
   "execution_count": null,
   "metadata": {},
   "outputs": [],
   "source": [
    "example = \"\"\"2333133121414131402\"\"\""
   ]
  },
  {
   "cell_type": "code",
   "execution_count": null,
   "metadata": {},
   "outputs": [],
   "source": [
    "def parse(input):\n",
    "    return [int(c) for c in input.strip()]\n"
   ]
  },
  {
   "cell_type": "code",
   "execution_count": null,
   "metadata": {},
   "outputs": [],
   "source": [
    "parse(example)"
   ]
  },
  {
   "cell_type": "code",
   "execution_count": null,
   "metadata": {},
   "outputs": [],
   "source": [
    "def solve_part_a(input):\n",
    "    disk = []\n",
    "    id = 0\n",
    "    zz = 0\n",
    "    while zz < len(input):\n",
    "        used = input[zz]\n",
    "        zz += 1\n",
    "        for i in range(used):\n",
    "            disk.append(id)\n",
    "        id += 1\n",
    "        if zz < len(input):\n",
    "            free = input[zz]\n",
    "            zz += 1\n",
    "            for i in range(free):\n",
    "                disk.append(-1)\n",
    "    print(disk)\n",
    "    a, b = 0, len(disk)-1\n",
    "    while a < b:\n",
    "        if disk[a] > -1:\n",
    "            a += 1\n",
    "        elif disk[b] > -1:\n",
    "            disk[a] = disk[b]\n",
    "            disk[b] = -1\n",
    "            b -= 1\n",
    "            a += 1\n",
    "        else:\n",
    "            b -= 1\n",
    "    \n",
    "    print(disk)\n",
    "    sum = 0\n",
    "    for i in range(len(disk)):\n",
    "        c = disk[i]\n",
    "        if c == -1:\n",
    "            break\n",
    "        sum += i * c\n",
    "    return sum\n",
    "\n",
    "print(solve_part_a(parse(example)))\n"
   ]
  },
  {
   "cell_type": "code",
   "execution_count": null,
   "metadata": {},
   "outputs": [],
   "source": [
    "puzzle.answer_a = solve_part_a(parse(puzzle.input_data))"
   ]
  },
  {
   "cell_type": "code",
   "execution_count": null,
   "metadata": {},
   "outputs": [],
   "source": [
    "def solve_part_b(input):\n",
    "    def print_disk(disk):\n",
    "        for file_start_index, file_len, id in disk:\n",
    "            for i in range(file_len):\n",
    "                if id == -1:\n",
    "                    print('.', end=',')\n",
    "                else:\n",
    "                    print(id,end=\",\")\n",
    "        print()\n",
    "\n",
    "    # (start_index, len, id) \n",
    "    disk = []\n",
    "    id = 0\n",
    "    blocks = 0\n",
    "    zz = 0\n",
    "    while zz < len(input):\n",
    "        used = input[zz]\n",
    "        zz += 1\n",
    "        disk.append((blocks, used, id))\n",
    "        blocks += used\n",
    "        id += 1\n",
    "        if zz < len(input):\n",
    "            free = input[zz]\n",
    "            zz += 1\n",
    "            disk.append((blocks, free, -1))\n",
    "            blocks += free\n",
    "    # print_disk(disk)\n",
    "\n",
    "    file_index = len(disk)-1\n",
    "    most_recent_block_attempted_to_move = None\n",
    "    while file_index >= 0:\n",
    "        file_start_index, file_len, id = disk[file_index]\n",
    "        if id == -1:\n",
    "            file_index -= 1\n",
    "            continue\n",
    "        if most_recent_block_attempted_to_move != None and id >= most_recent_block_attempted_to_move:\n",
    "            file_index -= 1\n",
    "            continue\n",
    "        most_recent_block_attempted_to_move = id\n",
    "        free_index = 0\n",
    "        while free_index < file_index:\n",
    "            free_start_index, free_len, free_id = disk[free_index]\n",
    "            if free_id != -1:\n",
    "                free_index += 1\n",
    "                continue\n",
    "            # if (free_start_index + free_len) == file_start_index:\n",
    "            #     # The blocks are adjacent, so swap places\n",
    "            #     assert(free_index + 1 == file_index)\n",
    "            #     disk[free_index] = (free_start_index, file_len, id)\n",
    "            #     disk[file_index] = (file_start_index, free_len, -1)\n",
    "            #     break\n",
    "            # el\n",
    "            if free_len >= file_len:\n",
    "                # move file to new location\n",
    "                disk[free_index] = (free_start_index, file_len, id)\n",
    "                # erase old location\n",
    "                disk[file_index] = (file_start_index, file_len, -1)\n",
    "                if free_len == file_len:\n",
    "                    # The blocks are not adjacent, but there's no leftover space in the free space\n",
    "                    pass\n",
    "                else:\n",
    "                    # add free block afterwards\n",
    "                    assert(disk[free_index+1][2] != -1)\n",
    "                    disk.insert(free_index+1, (free_start_index+file_len, free_len-file_len, -1))\n",
    "                # combine old position with nearby free blocks if possible.\n",
    "                if file_index + 1 < len(disk) and disk[file_index+1][2] == -1:\n",
    "                    del disk[file_index]\n",
    "                    a, b, c = disk[file_index]\n",
    "                    disk[file_index] = (a, b + file_len, c)\n",
    "                if disk[file_index-1][2] == -1:\n",
    "                    del disk[file_index]\n",
    "                    a, b, c = disk[file_index-1]\n",
    "                    disk[file_index-1] = (a, b + file_len, c)\n",
    "                break\n",
    "            else:\n",
    "                free_index += 1\n",
    "        file_index -= 1\n",
    "    #     print_disk(disk)\n",
    "    # print_disk(disk)\n",
    "    sum = 0\n",
    "    for file_start_index, file_len, id in disk:\n",
    "        if id == -1:\n",
    "            continue\n",
    "        for i in range(file_len):\n",
    "            sum += id * (file_start_index + i)\n",
    "    return sum\n",
    "\n",
    "solve_part_b(parse(example))"
   ]
  },
  {
   "cell_type": "code",
   "execution_count": null,
   "metadata": {},
   "outputs": [],
   "source": [
    "puzzle.answer_b = solve_part_b(parse(puzzle.input_data))"
   ]
  }
 ],
 "metadata": {
  "kernelspec": {
   "display_name": "Python 3",
   "language": "python",
   "name": "python3"
  },
  "language_info": {
   "codemirror_mode": {
    "name": "ipython",
    "version": 3
   },
   "file_extension": ".py",
   "mimetype": "text/x-python",
   "name": "python",
   "nbconvert_exporter": "python",
   "pygments_lexer": "ipython3",
   "version": "3.12.4"
  }
 },
 "nbformat": 4,
 "nbformat_minor": 2
}
