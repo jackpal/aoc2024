{
 "cells": [
  {
   "cell_type": "markdown",
   "metadata": {},
   "source": [
    "# Advent of Code 2024"
   ]
  },
  {
   "cell_type": "code",
   "execution_count": 2,
   "metadata": {},
   "outputs": [
    {
     "data": {
      "text/plain": [
       "'https://adventofcode.com/2024/day/19'"
      ]
     },
     "execution_count": 2,
     "metadata": {},
     "output_type": "execute_result"
    }
   ],
   "source": [
    "from aocd.models import Puzzle\n",
    "from pathlib import Path\n",
    "puzzle = Puzzle(year=2024, day=int(Path(__vsc_ipynb_file__).stem))\n",
    "puzzle.url"
   ]
  },
  {
   "cell_type": "markdown",
   "metadata": {},
   "source": [
    "# Part 1"
   ]
  },
  {
   "cell_type": "code",
   "execution_count": 4,
   "metadata": {},
   "outputs": [],
   "source": [
    "example = \"\"\"r, wr, b, g, bwu, rb, gb, br\n",
    "\n",
    "brwrr\n",
    "bggr\n",
    "gbbr\n",
    "rrbgbr\n",
    "ubwu\n",
    "bwurrg\n",
    "brgr\n",
    "bbrgwb\"\"\""
   ]
  },
  {
   "cell_type": "code",
   "execution_count": null,
   "metadata": {},
   "outputs": [],
   "source": [
    "from functools import cache\n",
    "\n",
    "def solve_a(d):\n",
    "  p, ds = d.split('\\n\\n')\n",
    "  p = p.split(', ')\n",
    "  @cache\n",
    "  def c(d):\n",
    "    if not d:\n",
    "      return True\n",
    "    for t in p:\n",
    "      if d.startswith(t) and c(d[len(t):]):\n",
    "        return True\n",
    "    return False\n",
    "  return sum(c(d) for d in ds.splitlines())\n",
    "\n",
    "print(solve_a(example))\n",
    "puzzle.answer_a = solve_a(puzzle.input_data)"
   ]
  },
  {
   "cell_type": "markdown",
   "metadata": {},
   "source": [
    "prompted flash thinking"
   ]
  },
  {
   "cell_type": "code",
   "execution_count": 3,
   "metadata": {},
   "outputs": [],
   "source": [
    "def solve_a(input_data):\n",
    "    parts = input_data.split('\\n\\n')\n",
    "    patterns = set(p.strip() for p in parts[0].split(','))\n",
    "    designs = parts[1].strip().splitlines()\n",
    "\n",
    "    def can_build(design, patterns):\n",
    "        n = len(design)\n",
    "        dp = [False] * (n + 1)\n",
    "        dp[0] = True\n",
    "        for i in range(1, n + 1):\n",
    "            for p in patterns:\n",
    "                if i >= len(p) and dp[i - len(p)] and design[i - len(p):i] == p:\n",
    "                    dp[i] = True\n",
    "                    break\n",
    "        return dp[n]\n",
    "\n",
    "    count = 0\n",
    "    for design in designs:\n",
    "        if can_build(design, patterns):\n",
    "            count += 1\n",
    "    return count\n",
    "\n",
    "puzzle.answer_a = solve_a(puzzle.input_data)"
   ]
  },
  {
   "cell_type": "markdown",
   "metadata": {},
   "source": [
    "# Part 2"
   ]
  },
  {
   "cell_type": "code",
   "execution_count": null,
   "metadata": {},
   "outputs": [],
   "source": [
    "from functools import cache\n",
    "\n",
    "def solve_b(d):\n",
    "  p, ds = d.split('\\n\\n')\n",
    "  p = p.split(', ')\n",
    "  @cache\n",
    "  def c(d):\n",
    "    if not d:\n",
    "      return 1\n",
    "    s = 0\n",
    "    for t in p:\n",
    "      if d.startswith(t):\n",
    "        s += c(d[len(t):])\n",
    "    return s\n",
    "  return sum(c(d) for d in ds.splitlines())\n",
    "\n",
    "puzzle.answer_b = solve_b(puzzle.input_data)"
   ]
  },
  {
   "cell_type": "markdown",
   "metadata": {},
   "source": [
    "part 2 gemini thinking\n"
   ]
  },
  {
   "cell_type": "code",
   "execution_count": 4,
   "metadata": {},
   "outputs": [],
   "source": [
    "from functools import cache\n",
    "\n",
    "def solve_b(input_data):\n",
    "    parts = input_data.split('\\n\\n')\n",
    "    patterns = tuple(p.strip() for p in parts[0].split(','))\n",
    "    designs = parts[1].strip().splitlines()\n",
    "\n",
    "    @cache\n",
    "    def num_ways(design):\n",
    "        if not design:\n",
    "            return 1\n",
    "        ways = 0\n",
    "        for p in patterns:\n",
    "            if design.startswith(p):\n",
    "                ways += num_ways(design[len(p):])\n",
    "        return ways\n",
    "\n",
    "    total_ways = 0\n",
    "    for design in designs:\n",
    "        total_ways += num_ways(design)\n",
    "        num_ways.cache_clear()  # Clear cache for each design\n",
    "    return total_ways\n",
    "\n",
    "puzzle.answer_b = solve_b(puzzle.input_data)"
   ]
  }
 ],
 "metadata": {
  "kernelspec": {
   "display_name": "Python 3",
   "language": "python",
   "name": "python3"
  },
  "language_info": {
   "codemirror_mode": {
    "name": "ipython",
    "version": 3
   },
   "file_extension": ".py",
   "mimetype": "text/x-python",
   "name": "python",
   "nbconvert_exporter": "python",
   "pygments_lexer": "ipython3",
   "version": "3.13.1"
  }
 },
 "nbformat": 4,
 "nbformat_minor": 2
}
