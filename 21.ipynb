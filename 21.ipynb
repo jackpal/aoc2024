{
 "cells": [
  {
   "cell_type": "markdown",
   "metadata": {},
   "source": [
    "# Advent of Code 2024"
   ]
  },
  {
   "cell_type": "code",
   "execution_count": 1,
   "metadata": {},
   "outputs": [
    {
     "data": {
      "text/plain": [
       "'https://adventofcode.com/2024/day/21'"
      ]
     },
     "execution_count": 1,
     "metadata": {},
     "output_type": "execute_result"
    }
   ],
   "source": [
    "from aocd.models import Puzzle\n",
    "from pathlib import Path\n",
    "puzzle = Puzzle(year=2024, day=int(Path(__vsc_ipynb_file__).stem))\n",
    "puzzle.url"
   ]
  },
  {
   "cell_type": "markdown",
   "metadata": {},
   "source": [
    "# Part 1"
   ]
  },
  {
   "cell_type": "code",
   "execution_count": 6,
   "metadata": {},
   "outputs": [],
   "source": [
    "example = \"\"\"\"\"\""
   ]
  },
  {
   "cell_type": "code",
   "execution_count": 16,
   "metadata": {},
   "outputs": [
    {
     "name": "stdout",
     "output_type": "stream",
     "text": [
      "Code: 029A\n",
      "  Keypad Path: <A^A>^^AvvvA\n",
      "  Robot 1 Path: <<vA>>^A<A>AvA<^AA>A<vAAA>^A\n",
      "  Robot 2 Path: <<vAA>A>^AvAA<^A>A<<vA>>^AvA^A<vA>^A<<vA>^A>AAvA^A<<vA>A>^AAAvA<^A>A\n",
      "  My Path Length: 68 x 29\n",
      "  Complexity: 1972\n",
      "Code: 980A\n",
      "  Keypad Path: ^^^A<AvvvA>A\n",
      "  Robot 1 Path: <AAA>A<<vA>>^A<vAAA>^AvA^A\n",
      "  Robot 2 Path: <<vA>>^AAAvA^A<<vAA>A>^AvAA<^A>A<<vA>A>^AAAvA<^A>A<vA>^A<A>A\n",
      "  My Path Length: 60 x 980\n",
      "  Complexity: 58800\n",
      "Code: 179A\n",
      "  Keypad Path: <<^A^^A>>AvvvA\n",
      "  Robot 1 Path: <<vAA>^A>A<AA>AvAA^A<vAAA>^A\n",
      "  Robot 2 Path: <<vAA>A>^AAvA<^A>AvA^A<<vA>>^AAvA^A<vA>^AA<A>A<<vA>A>^AAAvA<^A>A\n",
      "  My Path Length: 64 x 179\n",
      "  Complexity: 11456\n",
      "Code: 456A\n",
      "  Keypad Path: <<^^A>A>AvvA\n",
      "  Robot 1 Path: <<vAA>^AA>AvA^AvA^A<vAA>^A\n",
      "  Robot 2 Path: <<vAA>A>^AAvA<^A>AAvA^A<vA>^A<A>A<vA>^A<A>A<<vA>A>^AAvA<^A>A\n",
      "  My Path Length: 60 x 456\n",
      "  Complexity: 27360\n",
      "Code: 379A\n",
      "  Keypad Path: ^A<<^^A>>AvvvA\n",
      "  Robot 1 Path: <A>A<<vAA>^AA>AvAA^A<vAAA>^A\n",
      "  Robot 2 Path: <<vA>>^AvA^A<<vAA>A>^AAvA<^A>AAvA^A<vA>^AA<A>A<<vA>A>^AAAvA<^A>A\n",
      "  My Path Length: 64 x 379\n",
      "  Complexity: 24256\n"
     ]
    },
    {
     "data": {
      "text/plain": [
       "123844"
      ]
     },
     "execution_count": 16,
     "metadata": {},
     "output_type": "execute_result"
    }
   ],
   "source": [
    "def solve_a(input_data):\n",
    "    keypads = [\n",
    "        ['789', '456', '123', ' 0A'],\n",
    "        [' ^A', '<v>'],\n",
    "        [' ^A', '<v>'],\n",
    "        [' ^A', '<v>'],\n",
    "    ]\n",
    "    moves = {'^': (-1, 0), 'v': (1, 0), '<': (0, -1), '>': (0, 1)}\n",
    "\n",
    "    def initialize_keypad_coords(keypads):\n",
    "        keypad_coords = []\n",
    "        for keypad in keypads:\n",
    "            coords = {}\n",
    "            for r, row in enumerate(keypad):\n",
    "                for c, k in enumerate(row):\n",
    "                    if k != ' ':\n",
    "                        coords[k] = (r, c)\n",
    "            keypad_coords.append(coords)\n",
    "        return keypad_coords\n",
    "\n",
    "    keypad_coords = initialize_keypad_coords(keypads)\n",
    "\n",
    "    def find_path(keypad_idx, start, end):\n",
    "        path = \"\"\n",
    "        start_r, start_c = start\n",
    "        end_r, end_c = end\n",
    "\n",
    "        while start_c != end_c:\n",
    "            if start_c < end_c:\n",
    "                path += \">\"\n",
    "                start_c += 1\n",
    "            else:\n",
    "                path += \"<\"\n",
    "                start_c -= 1\n",
    "\n",
    "        while start_r != end_r:\n",
    "            if start_r < end_r:\n",
    "                path += \"v\"\n",
    "                start_r += 1\n",
    "            else:\n",
    "                path += \"^\"\n",
    "                start_r -= 1\n",
    "\n",
    "        return path\n",
    "\n",
    "    def solve_code(code, curr_pos):\n",
    "        keypad_path = []\n",
    "        for digit in code:\n",
    "            target_pos = keypad_coords[0][digit]\n",
    "            path = find_path(0, curr_pos, target_pos)\n",
    "            keypad_path.append(path + 'A')\n",
    "            curr_pos = target_pos\n",
    "        return ''.join(keypad_path), curr_pos\n",
    "\n",
    "    def solve_keypad_path(keypad_idx, path, curr_pos):\n",
    "        robot_path = []\n",
    "        for move in path:\n",
    "            target_pos = keypad_coords[keypad_idx][move]\n",
    "            path_segment = find_path(keypad_idx, curr_pos, target_pos)\n",
    "            robot_path.append(path_segment + 'A')\n",
    "            curr_pos = target_pos\n",
    "        return ''.join(robot_path), curr_pos\n",
    "\n",
    "    total_complexity = 0\n",
    "    curr_pos_keypad = keypad_coords[0]['A']\n",
    "    curr_pos_robot1 = keypad_coords[1]['A']\n",
    "    curr_pos_robot2 = keypad_coords[2]['A']\n",
    "    for code in input_data.splitlines():\n",
    "        keypad_path, curr_pos_keypad = solve_code(code, curr_pos_keypad)\n",
    "        robot1_path, curr_pos_robot1 = solve_keypad_path(1, keypad_path, curr_pos_robot1)\n",
    "        robot2_path, curr_pos_robot2 = solve_keypad_path(2, robot1_path, curr_pos_robot2)\n",
    "        my_path_len = len(robot2_path)\n",
    "        complexity = my_path_len * int(code[:-1])\n",
    "        total_complexity += complexity\n",
    "\n",
    "        print(f\"Code: {code}\")\n",
    "        print(f\"  Keypad Path: {keypad_path}\")\n",
    "        print(f\"  Robot 1 Path: {robot1_path}\")\n",
    "        print(f\"  Robot 2 Path: {robot2_path}\")\n",
    "        print(f\"  My Path Length: {my_path_len} x {int(code[:-1])}\")\n",
    "        print(f\"  Complexity: {complexity}\")\n",
    "\n",
    "    return total_complexity\n",
    "\n",
    "# puzzle.answer_a = solve_a(puzzle.input_data)\n",
    "# puzzle.answer_a = solve_a(puzzle.input_data)\n",
    "\n",
    "solve_a(\"\"\"029A\n",
    "980A\n",
    "179A\n",
    "456A\n",
    "379A\"\"\")"
   ]
  },
  {
   "cell_type": "markdown",
   "metadata": {},
   "source": [
    "# Part 2"
   ]
  },
  {
   "cell_type": "code",
   "execution_count": null,
   "metadata": {},
   "outputs": [],
   "source": []
  }
 ],
 "metadata": {
  "kernelspec": {
   "display_name": "Python 3",
   "language": "python",
   "name": "python3"
  },
  "language_info": {
   "codemirror_mode": {
    "name": "ipython",
    "version": 3
   },
   "file_extension": ".py",
   "mimetype": "text/x-python",
   "name": "python",
   "nbconvert_exporter": "python",
   "pygments_lexer": "ipython3",
   "version": "3.13.1"
  }
 },
 "nbformat": 4,
 "nbformat_minor": 2
}
