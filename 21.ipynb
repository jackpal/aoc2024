{
 "cells": [
  {
   "cell_type": "markdown",
   "metadata": {},
   "source": [
    "# Advent of Code 2024"
   ]
  },
  {
   "cell_type": "code",
   "execution_count": 48,
   "metadata": {},
   "outputs": [
    {
     "data": {
      "text/plain": [
       "'https://adventofcode.com/2024/day/21'"
      ]
     },
     "execution_count": 48,
     "metadata": {},
     "output_type": "execute_result"
    }
   ],
   "source": [
    "from aocd.models import Puzzle\n",
    "from pathlib import Path\n",
    "puzzle = Puzzle(year=2024, day=int(Path(__vsc_ipynb_file__).stem))\n",
    "puzzle.url"
   ]
  },
  {
   "cell_type": "markdown",
   "metadata": {},
   "source": [
    "# Part 1"
   ]
  },
  {
   "cell_type": "code",
   "execution_count": 53,
   "metadata": {},
   "outputs": [],
   "source": [
    "example = \"\"\"029A\n",
    "980A\n",
    "179A\n",
    "456A\n",
    "379A\"\"\""
   ]
  },
  {
   "cell_type": "code",
   "execution_count": 56,
   "metadata": {},
   "outputs": [
    {
     "name": "stdout",
     "output_type": "stream",
     "text": [
      "126384\n",
      "Code: 149A\n",
      "Path 1: v<<A>>^Av<A<A>>^AAvAA<^A>Av<<A>>^AvA^Av<A>^AAv<<A>^A>AvA^Av<A<A>>^AAAvA<^A>A, Length: 76\n",
      "Path 2: <Av<AA>>^A<A>AvAA<^A>Av<AAA>^A, Length: 30\n",
      "Path 3: ^<<A^A>>^AvvvA, Length: 14\n",
      "--------------------\n",
      "Code: 582A\n",
      "Path 1: v<A<AA>>^AvA<^A>AAvA^Av<<A>>^AvA^Av<A<A>>^AAvA<^A>Av<A<A>>^AvA^A<A>A, Length: 68\n",
      "Path 2: v<<A>^AA>A<A>Av<AA>^Av<A>A^A, Length: 28\n",
      "Path 3: <^^A^AvvAv>A, Length: 12\n",
      "--------------------\n",
      "Code: 540A\n",
      "Path 1: v<A<AA>>^AvA<^A>AAvA^Av<A<AA>>^AvAA<^A>Av<A>^Av<<A>>^AAvA<^A>Av<A>^A<A>A, Length: 72\n",
      "Path 2: v<<A>^AA>Av<<A>>^AvA<AA>^AvA^A, Length: 30\n",
      "Path 3: <^^A<A>vvA>A, Length: 12\n",
      "--------------------\n",
      "Code: 246A\n",
      "Path 1: v<A<AA>>^AvA<^A>AvA^Av<A<AA>>^AvA<^A>AvA^Av<A>^AA<A>Av<A<A>>^AAvA<^A>A, Length: 70\n",
      "Path 2: v<<A>^A>Av<<A>^A>AvAA^Av<AA>^A, Length: 30\n",
      "Path 3: <^A<^A>>AvvA, Length: 12\n",
      "--------------------\n",
      "Code: 805A\n",
      "Path 1: v<A<AA>>^AvA<^A>AAAvA^Av<A<A>>^AAAvA<^A>Av<<A>>^AAvA^Av<A<A>>^AAvA^A<A>A, Length: 72\n",
      "Path 2: v<<A>^AAA>Av<AAA>^A<AA>Av<AA>A^A, Length: 32\n",
      "Path 3: <^^^AvvvA^^Avv>A, Length: 16\n",
      "--------------------\n",
      "\u001b[32mThat's the right answer!  You are one gold star closer to finding the Chief Historian. [Continue to Part Two]\u001b[0m\n"
     ]
    }
   ],
   "source": [
    "def find_path(keypad, start, end):\n",
    "    def get_pos(keypad, target):\n",
    "        for y, row in enumerate(keypad):\n",
    "            for x, val in enumerate(row):\n",
    "                if val == target:\n",
    "                    return (x, y)\n",
    "        return None\n",
    "\n",
    "    start_pos = get_pos(keypad, start)\n",
    "    end_pos = get_pos(keypad, end)\n",
    "\n",
    "    if not start_pos or not end_pos:\n",
    "        return None\n",
    "\n",
    "    dx = end_pos[0] - start_pos[0]\n",
    "    dy = end_pos[1] - start_pos[1]\n",
    "\n",
    "    path1 = \"\"\n",
    "    if dx > 0:\n",
    "        path1 += \">\" * dx\n",
    "    else:\n",
    "        path1 += \"<\" * abs(dx)\n",
    "    if dy > 0:\n",
    "        path1 += \"v\" * dy\n",
    "    else:\n",
    "        path1 += \"^\" * abs(dy)\n",
    "\n",
    "    path2 = \"\"\n",
    "    if dy > 0:\n",
    "        path2 += \"v\" * dy\n",
    "    else:\n",
    "        path2 += \"^\" * abs(dy)\n",
    "    if dx > 0:\n",
    "        path2 += \">\" * dx\n",
    "    else:\n",
    "        path2 += \"<\" * abs(dx)\n",
    "\n",
    "    def is_valid(path):\n",
    "        x, y = start_pos\n",
    "        for move in path:\n",
    "            if move == \"^\":\n",
    "                y -= 1\n",
    "            elif move == \"v\":\n",
    "                y += 1\n",
    "            elif move == \"<\":\n",
    "                x -= 1\n",
    "            elif move == \">\":\n",
    "                x += 1\n",
    "            if not (0 <= x < len(keypad[0]) and 0 <= y < len(keypad) and keypad[y][x] != \" \"):\n",
    "                return False\n",
    "        return True\n",
    "\n",
    "    # Heuristic from https://github.com/AllanTaylor314/AdventOfCode/blob/main/2024/21.py\n",
    "    if dy > 0 and is_valid(path2):\n",
    "        return path2\n",
    "    if is_valid(path1):\n",
    "      return path1\n",
    "    elif is_valid(path2):\n",
    "      return path2\n",
    "    else:\n",
    "      return None\n",
    "    \n",
    "\n",
    "def solve_code(code, debug):\n",
    "    num_keypad = [\n",
    "        [\"7\", \"8\", \"9\"],\n",
    "        [\"4\", \"5\", \"6\"],\n",
    "        [\"1\", \"2\", \"3\"],\n",
    "        [\" \", \"0\", \"A\"]\n",
    "    ]\n",
    "    dir_keypad = [\n",
    "        [\" \", \"^\", \"A\"],\n",
    "        [\"<\", \"v\", \">\"]\n",
    "    ]\n",
    "\n",
    "    def solve_level(keypad, start_val, seq):\n",
    "        path = \"\"\n",
    "        cur_val = start_val\n",
    "        for c in seq:\n",
    "            p = find_path(keypad, cur_val, c)\n",
    "            \n",
    "            path += p + \"A\"\n",
    "            cur_val = c\n",
    "        return path\n",
    "    \n",
    "    def get_pos(keypad, target):\n",
    "        for y, row in enumerate(keypad):\n",
    "            for x, val in enumerate(row):\n",
    "                if val == target:\n",
    "                    return (x, y)\n",
    "        return None\n",
    "\n",
    "    path3 = solve_level(num_keypad, \"A\", code)\n",
    "    path2 = solve_level(dir_keypad, \"A\", path3)\n",
    "    path1 = solve_level(dir_keypad, \"A\", path2)\n",
    "    \n",
    "    if debug:\n",
    "        print(f\"Code: {code}\")\n",
    "        print(f\"Path 1: {path1}, Length: {len(path1)}\")\n",
    "        print(f\"Path 2: {path2}, Length: {len(path2)}\")\n",
    "        print(f\"Path 3: {path3}, Length: {len(path3)}\")\n",
    "        print(\"-\" * 20)\n",
    "\n",
    "    return len(path1) * int(code[:-1])\n",
    "\n",
    "def solve_a(input_data, debug=False):\n",
    "    codes = input_data.strip().splitlines()\n",
    "    return sum(solve_code(code, debug) for code in codes)\n",
    "\n",
    "\n",
    "example_answer_a = solve_a(example)\n",
    "print(example_answer_a)\n",
    "assert(example_answer_a == 126384)\n",
    "puzzle.answer_a = solve_a(puzzle.input_data, True)\n"
   ]
  },
  {
   "cell_type": "markdown",
   "metadata": {},
   "source": [
    "# Part 2"
   ]
  },
  {
   "cell_type": "code",
   "execution_count": null,
   "metadata": {},
   "outputs": [],
   "source": []
  }
 ],
 "metadata": {
  "kernelspec": {
   "display_name": "Python 3",
   "language": "python",
   "name": "python3"
  },
  "language_info": {
   "codemirror_mode": {
    "name": "ipython",
    "version": 3
   },
   "file_extension": ".py",
   "mimetype": "text/x-python",
   "name": "python",
   "nbconvert_exporter": "python",
   "pygments_lexer": "ipython3",
   "version": "3.13.1"
  }
 },
 "nbformat": 4,
 "nbformat_minor": 2
}
