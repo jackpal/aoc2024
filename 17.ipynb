{
 "cells": [
  {
   "cell_type": "markdown",
   "metadata": {},
   "source": [
    "# Advent of Code 2024"
   ]
  },
  {
   "cell_type": "code",
   "execution_count": null,
   "metadata": {},
   "outputs": [],
   "source": [
    "from aocd.models import Puzzle\n",
    "from pathlib import Path\n",
    "puzzle = Puzzle(year=2024, day=int(Path(__vsc_ipynb_file__).stem))\n",
    "puzzle.url"
   ]
  },
  {
   "cell_type": "markdown",
   "metadata": {},
   "source": [
    "# Part 1"
   ]
  },
  {
   "cell_type": "code",
   "execution_count": 2,
   "metadata": {},
   "outputs": [],
   "source": [
    "example = \"\"\"\"\"\""
   ]
  },
  {
   "cell_type": "code",
   "execution_count": 3,
   "metadata": {},
   "outputs": [],
   "source": [
    "def solve_a(input_data):\n",
    "    lines = input_data.splitlines()\n",
    "    a = int(lines[0].split(\": \")[1])\n",
    "    b = int(lines[1].split(\": \")[1])\n",
    "    c = int(lines[2].split(\": \")[1])\n",
    "    p = [int(x) for x in lines[4].split(\": \")[1].split(\",\")]\n",
    "    ip = 0\n",
    "    out = []\n",
    "    while 0 <= ip < len(p):\n",
    "        op = p[ip]\n",
    "        o = p[ip + 1]\n",
    "        if op == 0:\n",
    "            a //= 2 ** (o if o < 4 else [a, b, c, 0][o - 4])\n",
    "        elif op == 1:\n",
    "            b ^= o\n",
    "        elif op == 2:\n",
    "            b = (o if o < 4 else [a, b, c, 0][o - 4]) % 8\n",
    "        elif op == 3:\n",
    "            if a != 0:\n",
    "                ip = o\n",
    "                continue\n",
    "        elif op == 4:\n",
    "            b ^= c\n",
    "        elif op == 5:\n",
    "            out.append((o if o < 4 else [a, b, c, 0][o - 4]) % 8)\n",
    "        elif op == 6:\n",
    "            b = a // (2 ** (o if o < 4 else [a, b, c, 0][o - 4]))\n",
    "        elif op == 7:\n",
    "            c = a // (2 ** (o if o < 4 else [a, b, c, 0][o - 4]))\n",
    "        ip += 2\n",
    "    return \",\".join(map(str, out))\n",
    "puzzle.answer_a = solve_a(puzzle.input_data)"
   ]
  },
  {
   "cell_type": "markdown",
   "metadata": {},
   "source": [
    "# Part 2"
   ]
  },
  {
   "cell_type": "code",
   "execution_count": null,
   "metadata": {},
   "outputs": [],
   "source": [
    "    p = [2, 4, 1, 1, 7, 5, 0, 3, 4, 7, 1, 6, 5, 5, 3, 0]\n",
    "    print(', '.join([str(x ^ 6) for x in p]))\n"
   ]
  },
  {
   "cell_type": "code",
   "execution_count": null,
   "metadata": {},
   "outputs": [],
   "source": [
    "def solve_b(input_data):\n",
    "    p = [2, 4, 1, 1, 7, 5, 0, 3, 4, 7, 1, 6, 5, 5, 3, 0]\n",
    "\n",
    "    def step(a):\n",
    "        b = a & 7  # 2,4\n",
    "        b ^= 1  # 1,1\n",
    "        c = a >> b # 7,5 (shift instead of division)\n",
    "        a >>= 3  # 0,3 (shift instead of division)\n",
    "        b ^= c  # 4,7\n",
    "        b ^= 6  # 1,6\n",
    "        return(a, b & 7)\n",
    "    \n",
    "    def choices(a, pp):\n",
    "        r = []\n",
    "        for i in range(8):\n",
    "            test_a = (a << 3) ^ i\n",
    "            aa,b = step(test_a)\n",
    "            if b == pp and aa == a:\n",
    "                r.append(test_a)\n",
    "        return r\n",
    "    \n",
    "    a = 0\n",
    "    for j, pp in enumerate(reversed(p)):\n",
    "        for i in range(8):\n",
    "            test_a = (a << 3) ^ i\n",
    "            aa,b = step(test_a)\n",
    "            if b == pp and aa == a:\n",
    "                print(j, pp, i, a ,aa)\n",
    "        for i in range(8):\n",
    "            test_a = (a << 3) ^ i\n",
    "            aa,b = step(test_a)\n",
    "            if b == pp and aa == a:\n",
    "                a = test_a\n",
    "                break\n",
    "        else:\n",
    "            print(\"failed\", j, pp, a)\n",
    "            assert(False)\n",
    "    assert(False)\n",
    "   \n",
    "puzzle.answer_b = solve_b(puzzle.input_data)"
   ]
  },
  {
   "cell_type": "code",
   "execution_count": null,
   "metadata": {},
   "outputs": [],
   "source": [
    "from functools import cache\n",
    "\n",
    "def solve_b(input_data):\n",
    "    p = (2, 4, 1, 1, 7, 5, 0, 3, 4, 7, 1, 6, 5, 5, 3, 0)\n",
    "\n",
    "    @cache\n",
    "    def step(a):\n",
    "        b = a & 7  # 2,4\n",
    "        b ^= 1  # 1,1\n",
    "        c = a >> b # 7,5 (shift instead of division)\n",
    "        a >>= 3  # 0,3 (shift instead of division)\n",
    "        b ^= c  # 4,7\n",
    "        b ^= 6  # 1,6\n",
    "        return(a, b & 7)\n",
    "\n",
    "    @cache\n",
    "    def search(a, pp):\n",
    "        for i in range(8):\n",
    "            test_a = (a << 3) | i\n",
    "            aa, b = step((a << 3) | i)\n",
    "            if b == pp[-1] and aa == a:\n",
    "                return searc\n",
    "        aa, b = step(a)\n",
    "        if b == pp[0]:\n",
    "            return search\n",
    "    a = 0\n",
    "    for j, pp in enumerate(reversed(p)):\n",
    "        for i in range(8):\n",
    "            test_a = (a << 3) | i\n",
    "            aa,b = step(test_a)\n",
    "            if b == pp and aa == a:\n",
    "                print(j, pp, i, a,aa)\n",
    "                a = test_a\n",
    "                break\n",
    "        else:\n",
    "            print(\"failed\", j, pp, a)\n",
    "            assert(False)\n",
    "    assert(False)\n",
    "   \n",
    "puzzle.answer_b = solve_b(puzzle.input_data)"
   ]
  },
  {
   "cell_type": "code",
   "execution_count": 47,
   "metadata": {},
   "outputs": [],
   "source": [
    "def solve_b(input_data):\n",
    "    p = [2, 4, 1, 1, 7, 5, 0, 3, 4, 7, 1, 6, 5, 5, 3, 0]\n",
    "\n",
    "    def step(a):\n",
    "        b = a & 7  # 2,4\n",
    "        b ^= 1  # 1,1\n",
    "        c = a >> b # 7,5 (shift instead of division)\n",
    "        a >>= 3  # 0,3 (shift instead of division)\n",
    "        b ^= c  # 4,7\n",
    "        b ^= 6  # 1,6\n",
    "        return(a, b & 7)\n",
    "    \n",
    "    def choices(a, pp):\n",
    "        r = []\n",
    "        for i in range(8):\n",
    "            test_a = (a << 3) ^ i\n",
    "            aa,b = step(test_a)\n",
    "            if b == pp and aa == a:\n",
    "                r.append(test_a)\n",
    "        return r\n",
    "    \n",
    "    def search(a, pp):\n",
    "        if len(pp) == 0:\n",
    "            return a\n",
    "        tail = pp[:-1]\n",
    "        for c in choices(a, pp[-1]):\n",
    "            z = search(c, tail)\n",
    "            if z != None:\n",
    "                return z\n",
    "        return None\n",
    "        \n",
    "    return search(0, p)\n",
    "\n",
    "puzzle.answer_b = solve_b(puzzle.input_data)"
   ]
  }
 ],
 "metadata": {
  "kernelspec": {
   "display_name": "Python 3",
   "language": "python",
   "name": "python3"
  },
  "language_info": {
   "codemirror_mode": {
    "name": "ipython",
    "version": 3
   },
   "file_extension": ".py",
   "mimetype": "text/x-python",
   "name": "python",
   "nbconvert_exporter": "python",
   "pygments_lexer": "ipython3",
   "version": "3.13.1"
  }
 },
 "nbformat": 4,
 "nbformat_minor": 2
}
