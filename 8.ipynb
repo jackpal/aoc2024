{
 "cells": [
  {
   "cell_type": "markdown",
   "metadata": {},
   "source": [
    "# Advent of Code 2024\n",
    "\n",
    "[Day 8](https://adventofcode.com/2024/day/8)"
   ]
  },
  {
   "cell_type": "code",
   "execution_count": null,
   "metadata": {},
   "outputs": [],
   "source": [
    "from aocd import puzzle"
   ]
  },
  {
   "cell_type": "code",
   "execution_count": null,
   "metadata": {},
   "outputs": [],
   "source": [
    "example = \"\"\"............\n",
    "........0...\n",
    ".....0......\n",
    ".......0....\n",
    "....0.......\n",
    "......A.....\n",
    "............\n",
    "............\n",
    "........A...\n",
    ".........A..\n",
    "............\n",
    "............\"\"\""
   ]
  },
  {
   "cell_type": "code",
   "execution_count": null,
   "metadata": {},
   "outputs": [],
   "source": [
    "def parse(input):\n",
    "    nodes = dict()\n",
    "    lines = input.split(\"\\n\")\n",
    "    w,h = len(lines[0]), len(lines)\n",
    "    for y, line in enumerate(lines):\n",
    "        for x, c in enumerate(line):\n",
    "            if '0' <= c <= '9' or 'a' <= c <= 'z' or 'A' <= c <= 'Z':\n",
    "                if c not in nodes:\n",
    "                    nodes[c] = []\n",
    "                nodes[c].append((x,y))\n",
    "    return w, h, nodes\n"
   ]
  },
  {
   "cell_type": "code",
   "execution_count": null,
   "metadata": {},
   "outputs": [],
   "source": [
    "example"
   ]
  },
  {
   "cell_type": "code",
   "execution_count": null,
   "metadata": {},
   "outputs": [],
   "source": [
    "parse(example)"
   ]
  },
  {
   "cell_type": "code",
   "execution_count": null,
   "metadata": {},
   "outputs": [],
   "source": [
    "import itertools\n",
    "\n",
    "def solve_part_a(input):\n",
    "    w, h, node_map = input\n",
    "    antinodes = set()\n",
    "    for _,a in node_map.items():\n",
    "        for a,b in itertools.permutations(a,2):\n",
    "            dx, dy = b[0]-a[0], b[1]-a[1]\n",
    "            def addIfClipped(x,y):\n",
    "                if 0 <= x < w and 0 <= y < h:\n",
    "                    antinodes.add((x,y))\n",
    "            addIfClipped(a[0] - dx, a[1] - dy)\n",
    "            addIfClipped(b[0] + dx, b[1] + dy)\n",
    "    return len(antinodes)\n"
   ]
  },
  {
   "cell_type": "code",
   "execution_count": null,
   "metadata": {},
   "outputs": [],
   "source": [
    "solve_part_a(parse(example))"
   ]
  },
  {
   "cell_type": "code",
   "execution_count": null,
   "metadata": {},
   "outputs": [],
   "source": [
    "puzzle.answer_a = solve_part_a(parse(puzzle.input_data))"
   ]
  },
  {
   "cell_type": "code",
   "execution_count": null,
   "metadata": {},
   "outputs": [],
   "source": [
    "def solve_part_b(input):\n",
    "    w, h, node_map = input\n",
    "    antinodes = set()\n",
    "    for _,a in node_map.items():\n",
    "        for a,b in itertools.permutations(a,2):\n",
    "            dx, dy = b[0]-a[0], b[1]-a[1]\n",
    "            def addIfClipped(x,y):\n",
    "                if 0 <= x < w and 0 <= y < h:\n",
    "                    antinodes.add((x,y))\n",
    "                    return True\n",
    "                return False\n",
    "            for i in range(max(w,h)):\n",
    "                if not addIfClipped(a[0] - i * dx, a[1] - i * dy):\n",
    "                    break\n",
    "            for i in range(max(w,h)):\n",
    "                if not addIfClipped(b[0] + i * dx, b[1] + i * dy):\n",
    "                    break\n",
    "    return len(antinodes)\n"
   ]
  },
  {
   "cell_type": "code",
   "execution_count": null,
   "metadata": {},
   "outputs": [],
   "source": [
    "puzzle.answer_b = solve_part_b(parse(puzzle.input_data))"
   ]
  }
 ],
 "metadata": {
  "kernelspec": {
   "display_name": "Python 3",
   "language": "python",
   "name": "python3"
  },
  "language_info": {
   "codemirror_mode": {
    "name": "ipython",
    "version": 3
   },
   "file_extension": ".py",
   "mimetype": "text/x-python",
   "name": "python",
   "nbconvert_exporter": "python",
   "pygments_lexer": "ipython3",
   "version": "3.12.4"
  }
 },
 "nbformat": 4,
 "nbformat_minor": 2
}
