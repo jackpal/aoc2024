{
 "cells": [
  {
   "cell_type": "markdown",
   "metadata": {},
   "source": [
    "# Advent of Code 2024\n",
    "\n",
    "[Day 8](https://adventofcode.com/2024/day/8)"
   ]
  },
  {
   "cell_type": "code",
   "execution_count": 1,
   "metadata": {},
   "outputs": [
    {
     "data": {
      "text/plain": [
       "'https://adventofcode.com/2024/day/8'"
      ]
     },
     "execution_count": 1,
     "metadata": {},
     "output_type": "execute_result"
    }
   ],
   "source": [
    "from aocd.models import Puzzle\n",
    "puzzle = Puzzle(year=2024, day=8)\n",
    "puzzle.url"
   ]
  },
  {
   "cell_type": "code",
   "execution_count": 3,
   "metadata": {},
   "outputs": [],
   "source": [
    "def solve_a(input_data):\n",
    "    grid = input_data.splitlines()\n",
    "    width = len(grid[0])\n",
    "    height = len(grid)\n",
    "    antennas = {}\n",
    "    for y, row in enumerate(grid):\n",
    "        for x, char in enumerate(row):\n",
    "            if char != '.':\n",
    "                if char not in antennas:\n",
    "                    antennas[char] = []\n",
    "                antennas[char].append((x, y))\n",
    "\n",
    "    antinodes = set()\n",
    "    for freq in antennas:\n",
    "        for i in range(len(antennas[freq])):\n",
    "            for j in range(i + 1, len(antennas[freq])):\n",
    "                x1, y1 = antennas[freq][i]\n",
    "                x2, y2 = antennas[freq][j]\n",
    "                antinode1 = (2 * x1 - x2, 2 * y1 - y2)\n",
    "                antinode2 = (2 * x2 - x1, 2 * y2 - y1)\n",
    "                if 0 <= antinode1[0] < width and 0 <= antinode1[1] < height:\n",
    "                    antinodes.add(antinode1)\n",
    "                if 0 <= antinode2[0] < width and 0 <= antinode2[1] < height:\n",
    "                    antinodes.add(antinode2)\n",
    "\n",
    "    return len(antinodes)\n",
    "\n",
    "puzzle.answer_a = solve_a(puzzle.input_data)"
   ]
  },
  {
   "cell_type": "code",
   "execution_count": 7,
   "metadata": {},
   "outputs": [],
   "source": [
    "def solve_a(d):\n",
    "  \"\"\"\n",
    "  Calculates the number of unique antinode locations for Part 1.\n",
    "  \"\"\"\n",
    "  grid = d.splitlines()\n",
    "  h, w = len(grid), len(grid[0])\n",
    "  ants = {}\n",
    "  for r, row in enumerate(grid):\n",
    "    for c, ch in enumerate(row):\n",
    "      if ch != '.':\n",
    "        ants.setdefault(ch, []).append((r, c))\n",
    "  ans = set()\n",
    "  for ch, locs in ants.items():\n",
    "    for i in range(len(locs)):\n",
    "      for j in range(i + 1, len(locs)):\n",
    "        r1, c1 = locs[i]\n",
    "        r2, c2 = locs[j]\n",
    "        a1 = (2 * r1 - r2, 2 * c1 - c2)\n",
    "        a2 = (2 * r2 - r1, 2 * c2 - c1)\n",
    "        if 0 <= a1[0] < h and 0 <= a1[1] < w:\n",
    "          ans.add(a1)\n",
    "        if 0 <= a2[0] < h and 0 <= a2[1] < w:\n",
    "          ans.add(a2)\n",
    "  return len(ans)\n",
    "\n",
    "def solve_b(d):\n",
    "  \"\"\"\n",
    "  Calculates the number of unique antinode locations for Part 2.\n",
    "  \"\"\"\n",
    "  grid = d.splitlines()\n",
    "  h, w = len(grid), len(grid[0])\n",
    "  ants = {}\n",
    "  for r, row in enumerate(grid):\n",
    "    for c, ch in enumerate(row):\n",
    "      if ch != '.':\n",
    "        ants.setdefault(ch, []).append((r, c))\n",
    "  ans = set()\n",
    "  for ch, locs in ants.items():\n",
    "    if len(locs) > 1:\n",
    "      ans.update(locs)\n",
    "      for i in range(len(locs)):\n",
    "        for j in range(i + 1, len(locs)):\n",
    "          r1, c1 = locs[i]\n",
    "          r2, c2 = locs[j]\n",
    "          dr, dc = r2 - r1, c2 - c1\n",
    "          for k in range(-100, 101):\n",
    "            r, c = r1 + k * dr, c1 + k * dc\n",
    "            if 0 <= r < h and 0 <= c < w and (r, c) != (r1, c1) and (\n",
    "                r,\n",
    "                c,\n",
    "            ) != (r2, c2):\n",
    "              ans.add((r, c))\n",
    "  return len(ans)\n",
    "\n",
    "puzzle.answer_a = solve_a(puzzle.input_data)\n",
    "puzzle.answer_b = solve_b(puzzle.input_data)"
   ]
  }
 ],
 "metadata": {
  "kernelspec": {
   "display_name": "Python 3",
   "language": "python",
   "name": "python3"
  },
  "language_info": {
   "codemirror_mode": {
    "name": "ipython",
    "version": 3
   },
   "file_extension": ".py",
   "mimetype": "text/x-python",
   "name": "python",
   "nbconvert_exporter": "python",
   "pygments_lexer": "ipython3",
   "version": "3.13.1"
  }
 },
 "nbformat": 4,
 "nbformat_minor": 2
}
