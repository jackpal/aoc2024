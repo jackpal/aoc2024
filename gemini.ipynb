{
 "cells": [
  {
   "cell_type": "markdown",
   "metadata": {},
   "source": [
    "Semi-automate solving Advent of Code using Google AI Studio"
   ]
  },
  {
   "cell_type": "code",
   "execution_count": null,
   "metadata": {},
   "outputs": [],
   "source": [
    "from aocd.models import Puzzle\n",
    "from bs4 import BeautifulSoup\n",
    "import google.generativeai as genai\n",
    "import keyring\n",
    "import re"
   ]
  },
  {
   "cell_type": "code",
   "execution_count": 2,
   "metadata": {},
   "outputs": [],
   "source": [
    "puzzle = Puzzle(year=2024, day=13)\n",
    "puzzle.url\n",
    "\n",
    "# https://aistudio.google.com/apikey\n",
    "# keyring.set_password(\"palevich-chen-industries-aoc2024\", \"google-ai-studio\", \"YOUR_KEY_HERE\")\n",
    "genai.configure(api_key=keyring.get_password(\"palevich-chen-industries-aoc2024\", \"google-ai-studio\"))\n",
    "model_name = \"gemini-exp-1206\" # \"gemini-2.0-flash-exp\" \"gemini-1.5-flash\"\n",
    "model = genai.GenerativeModel(model_name)"
   ]
  },
  {
   "cell_type": "code",
   "execution_count": 3,
   "metadata": {},
   "outputs": [],
   "source": [
    "def puzzle_prose(puzzle, id):\n",
    "    \"\"\"id 0 means the prose before either part is answered.\n",
    "    id 1 is the prose after the first part is answered\n",
    "    id 2 is the prose after both parts are answered\n",
    "    \"\"\"\n",
    "    def puzzle_prose_path(puzzle, id):\n",
    "        if id == 0:\n",
    "            return puzzle.prose0_path\n",
    "        if id == 1:\n",
    "            return puzzle.prose1_path\n",
    "        if id == 2:\n",
    "            return puzzle.prose2_path\n",
    "    \n",
    "    with open(puzzle_prose_path(puzzle, id), 'r') as file:\n",
    "        text = file.read()\n",
    "    \n",
    "    soup = BeautifulSoup(text.split(\"<main>\")[-1])\n",
    "    return soup.text"
   ]
  },
  {
   "cell_type": "code",
   "execution_count": 9,
   "metadata": {},
   "outputs": [],
   "source": [
    "prompt = \"\"\"\n",
    "You are an expert Python coder. You are participating in the \"Advent of Code\" programming contest.  The following is a puzzle description. Write expert Python code to solve the puzzle.\n",
    "\n",
    "The puzzle has two parts. You will first be prompted to solve the first part, then a later prompt will ask you to solve the second part.\n",
    "\n",
    "Read the puzzle input in the form of a text string from puzzle.input_data. Assign the puzzle answer to the property puzzle.answer_a for the first part. Assign the puzzle answer to puzzle.answer_b for the second part.\n",
    "\n",
    "Only assign to puzzle.answer_a one time. Don't use puzzle.answer_a as a temporary variable or an accumulator.\n",
    "\n",
    "For example if the puzzle is, \"The input is a series of numbers, one per line. Calculate the sum of the numbers\", then the code you generate could look like this:\n",
    "\n",
    "def solve_a(input_data):\n",
    "   return sum([int(line) for line in input_data.splitlines()])\n",
    "puzzle.answer_a = solve_a(puzzle.input_data)\n",
    "\n",
    "And if the \"Part b\" of the puzzle is \"Calculate the product of the numbers instead\", then the code you generate could look like this:\n",
    "\n",
    "def solve_b(input_data):\n",
    "  return prod([int(line) for line in input_data.splitlines()])\n",
    "puzzle.answer_b = solve_b(puzzle.input_data)\n",
    "\n",
    "Assume that the input is valid. Do not validate the input.\n",
    "\n",
    "There may be only one part to the puzzle. If that is the case, only solve the first part.\n",
    "\n",
    "Think carefully. It is important to get the correct answer and for the program to run quickly.\n",
    "Write the python code without comments or explanation. Use short variable names. Use subroutines, lambdas, list comprehensions and logical boolean operators where it will make the code shorter.\n",
    "Define a function named parse that takes the input string and returns the parsed input. \n",
    "\n",
    "\"\"\""
   ]
  },
  {
   "cell_type": "code",
   "execution_count": 5,
   "metadata": {},
   "outputs": [],
   "source": [
    "def try_to_solve(puzzle, part=0, tips=''):\n",
    "    def parse_code(response):\n",
    "        text = response.candidates[0].content.parts[0].text\n",
    "        matches = re.findall(r\"^```python\\n(.*)```$\", text, re.MULTILINE | re.DOTALL)\n",
    "        if len(matches) != 1:\n",
    "            return None\n",
    "        code = matches[0]\n",
    "        return code\n",
    "    full_prompt = prompt + '\\n\\n' + puzzle_prose(puzzle, part) + '\\n\\n' + tips\n",
    "    response = model.generate_content(full_prompt)\n",
    "    return parse_code(response)"
   ]
  },
  {
   "cell_type": "code",
   "execution_count": 6,
   "metadata": {},
   "outputs": [],
   "source": [
    "tips = \"\"\"Tips: Some of the prize machines are not solvable. Ignore those machines.\n",
    "Use split('\\\\n\\\\n') to separate the prize machine inputs.\n",
    "Treat the prize machines as a system of linear equations. Solve them using Cramer's Rule.\n",
    "\"\"\""
   ]
  },
  {
   "cell_type": "code",
   "execution_count": null,
   "metadata": {},
   "outputs": [],
   "source": [
    "code_a = try_to_solve(puzzle, 0, tips)\n",
    "print(code_a)\n",
    "exec(code_a)\n",
    "code_b = try_to_solve(puzzle, 1, tips)\n",
    "print('# ----')\n",
    "print(code_b)\n",
    "exec(code_b)"
   ]
  }
 ],
 "metadata": {
  "kernelspec": {
   "display_name": "Python 3",
   "language": "python",
   "name": "python3"
  },
  "language_info": {
   "codemirror_mode": {
    "name": "ipython",
    "version": 3
   },
   "file_extension": ".py",
   "mimetype": "text/x-python",
   "name": "python",
   "nbconvert_exporter": "python",
   "pygments_lexer": "ipython3",
   "version": "3.12.4"
  }
 },
 "nbformat": 4,
 "nbformat_minor": 2
}
