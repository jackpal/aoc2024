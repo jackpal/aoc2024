{
 "cells": [
  {
   "cell_type": "markdown",
   "metadata": {},
   "source": [
    "Semi-automate solving Advent of Code using Google AI Studio"
   ]
  },
  {
   "cell_type": "code",
   "execution_count": 1,
   "metadata": {},
   "outputs": [
    {
     "name": "stderr",
     "output_type": "stream",
     "text": [
      "/Library/Frameworks/Python.framework/Versions/3.12/lib/python3.12/site-packages/tqdm/auto.py:21: TqdmWarning: IProgress not found. Please update jupyter and ipywidgets. See https://ipywidgets.readthedocs.io/en/stable/user_install.html\n",
      "  from .autonotebook import tqdm as notebook_tqdm\n"
     ]
    }
   ],
   "source": [
    "from aocd.models import Puzzle\n",
    "from bs4 import BeautifulSoup\n",
    "import google.generativeai as genai\n",
    "import keyring\n",
    "import re"
   ]
  },
  {
   "cell_type": "code",
   "execution_count": 2,
   "metadata": {},
   "outputs": [],
   "source": [
    "puzzle = Puzzle(year=2024, day=13)\n",
    "puzzle.url\n",
    "\n",
    "# https://aistudio.google.com/apikey\n",
    "# keyring.set_password(\"palevich-chen-industries-aoc2024\", \"google-ai-studio\", \"YOUR_KEY_HERE\")\n",
    "genai.configure(api_key=keyring.get_password(\"palevich-chen-industries-aoc2024\", \"google-ai-studio\"))\n",
    "model_name = \"gemini-exp-1206\" # \"gemini-2.0-flash-exp\" \"gemini-1.5-flash\"\n",
    "model = genai.GenerativeModel(model_name)"
   ]
  },
  {
   "cell_type": "code",
   "execution_count": 3,
   "metadata": {},
   "outputs": [],
   "source": [
    "def puzzle_prose(puzzle, id):\n",
    "    \"\"\"id 0 means the prose before either part is answered.\n",
    "    id 1 is the prose after the first part is answered\n",
    "    id 2 is the prose after both parts are answered\n",
    "    \"\"\"\n",
    "    def puzzle_prose_path(puzzle, id):\n",
    "        if id == 0:\n",
    "            return puzzle.prose0_path\n",
    "        if id == 1:\n",
    "            return puzzle.prose1_path\n",
    "        if id == 2:\n",
    "            return puzzle.prose2_path\n",
    "    \n",
    "    with open(puzzle_prose_path(puzzle, id), 'r') as file:\n",
    "        text = file.read()\n",
    "    \n",
    "    soup = BeautifulSoup(text.split(\"<main>\")[-1])\n",
    "    return soup.text"
   ]
  },
  {
   "cell_type": "code",
   "execution_count": 9,
   "metadata": {},
   "outputs": [],
   "source": [
    "prompt = \"\"\"\n",
    "You are an expert Python coder. You are participating in the \"Advent of Code\" programming contest.  The following is a puzzle description. Write expert Python code to solve the puzzle.\n",
    "\n",
    "The puzzle has two parts. You will first be prompted to solve the first part, then a later prompt will ask you to solve the second part.\n",
    "\n",
    "Read the puzzle input in the form of a text string from puzzle.input_data. Assign the puzzle answer to the property puzzle.answer_a for the first part. Assign the puzzle answer to puzzle.answer_b for the second part.\n",
    "\n",
    "Only assign to puzzle.answer_a one time. Don't use puzzle.answer_a as a temporary variable or an accumulator.\n",
    "\n",
    "For example if the puzzle is, \"The input is a series of numbers, one per line. Calculate the sum of the numbers\", then the code you generate could look like this:\n",
    "\n",
    "def solve_a(input_data):\n",
    "   return sum([int(line) for line in input_data.splitlines()])\n",
    "puzzle.answer_a = solve_a(puzzle.input_data)\n",
    "\n",
    "And if the \"Part b\" of the puzzle is \"Calculate the product of the numbers instead\", then the code you generate could look like this:\n",
    "\n",
    "def solve_b(input_data):\n",
    "  return prod([int(line) for line in input_data.splitlines()])\n",
    "puzzle.answer_b = solve_b(puzzle.input_data)\n",
    "\n",
    "Assume that the input is valid. Do not validate the input.\n",
    "\n",
    "There may be only one part to the puzzle. If that is the case, only solve the first part.\n",
    "\n",
    "Think carefully. It is important to get the correct answer and for the program to run quickly.\n",
    "Write the python code without comments or explanation. Use short variable names. Use subroutines, lambdas, list comprehensions and logical boolean operators where it will make the code shorter.\n",
    "Define a function named parse that takes the input string and returns the parsed input. \n",
    "\n",
    "\"\"\""
   ]
  },
  {
   "cell_type": "code",
   "execution_count": 5,
   "metadata": {},
   "outputs": [],
   "source": [
    "def try_to_solve(puzzle, part=0, tips=''):\n",
    "    def parse_code(response):\n",
    "        text = response.candidates[0].content.parts[0].text\n",
    "        matches = re.findall(r\"^```python\\n(.*)```$\", text, re.MULTILINE | re.DOTALL)\n",
    "        if len(matches) != 1:\n",
    "            return None\n",
    "        code = matches[0]\n",
    "        return code\n",
    "    full_prompt = prompt + '\\n\\n' + puzzle_prose(puzzle, part) + '\\n\\n' + tips\n",
    "    response = model.generate_content(full_prompt)\n",
    "    return parse_code(response)"
   ]
  },
  {
   "cell_type": "code",
   "execution_count": 6,
   "metadata": {},
   "outputs": [],
   "source": [
    "tips = \"\"\"Tips: Some of the prize machines are not solvable. Ignore those machines.\n",
    "Use split('\\\\n\\\\n') to separate the prize machine inputs.\n",
    "Treat the prize machines as a system of linear equations. Solve them using Cramer's Rule.\n",
    "\"\"\""
   ]
  },
  {
   "cell_type": "code",
   "execution_count": 10,
   "metadata": {},
   "outputs": [
    {
     "name": "stdout",
     "output_type": "stream",
     "text": [
      "import re\n",
      "\n",
      "def parse(i):\n",
      "  o = []\n",
      "  for b in i.split('\\n\\n'):\n",
      "    m = re.findall(r'\\d+', b)\n",
      "    o.append(list(map(int, m)))\n",
      "  return o\n",
      "\n",
      "def solve_a(d):\n",
      "  t = 0\n",
      "  c = 0\n",
      "  for ax, ay, bx, by, px, py in d:\n",
      "    det = ax * by - bx * ay\n",
      "    if det == 0:\n",
      "      continue\n",
      "    a = (px * by - bx * py) / det\n",
      "    b = (ax * py - px * ay) / det\n",
      "    if a >= 0 and b >= 0 and a == int(a) and b == int(b):\n",
      "      t += 3 * a + b\n",
      "      c += 1\n",
      "  return t if c == len(d) else 0\n",
      "\n",
      "puzzle.answer_a = solve_a([\n",
      "    m for m in parse(puzzle.input_data)\n",
      "    if any(3 * a + b for a in range(101) for b in range(101)\n",
      "           if a * m[0] + b * m[2] == m[4] and a * m[1] + b * m[3] == m[5])\n",
      "])\n",
      "\n"
     ]
    },
    {
     "name": "stderr",
     "output_type": "stream",
     "text": [
      "coerced float value 26299.0 for 2024/13 to '26299'\n"
     ]
    },
    {
     "name": "stdout",
     "output_type": "stream",
     "text": [
      "# ----\n",
      "import re\n",
      "\n",
      "def parse(i):\n",
      "    o = []\n",
      "    for b in i.split('\\n\\n'):\n",
      "        l = b.splitlines()\n",
      "        ax, ay = map(int, re.findall(r'\\d+', l[0]))\n",
      "        bx, by = map(int, re.findall(r'\\d+', l[1]))\n",
      "        px, py = map(int, re.findall(r'\\d+', l[2]))\n",
      "        o.append(((ax, ay), (bx, by), (px, py)))\n",
      "    return o\n",
      "\n",
      "def solve(d, p2=False):\n",
      "    t = 0\n",
      "    c = 0\n",
      "    f = 10000000000000 if p2 else 0\n",
      "    for (ax, ay), (bx, by), (px, py) in d:\n",
      "        px += f\n",
      "        py += f\n",
      "        det = ax * by - ay * bx\n",
      "        if det == 0:\n",
      "            continue\n",
      "        det_a = (px * by - py * bx)\n",
      "        det_b = (ax * py - ay * px)\n",
      "        if det_a % det != 0 or det_b % det != 0:\n",
      "            continue\n",
      "        a = det_a // det\n",
      "        b = det_b // det\n",
      "        if a < 0 or b < 0:\n",
      "            continue\n",
      "        c += 1\n",
      "        t += a * 3 + b\n",
      "    return t if c > 0 else 0, c\n",
      "\n",
      "puzzle.answer_a, _ = solve(parse(puzzle.input_data))\n",
      "puzzle.answer_b, _ = solve(parse(puzzle.input_data), True)\n",
      "\n"
     ]
    }
   ],
   "source": [
    "code_a = try_to_solve(puzzle, 0, tips)\n",
    "print(code_a)\n",
    "exec(code_a)\n",
    "code_b = try_to_solve(puzzle, 1, tips)\n",
    "print('# ----')\n",
    "print(code_b)\n",
    "exec(code_b)"
   ]
  }
 ],
 "metadata": {
  "kernelspec": {
   "display_name": "Python 3",
   "language": "python",
   "name": "python3"
  },
  "language_info": {
   "codemirror_mode": {
    "name": "ipython",
    "version": 3
   },
   "file_extension": ".py",
   "mimetype": "text/x-python",
   "name": "python",
   "nbconvert_exporter": "python",
   "pygments_lexer": "ipython3",
   "version": "3.12.4"
  }
 },
 "nbformat": 4,
 "nbformat_minor": 2
}
