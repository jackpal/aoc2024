{
 "cells": [
  {
   "cell_type": "markdown",
   "metadata": {},
   "source": [
    "# Advent of Code 2024"
   ]
  },
  {
   "cell_type": "code",
   "execution_count": null,
   "metadata": {},
   "outputs": [],
   "source": [
    "from aocd.models import Puzzle\n",
    "from pathlib import Path\n",
    "puzzle = Puzzle(year=2024, day=int(Path(__vsc_ipynb_file__).stem))\n",
    "puzzle.url"
   ]
  },
  {
   "cell_type": "markdown",
   "metadata": {},
   "source": [
    "# Part 1"
   ]
  },
  {
   "cell_type": "code",
   "execution_count": 6,
   "metadata": {},
   "outputs": [],
   "source": [
    "example = \"\"\"1\n",
    "2\n",
    "3\n",
    "2024\"\"\""
   ]
  },
  {
   "cell_type": "code",
   "execution_count": null,
   "metadata": {},
   "outputs": [],
   "source": [
    "def m(s, v):\n",
    "  return s ^ v\n",
    "\n",
    "def p(s):\n",
    "  return s % 16777216\n",
    "\n",
    "def n(s):\n",
    "  s = p(m(s, s * 64))\n",
    "  s = p(m(s, s // 32))\n",
    "  s = p(m(s, s * 2048))\n",
    "  return s\n",
    "\n",
    "def solve_a(i):\n",
    "  t = 0\n",
    "  for l in i.splitlines():\n",
    "    s = int(l)\n",
    "    for _ in range(2000):\n",
    "      s = n(s)\n",
    "    t += s\n",
    "  return t\n",
    "\n",
    "puzzle.answer_a = solve_a(puzzle.input_data)"
   ]
  },
  {
   "cell_type": "markdown",
   "metadata": {},
   "source": [
    "# Part 2"
   ]
  },
  {
   "cell_type": "markdown",
   "metadata": {},
   "source": [
    "My add-on prompts:\n",
    "\n",
    "That's too slow, can you make it faster?\n",
    "\n",
    "Explain your algorithm for part 2\n",
    "\n",
    "For performance reasons use a bytearray to hold the prices and the changes in prices. Use an offset of 10 so that changes in prices can be stored in the bytearray. Store the prices as well as the changes in prices for each buyer.\n",
    "\n",
    "For the innermost search, use \"find\" to find the sequence c1. c2, c3, c4 faster.\n",
    "\n"
   ]
  },
  {
   "cell_type": "code",
   "execution_count": null,
   "metadata": {},
   "outputs": [],
   "source": [
    "def m(s, v):\n",
    "  return s ^ v\n",
    "\n",
    "def p(s):\n",
    "  return s % 16777216\n",
    "\n",
    "def n(s):\n",
    "  s = p(m(s, s * 64))\n",
    "  s = p(m(s, s // 32))\n",
    "  s = p(m(s, s * 2048))\n",
    "  return s\n",
    "\n",
    "def solve_b(i):\n",
    "  buyers = []\n",
    "  for l in i.splitlines():\n",
    "    s = int(l)\n",
    "    prices_changes = bytearray(4001)\n",
    "    prices_changes[0] = s % 10\n",
    "    prices_changes[2000] = 10 + prices_changes[0]\n",
    "    for j in range(2000):\n",
    "      s = n(s)\n",
    "      prices_changes[j + 1] = s % 10\n",
    "      prices_changes[2000 + j + 1] = (\n",
    "          10 + prices_changes[j + 1] - prices_changes[j]\n",
    "      )\n",
    "    buyers.append(prices_changes)\n",
    "\n",
    "  mx = 0\n",
    "  buyers_len = len(buyers)\n",
    "  seq = bytearray(4)\n",
    "  for c1 in range(1, 20):\n",
    "    print(c1)\n",
    "    seq[0] = c1\n",
    "    for c2 in range(1, 20):\n",
    "      seq[1] = c2\n",
    "      for c3 in range(1, 20):\n",
    "        seq[2] = c3\n",
    "        for c4 in range(1, 20):\n",
    "          seq[3] = c4\n",
    "          t = 0\n",
    "          for i in range(buyers_len):\n",
    "            p_c = buyers[i]\n",
    "            idx = p_c.find(seq, 2000)\n",
    "            if idx != -1:\n",
    "              t += p_c[idx - 2000 + 3]\n",
    "\n",
    "          mx = max(mx, t)\n",
    "  return mx\n",
    "\n",
    "# puzzle.answer_b = solve_b(puzzle.input_data)\n",
    "\n",
    "example_answer_b = solve_b(example)\n",
    "print(example_answer_b)\n",
    "assert(example_answer_b == 23)\n",
    "\n",
    "puzzle.answer_b = solve_b(puzzle.input_data)"
   ]
  },
  {
   "cell_type": "code",
   "execution_count": null,
   "metadata": {},
   "outputs": [],
   "source": []
  }
 ],
 "metadata": {
  "kernelspec": {
   "display_name": "Python 3",
   "language": "python",
   "name": "python3"
  },
  "language_info": {
   "codemirror_mode": {
    "name": "ipython",
    "version": 3
   },
   "file_extension": ".py",
   "mimetype": "text/x-python",
   "name": "python",
   "nbconvert_exporter": "python",
   "pygments_lexer": "ipython3",
   "version": "3.13.1"
  }
 },
 "nbformat": 4,
 "nbformat_minor": 2
}
