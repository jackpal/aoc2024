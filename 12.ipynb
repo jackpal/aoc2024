{
 "cells": [
  {
   "cell_type": "markdown",
   "metadata": {},
   "source": [
    "# Advent of Code 2024"
   ]
  },
  {
   "cell_type": "code",
   "execution_count": null,
   "metadata": {},
   "outputs": [],
   "source": [
    "from aocd.models import Puzzle\n",
    "puzzle = Puzzle(year=2024, day=12)\n",
    "puzzle.url"
   ]
  },
  {
   "cell_type": "markdown",
   "metadata": {},
   "source": [
    "# Part 1"
   ]
  },
  {
   "cell_type": "code",
   "execution_count": null,
   "metadata": {},
   "outputs": [],
   "source": [
    "\n",
    "def solve_a(d):\n",
    "    g = d.splitlines()\n",
    "    h, w = len(g), len(g[0])\n",
    "    v = [[0] * w for _ in range(h)]\n",
    "    r = {}\n",
    "    rid = 0\n",
    "    def f(i, j, c):\n",
    "        if i < 0 or i >= h or j < 0 or j >= w or v[i][j] or g[i][j] != c:\n",
    "            return\n",
    "        v[i][j] = rid\n",
    "        r[rid] = r.get(rid, [0, 0])\n",
    "        r[rid][0] += 1\n",
    "        f(i + 1, j, c)\n",
    "        f(i - 1, j, c)\n",
    "        f(i, j + 1, c)\n",
    "        f(i, j - 1, c)\n",
    "    for i in range(h):\n",
    "        for j in range(w):\n",
    "            if not v[i][j]:\n",
    "                rid += 1\n",
    "                f(i, j, g[i][j])\n",
    "    for i in range(h):\n",
    "        for j in range(w):\n",
    "            c = v[i][j]\n",
    "            for x, y in [(i + 1, j), (i - 1, j), (i, j + 1), (i, j - 1)]:\n",
    "                if x < 0 or x >= h or y < 0 or y >= w or v[x][y] != c:\n",
    "                    r[c][1] += 1\n",
    "    return sum(a * p for a, p in r.values())\n",
    "\n",
    "puzzle.answer_a = solve_a(puzzle.input_data)"
   ]
  },
  {
   "cell_type": "markdown",
   "metadata": {},
   "source": [
    "# Part 2"
   ]
  },
  {
   "cell_type": "code",
   "execution_count": 4,
   "metadata": {},
   "outputs": [],
   "source": [
    "example = \"\"\"RRRRIICCFF\n",
    "RRRRIICCCF\n",
    "VVRRRCCFFF\n",
    "VVRCCCJFFF\n",
    "VVVVCJJCFE\n",
    "VVIVCCJJEE\n",
    "VVIIICJJEE\n",
    "MIIIIIJJEE\n",
    "MIIISIJEEE\n",
    "MMMISSJEEE\"\"\""
   ]
  },
  {
   "cell_type": "code",
   "execution_count": 37,
   "metadata": {},
   "outputs": [],
   "source": [
    "example = \"\"\"AAAA\n",
    "BBCD\n",
    "BBCC\n",
    "EEEC\"\"\""
   ]
  },
  {
   "cell_type": "code",
   "execution_count": 42,
   "metadata": {},
   "outputs": [],
   "source": [
    "example=\"\"\"OOOOO\n",
    "OXOXO\n",
    "OOOOO\n",
    "OXOXO\n",
    "OOOOO\"\"\""
   ]
  },
  {
   "cell_type": "code",
   "execution_count": null,
   "metadata": {},
   "outputs": [],
   "source": [
    "import networkx as nx\n",
    "\n",
    "def sides(p):\n",
    "    G = nx.Graph()\n",
    "    for edge in p:\n",
    "        i, j, x, y = edge\n",
    "        dx,dy = x-i, y-j\n",
    "        if dx == 0 and dy == 1:\n",
    "            # bottom edge\n",
    "            G.add_edge((i,j+1),(i+1,j+1))\n",
    "        elif dx == 0 and dy == -1:\n",
    "            # top edge\n",
    "            G.add_edge((i,j), (i+1,j))\n",
    "        elif dx == 1 and dy == 0:\n",
    "            # right edge\n",
    "            G.add_edge((i+1,j), (i+1,j+1))\n",
    "        elif dx == -1 and dy == 0:\n",
    "            # left edge\n",
    "            G.add_edge((i,j), (i,j+1))\n",
    "    side_count = 0\n",
    "    for cycle in nx.simple_cycles(G):\n",
    "        dir = None\n",
    "        first_dir = None\n",
    "        for i, node in enumerate(cycle):\n",
    "            next_node = cycle[(i + 1) % len(cycle)]\n",
    "            dx, dy = next_node[0] - node[0], next_node[1] - node[1]\n",
    "            if (dx,dy) != dir:\n",
    "                dir = (dx, dy)\n",
    "                if first_dir == None:\n",
    "                    first_dir = dir\n",
    "                side_count += 1\n",
    "        if dir == first_dir:\n",
    "            side_count -= 1\n",
    "    return side_count\n",
    "\n",
    "\n",
    "def solve_b(d):\n",
    "    g = d.splitlines()\n",
    "    h, w = len(g), len(g[0])\n",
    "    v = [[0] * w for _ in range(h)]\n",
    "    r = {}\n",
    "    rid = 0\n",
    "    def f(i, j, c):\n",
    "        if i < 0 or i >= h or j < 0 or j >= w or v[i][j] or g[i][j] != c:\n",
    "            return\n",
    "        v[i][j] = rid\n",
    "        r[rid] = r.get(rid, [0, set()])\n",
    "        r[rid][0] += 1\n",
    "        f(i + 1, j, c)\n",
    "        f(i - 1, j, c)\n",
    "        f(i, j + 1, c)\n",
    "        f(i, j - 1, c)\n",
    "    for i in range(h):\n",
    "        for j in range(w):\n",
    "            if not v[i][j]:\n",
    "                rid += 1\n",
    "                f(i, j, g[i][j])\n",
    "    for i in range(h):\n",
    "        for j in range(w):\n",
    "            c = v[i][j]\n",
    "            for x, y in [(i + 1, j), (i - 1, j), (i, j + 1), (i, j - 1)]:\n",
    "                if x < 0 or x >= h or y < 0 or y >= w or v[x][y] != c:\n",
    "                    r[c][1].add((i, j, x, y))\n",
    "    return sum(a * sides(p) for a, p in r.values())\n",
    "\n",
    "solve_b(example)\n"
   ]
  },
  {
   "cell_type": "code",
   "execution_count": null,
   "metadata": {},
   "outputs": [],
   "source": []
  },
  {
   "cell_type": "code",
   "execution_count": null,
   "metadata": {},
   "outputs": [],
   "source": [
    "\n",
    "solve_b(example)"
   ]
  },
  {
   "cell_type": "code",
   "execution_count": 16,
   "metadata": {},
   "outputs": [],
   "source": []
  },
  {
   "cell_type": "code",
   "execution_count": null,
   "metadata": {},
   "outputs": [],
   "source": [
    "\n",
    "puzzle.answer_b = solve_b(puzzle.input_data)"
   ]
  }
 ],
 "metadata": {
  "kernelspec": {
   "display_name": "Python 3",
   "language": "python",
   "name": "python3"
  },
  "language_info": {
   "codemirror_mode": {
    "name": "ipython",
    "version": 3
   },
   "file_extension": ".py",
   "mimetype": "text/x-python",
   "name": "python",
   "nbconvert_exporter": "python",
   "pygments_lexer": "ipython3",
   "version": "3.12.4"
  }
 },
 "nbformat": 4,
 "nbformat_minor": 2
}
