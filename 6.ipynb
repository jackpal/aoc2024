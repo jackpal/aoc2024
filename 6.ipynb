{
 "cells": [
  {
   "cell_type": "markdown",
   "metadata": {},
   "source": [
    "# Advent of Code 2024\n",
    "\n",
    "[Day 6](https://adventofcode.com/2024/day/6)"
   ]
  },
  {
   "cell_type": "code",
   "execution_count": null,
   "metadata": {},
   "outputs": [],
   "source": [
    "from aocd import puzzle"
   ]
  },
  {
   "cell_type": "code",
   "execution_count": null,
   "metadata": {},
   "outputs": [],
   "source": [
    "def parse(input):\n",
    "    def parse_line(line):\n",
    "        return list(line)\n",
    "    return [parse_line(line) for line in input.split('\\n')]"
   ]
  },
  {
   "cell_type": "code",
   "execution_count": null,
   "metadata": {},
   "outputs": [],
   "source": [
    "example = \"\"\"....#.....\n",
    ".........#\n",
    "..........\n",
    "..#.......\n",
    ".......#..\n",
    "..........\n",
    ".#..^.....\n",
    "........#.\n",
    "#.........\n",
    "......#...\"\"\""
   ]
  },
  {
   "cell_type": "code",
   "execution_count": null,
   "metadata": {},
   "outputs": [],
   "source": [
    "parse(example)"
   ]
  },
  {
   "cell_type": "code",
   "execution_count": null,
   "metadata": {},
   "outputs": [],
   "source": [
    "def solve_part_a(grid):\n",
    "    visited = set()\n",
    "    dirs = [(0,-1), (1, 0), (0, 1), (-1, 0)] # NESW\n",
    "    w,h = len(grid[0]), len(grid)\n",
    "    def in_bounds(x,y):\n",
    "        return 0 <= x < w and 0 <= y < h\n",
    "    def at(x,y):\n",
    "        if in_bounds(x,y):\n",
    "            return grid[y][x]\n",
    "        return None\n",
    "    def find(cc):\n",
    "        for y, line in enumerate(grid):\n",
    "            for x, c in enumerate(line):\n",
    "                if c == cc:\n",
    "                    return (x,y)\n",
    "        return None\n",
    "    gx,gy = find('^')\n",
    "    d = 0\n",
    "    while True:\n",
    "        visited.add((gx,gy))\n",
    "        dx,dy = dirs[d]\n",
    "        nx,ny = gx + dx, gy + dy\n",
    "        c = at(nx,ny)\n",
    "        if c == None:\n",
    "            break\n",
    "        elif c == '#':\n",
    "            d = (d + 1) % 4\n",
    "        else:\n",
    "            gx,gy = nx,ny\n",
    "\n",
    "    return len(visited)"
   ]
  },
  {
   "cell_type": "code",
   "execution_count": null,
   "metadata": {},
   "outputs": [],
   "source": [
    "assert(solve_part_a(parse(example)) == 41)"
   ]
  },
  {
   "cell_type": "code",
   "execution_count": null,
   "metadata": {},
   "outputs": [],
   "source": [
    "puzzle.answer_a = solve_part_a(parse(puzzle.input_data))"
   ]
  },
  {
   "cell_type": "code",
   "execution_count": null,
   "metadata": {},
   "outputs": [],
   "source": [
    "def solve_part_b(grid):\n",
    "    dirs = [(0,-1), (1, 0), (0, 1), (-1, 0)] # NESW\n",
    "    w,h = len(grid[0]), len(grid)\n",
    "    def in_bounds(x,y):\n",
    "        return 0 <= x < w and 0 <= y < h\n",
    "    def at(x,y):\n",
    "        if in_bounds(x,y):\n",
    "            return grid[y][x]\n",
    "        return None\n",
    "    def put(x,y,c):\n",
    "        grid[y][x] = c\n",
    "    def find(cc):\n",
    "        for y, line in enumerate(grid):\n",
    "            for x, c in enumerate(line):\n",
    "                if c == cc:\n",
    "                    return (x,y)\n",
    "        return None\n",
    "    \n",
    "    def simulate(gx, gy, d):\n",
    "        visited = set()\n",
    "        visited.add((gx,gy,d))\n",
    "        while True:\n",
    "            dx,dy = dirs[d]\n",
    "            nx,ny = gx + dx, gy + dy\n",
    "            c = at(nx,ny)\n",
    "            if c == None:\n",
    "                return (visited, False)\n",
    "            elif c == '#':\n",
    "                d = (d + 1) % 4\n",
    "            else:\n",
    "                xyd = (nx,ny,d)\n",
    "                if xyd in visited:\n",
    "                    return (visited, True)\n",
    "                visited.add(xyd)\n",
    "                gx,gy = nx,ny\n",
    "    gx,gy = find('^')\n",
    "    put(gx,gy,'.')\n",
    "    visited, _ = simulate(gx,gy,0)\n",
    "    candidates = set([(gx,gy) for gx, gy, _ in visited])\n",
    "    candidates.remove((gx, gy))\n",
    "    candidate_count = 0\n",
    "    for cx, cy in candidates:\n",
    "        put(cx,cy,'#')\n",
    "        _, is_loop = simulate(gx,gy,0)\n",
    "        if is_loop:\n",
    "            candidate_count += 1\n",
    "        put(cx,cy,'.')\n",
    "    return candidate_count"
   ]
  },
  {
   "cell_type": "code",
   "execution_count": 33,
   "metadata": {},
   "outputs": [],
   "source": [
    "assert(solve_part_b(parse(example)) == 6)"
   ]
  },
  {
   "cell_type": "code",
   "execution_count": 34,
   "metadata": {},
   "outputs": [],
   "source": [
    "puzzle.answer_b = solve_part_b(parse(puzzle.input_data))"
   ]
  }
 ],
 "metadata": {
  "kernelspec": {
   "display_name": "Python 3",
   "language": "python",
   "name": "python3"
  },
  "language_info": {
   "codemirror_mode": {
    "name": "ipython",
    "version": 3
   },
   "file_extension": ".py",
   "mimetype": "text/x-python",
   "name": "python",
   "nbconvert_exporter": "python",
   "pygments_lexer": "ipython3",
   "version": "3.12.4"
  }
 },
 "nbformat": 4,
 "nbformat_minor": 2
}
