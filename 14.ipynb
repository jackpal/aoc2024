{
 "cells": [
  {
   "cell_type": "markdown",
   "metadata": {},
   "source": [
    "# Advent of Code 2024"
   ]
  },
  {
   "cell_type": "code",
   "execution_count": 2,
   "metadata": {},
   "outputs": [],
   "source": [
    "from aocd.models import Puzzle\n",
    "from pathlib import Path\n",
    "puzzle = Puzzle(year=2024, day=int(Path(__vsc_ipynb_file__).stem))\n",
    "puzzle.url\n",
    "with open('input.txt', 'w') as file:\n",
    "    file.write(puzzle.input_data)"
   ]
  },
  {
   "cell_type": "markdown",
   "metadata": {},
   "source": [
    "# Part 1"
   ]
  },
  {
   "cell_type": "code",
   "execution_count": 5,
   "metadata": {},
   "outputs": [],
   "source": [
    "example = \"\"\"p=0,4 v=3,-3\n",
    "p=6,3 v=-1,-3\n",
    "p=10,3 v=-1,2\n",
    "p=2,0 v=2,-1\n",
    "p=0,0 v=1,3\n",
    "p=3,0 v=-2,-2\n",
    "p=7,6 v=-1,-3\n",
    "p=3,0 v=-1,-2\n",
    "p=9,3 v=2,3\n",
    "p=7,3 v=-1,2\n",
    "p=2,4 v=2,-3\n",
    "p=9,5 v=-3,-3\"\"\""
   ]
  },
  {
   "cell_type": "code",
   "execution_count": null,
   "metadata": {},
   "outputs": [],
   "source": [
    "def solve_a(input_data, w, h):\n",
    "    robots = []\n",
    "    for line in input_data.splitlines():\n",
    "        p, v = line.split()\n",
    "        x, y = map(int, p[2:].split(','))\n",
    "        dx, dy = map(int, v[2:].split(','))\n",
    "        robots.append(((x, y), (dx, dy)))\n",
    "    \n",
    "    def positions(robots):\n",
    "       return [(x, y) for (x, y), _ in robots]\n",
    "    def print_positions(positions):\n",
    "        m = [[0 for _ in range(w)] for _ in range(h)]\n",
    "        for x, y in positions:\n",
    "            m[y][x] += 1\n",
    "        for l in m:\n",
    "           print(l)\n",
    "    \n",
    "    def print_robots(robots):\n",
    "       print_positions(positions(robots))\n",
    "\n",
    "    print_robots(robots)\n",
    "    print()\n",
    "\n",
    "    final_pos = []\n",
    "    for (x, y), (dx, dy) in robots:\n",
    "        nx = (x + 100 * dx) % w\n",
    "        ny = (y + 100 * dy) % h\n",
    "        final_pos.append((nx, ny))\n",
    "          \n",
    "    print_positions(final_pos)\n",
    "    quads = [0,0,0,0]\n",
    "    w_mid = w// 2\n",
    "    h_mid = h// 2\n",
    "\n",
    "    print(w_mid, h_mid)\n",
    "\n",
    "    for (x,y) in final_pos:\n",
    "      if x < w_mid and y < h_mid: quads[0]+=1\n",
    "      if x > w_mid and y < h_mid: quads[1]+=1\n",
    "      if x < w_mid and y > h_mid: quads[2]+=1\n",
    "      if x > w_mid and y > h_mid: quads[3]+=1\n",
    "    \n",
    "    print(quads)\n",
    "    res = 1\n",
    "    for q in quads:\n",
    "      if q > 0:\n",
    "        res*=q\n",
    "    return res\n",
    "print(solve_a(example, 11, 7))\n",
    "puzzle.answer_a = solve_a(puzzle.input_data, 101, 103)"
   ]
  },
  {
   "cell_type": "code",
   "execution_count": null,
   "metadata": {},
   "outputs": [],
   "source": [
    "\n",
    "puzzle.answer_a = solve_a(puzzle.input_data)\n"
   ]
  },
  {
   "cell_type": "markdown",
   "metadata": {},
   "source": [
    "# Part 2"
   ]
  },
  {
   "cell_type": "code",
   "execution_count": null,
   "metadata": {},
   "outputs": [],
   "source": [
    "def reflect(x,mid):\n",
    "    return 2 * mid -x\n"
   ]
  },
  {
   "cell_type": "code",
   "execution_count": null,
   "metadata": {},
   "outputs": [],
   "source": [
    "from collections import Counter\n",
    "\n",
    "def solve_b(input_data, w, h):\n",
    "    robots = []\n",
    "    for line in input_data.splitlines():\n",
    "        p, v = line.split()\n",
    "        x, y = map(int, p[2:].split(','))\n",
    "        dx, dy = map(int, v[2:].split(','))\n",
    "        robots.append(((x, y), (dx, dy)))\n",
    "    \n",
    "    def positions(robots):\n",
    "       return [(x, y) for (x, y), _ in robots]\n",
    "    def print_positions(positions):\n",
    "        m = [[0 for _ in range(w)] for _ in range(h)]\n",
    "        for x, y in positions:\n",
    "            m[y][x] += 1\n",
    "        for l in m:\n",
    "           for c in l:\n",
    "              if c == 0:\n",
    "                 print('.', end='')\n",
    "              else:\n",
    "                 print('*', end='')\n",
    "           print()\n",
    "    \n",
    "    def print_robots(robots):\n",
    "       print_positions(positions(robots))\n",
    "    \n",
    "    mid = w // 2 + 1\n",
    "\n",
    "    min_diff_i = None\n",
    "    min_diff = None\n",
    "    for i in range(100000):\n",
    "        final_pos = []\n",
    "        for (x, y), (dx, dy) in robots:\n",
    "            nx = (x + i * dx) % w\n",
    "            ny = (y + i * dy) % h\n",
    "            final_pos.append((nx, ny))\n",
    "        \n",
    "        pt = set(final_pos)\n",
    "        pt2 = set((reflect(x, mid), y) for x,y in final_pos)\n",
    "        diff = len(pt.symmetric_difference(pt2))\n",
    "        if min_diff == None or diff < min_diff:\n",
    "            min_diff = diff\n",
    "            min_diff_i = i\n",
    "            print(i, min_diff)\n",
    "        if diff <= 280:\n",
    "            print(i)\n",
    "            print_positions(final_pos)\n",
    "\n",
    "solve_b(puzzle.input_data, 101, 103)"
   ]
  }
 ],
 "metadata": {
  "kernelspec": {
   "display_name": "Python 3",
   "language": "python",
   "name": "python3"
  },
  "language_info": {
   "codemirror_mode": {
    "name": "ipython",
    "version": 3
   },
   "file_extension": ".py",
   "mimetype": "text/x-python",
   "name": "python",
   "nbconvert_exporter": "python",
   "pygments_lexer": "ipython3",
   "version": "3.13.1"
  }
 },
 "nbformat": 4,
 "nbformat_minor": 2
}
