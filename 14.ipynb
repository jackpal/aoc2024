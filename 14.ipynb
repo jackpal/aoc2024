{
 "cells": [
  {
   "cell_type": "markdown",
   "metadata": {},
   "source": [
    "# Advent of Code 2024"
   ]
  },
  {
   "cell_type": "code",
   "execution_count": 3,
   "metadata": {},
   "outputs": [
    {
     "data": {
      "text/plain": [
       "'https://adventofcode.com/2024/day/14'"
      ]
     },
     "execution_count": 3,
     "metadata": {},
     "output_type": "execute_result"
    }
   ],
   "source": [
    "from aocd.models import Puzzle\n",
    "from pathlib import Path\n",
    "puzzle = Puzzle(year=2024, day=int(Path(__vsc_ipynb_file__).stem))\n",
    "puzzle.url"
   ]
  },
  {
   "cell_type": "code",
   "execution_count": 4,
   "metadata": {},
   "outputs": [],
   "source": [
    "def solve_a(d):\n",
    "  w, h = 101, 103\n",
    "  g = [[0] * w for _ in range(h)]\n",
    "  for line in d.splitlines():\n",
    "    p, v = line.split(' v=')\n",
    "    px, py = map(int, p[2:].split(','))\n",
    "    vx, vy = map(int, v.split(','))\n",
    "    for _ in range(100):\n",
    "      px = (px + vx) % w\n",
    "      py = (py + vy) % h\n",
    "    g[py][px] += 1\n",
    "  q1, q2, q3, q4 = 0, 0, 0, 0\n",
    "  for r in range(h):\n",
    "    for c in range(w):\n",
    "      if r < h // 2 and c < w // 2:\n",
    "        q1 += g[r][c]\n",
    "      elif r < h // 2 and c > w // 2:\n",
    "        q2 += g[r][c]\n",
    "      elif r > h // 2 and c < w // 2:\n",
    "        q3 += g[r][c]\n",
    "      elif r > h // 2 and c > w // 2:\n",
    "        q4 += g[r][c]\n",
    "  return q1 * q2 * q3 * q4\n",
    "puzzle.answer_a = solve_a(puzzle.input_data)"
   ]
  },
  {
   "cell_type": "code",
   "execution_count": 6,
   "metadata": {},
   "outputs": [],
   "source": [
    "def solve_b(d):\n",
    "  w, h = 101, 103\n",
    "  robots = []\n",
    "  for line in d.splitlines():\n",
    "    p, v = line.split(' v=')\n",
    "    px, py = map(int, p[2:].split(','))\n",
    "    vx, vy = map(int, v.split(','))\n",
    "    robots.append([(px, py), (vx, vy)])\n",
    "  max_adj = -1\n",
    "  max_adj_step = -1\n",
    "  for step in range(1, 10001):\n",
    "    for i in range(len(robots)):\n",
    "      p, v = robots[i]\n",
    "      px, py = p\n",
    "      vx, vy = v\n",
    "      px = (px + vx) % w\n",
    "      py = (py + vy) % h\n",
    "      robots[i][0] = (px, py)\n",
    "    adj = 0\n",
    "    for i in range(len(robots)):\n",
    "      for j in range(i + 1, len(robots)):\n",
    "        p1, _ = robots[i]\n",
    "        p2, _ = robots[j]\n",
    "        if (p1[0] == p2[0] and abs(p1[1] - p2[1]) == 1) or \\\n",
    "           (p1[1] == p2[1] and abs(p1[0] - p2[0]) == 1):\n",
    "          adj += 1\n",
    "    if adj > max_adj:\n",
    "      max_adj = adj\n",
    "      max_adj_step = step\n",
    "  return max_adj_step\n",
    "puzzle.answer_b = solve_b(puzzle.input_data)"
   ]
  }
 ],
 "metadata": {
  "kernelspec": {
   "display_name": "Python 3",
   "language": "python",
   "name": "python3"
  },
  "language_info": {
   "codemirror_mode": {
    "name": "ipython",
    "version": 3
   },
   "file_extension": ".py",
   "mimetype": "text/x-python",
   "name": "python",
   "nbconvert_exporter": "python",
   "pygments_lexer": "ipython3",
   "version": "3.13.1"
  }
 },
 "nbformat": 4,
 "nbformat_minor": 2
}
