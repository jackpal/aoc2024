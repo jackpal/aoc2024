{
 "cells": [
  {
   "cell_type": "markdown",
   "metadata": {},
   "source": [
    "# Advent of Code 2024"
   ]
  },
  {
   "cell_type": "code",
   "execution_count": null,
   "metadata": {},
   "outputs": [],
   "source": [
    "from aocd.models import Puzzle\n",
    "from pathlib import Path\n",
    "puzzle = Puzzle(year=2024, day=int(Path(__vsc_ipynb_file__).stem))\n",
    "puzzle.url"
   ]
  },
  {
   "cell_type": "markdown",
   "metadata": {},
   "source": [
    "# Part 1"
   ]
  },
  {
   "cell_type": "code",
   "execution_count": 2,
   "metadata": {},
   "outputs": [],
   "source": [
    "example = \"\"\"5,4\n",
    "4,2\n",
    "4,5\n",
    "3,0\n",
    "2,1\n",
    "6,3\n",
    "2,4\n",
    "1,5\n",
    "0,6\n",
    "3,3\n",
    "2,6\n",
    "5,1\n",
    "1,2\n",
    "5,5\n",
    "2,5\n",
    "6,5\n",
    "1,4\n",
    "0,4\n",
    "6,4\n",
    "1,1\n",
    "6,1\n",
    "1,0\n",
    "0,5\n",
    "1,6\n",
    "2,0\"\"\""
   ]
  },
  {
   "cell_type": "code",
   "execution_count": null,
   "metadata": {},
   "outputs": [],
   "source": [
    "def solve_a(d):\n",
    "    g = [['.' for _ in range(71)] for _ in range(71)]\n",
    "    for i, l in enumerate(d.splitlines()):\n",
    "        if i >= 1024:\n",
    "            break\n",
    "        x, y = map(int, l.split(','))\n",
    "        g[y][x] = '#'\n",
    "    q = [(0, 0, 0)]\n",
    "    v = set()\n",
    "    while q:\n",
    "        x, y, s = q.pop(0)\n",
    "        if (x, y) == (70, 70):\n",
    "            return s\n",
    "        if (x, y) in v or not (0 <= x <= 70 and 0 <= y <= 70) or g[y][x] == '#':\n",
    "            continue\n",
    "        v.add((x, y))\n",
    "        for dx, dy in [(0, 1), (0, -1), (1, 0), (-1, 0)]:\n",
    "            q.append((x + dx, y + dy, s + 1))\n",
    "\n",
    "puzzle.answer_a = solve_a(puzzle.input_data)"
   ]
  },
  {
   "cell_type": "markdown",
   "metadata": {},
   "source": [
    "# Part 2"
   ]
  },
  {
   "cell_type": "code",
   "execution_count": null,
   "metadata": {},
   "outputs": [],
   "source": [
    "def solve_b(d):\n",
    "    g = [['.' for _ in range(71)] for _ in range(71)]\n",
    "    for i, l in enumerate(d.splitlines()):\n",
    "        x, y = map(int, l.split(','))\n",
    "        g[y][x] = '#'\n",
    "        q = [(0, 0)]\n",
    "        v = set()\n",
    "        f = False\n",
    "        while q:\n",
    "            cx, cy = q.pop(0)\n",
    "            if (cx, cy) == (70, 70):\n",
    "                f = True\n",
    "                break\n",
    "            if (cx, cy) in v or not (0 <= cx <= 70 and 0 <= cy <= 70) or g[cy][cx] == '#':\n",
    "                continue\n",
    "            v.add((cx, cy))\n",
    "            for dx, dy in [(0, 1), (0, -1), (1, 0), (-1, 0)]:\n",
    "                q.append((cx + dx, cy + dy))\n",
    "        if not f:\n",
    "            return f\"{x},{y}\"\n",
    "puzzle.answer_b = solve_b(puzzle.input_data)"
   ]
  },
  {
   "cell_type": "markdown",
   "metadata": {},
   "source": []
  }
 ],
 "metadata": {
  "kernelspec": {
   "display_name": "Python 3",
   "language": "python",
   "name": "python3"
  },
  "language_info": {
   "codemirror_mode": {
    "name": "ipython",
    "version": 3
   },
   "file_extension": ".py",
   "mimetype": "text/x-python",
   "name": "python",
   "nbconvert_exporter": "python",
   "pygments_lexer": "ipython3",
   "version": "3.13.1"
  }
 },
 "nbformat": 4,
 "nbformat_minor": 2
}
