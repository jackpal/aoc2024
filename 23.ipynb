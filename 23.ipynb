{
 "cells": [
  {
   "cell_type": "markdown",
   "metadata": {},
   "source": [
    "# Advent of Code 2024"
   ]
  },
  {
   "cell_type": "code",
   "execution_count": null,
   "metadata": {},
   "outputs": [],
   "source": [
    "from aocd.models import Puzzle\n",
    "from pathlib import Path\n",
    "puzzle = Puzzle(year=2024, day=int(Path(__vsc_ipynb_file__).stem))\n",
    "puzzle.url"
   ]
  },
  {
   "cell_type": "markdown",
   "metadata": {},
   "source": [
    "# Part 1"
   ]
  },
  {
   "cell_type": "code",
   "execution_count": 6,
   "metadata": {},
   "outputs": [],
   "source": [
    "example = \"\"\"\"\"\""
   ]
  },
  {
   "cell_type": "code",
   "execution_count": null,
   "metadata": {},
   "outputs": [],
   "source": [
    "def solve_a(d):\n",
    "    a = {}\n",
    "    for l in d.splitlines():\n",
    "        x, y = l.split('-')\n",
    "        a.setdefault(x, []).append(y)\n",
    "        a.setdefault(y, []).append(x)\n",
    "    c = 0\n",
    "    for x in a:\n",
    "        for y in a[x]:\n",
    "            if y > x:\n",
    "                for z in a[y]:\n",
    "                    if z > y and z in a[x] and (\n",
    "                        x[0] == 't' or y[0] == 't' or z[0] == 't'\n",
    "                    ):\n",
    "                        c += 1\n",
    "    return c\n",
    "\n",
    "puzzle.answer_a = solve_a(puzzle.input_data)"
   ]
  },
  {
   "cell_type": "markdown",
   "metadata": {},
   "source": [
    "# Part 2"
   ]
  },
  {
   "cell_type": "code",
   "execution_count": null,
   "metadata": {},
   "outputs": [],
   "source": [
    "def solve_b(d):\n",
    "    a = {}\n",
    "    for l in d.splitlines():\n",
    "        x, y = l.split('-')\n",
    "        a.setdefault(x, []).append(y)\n",
    "        a.setdefault(y, []).append(x)\n",
    "    ks = sorted(a.keys())\n",
    "    for i in range(len(ks), 0, -1):\n",
    "        for c in __import__('itertools').combinations(ks, i):\n",
    "            f = True\n",
    "            for x in c:\n",
    "                for y in c:\n",
    "                    if x != y and y not in a[x]:\n",
    "                        f = False\n",
    "            if f:\n",
    "                return ','.join(sorted(c))\n",
    "\n",
    "puzzle.answer_b = solve_b(puzzle.input_data)"
   ]
  },
  {
   "cell_type": "markdown",
   "metadata": {},
   "source": [
    "That's taking too long, make it run faster"
   ]
  },
  {
   "cell_type": "code",
   "execution_count": null,
   "metadata": {},
   "outputs": [],
   "source": [
    "def solve_b(d):\n",
    "    a = {}\n",
    "    for l in d.splitlines():\n",
    "        x, y = l.split('-')\n",
    "        a.setdefault(x, []).append(y)\n",
    "        a.setdefault(y, []).append(x)\n",
    "    ks = sorted(a.keys())\n",
    "\n",
    "    def find_cliques(comp, cand):\n",
    "        if not cand:\n",
    "            yield comp\n",
    "            return\n",
    "        for c in cand:\n",
    "            n_cand = {x for x in cand if x in a[c]}\n",
    "            yield from find_cliques(comp | {c}, n_cand)\n",
    "\n",
    "    mx_cliques = []\n",
    "    for c in find_cliques(set(), set(ks)):\n",
    "      mx_cliques.append(c)\n",
    "\n",
    "    lrg_clique = max(mx_cliques, key=len)\n",
    "    return ','.join(sorted(lrg_clique))\n",
    "\n",
    "puzzle.answer_b = solve_b(puzzle.input_data)"
   ]
  },
  {
   "cell_type": "markdown",
   "metadata": {},
   "source": [
    "Solve it using the networkx library"
   ]
  },
  {
   "cell_type": "code",
   "execution_count": null,
   "metadata": {},
   "outputs": [],
   "source": [
    "import networkx as nx\n",
    "\n",
    "def solve_b(d):\n",
    "    g = nx.Graph()\n",
    "    for l in d.splitlines():\n",
    "        x, y = l.split('-')\n",
    "        g.add_edge(x, y)\n",
    "    cliques = list(nx.find_cliques(g))\n",
    "    largest_clique = max(cliques, key=len)\n",
    "    return ','.join(sorted(largest_clique))\n",
    "\n",
    "puzzle.answer_b = solve_b(puzzle.input_data)"
   ]
  }
 ],
 "metadata": {
  "kernelspec": {
   "display_name": "Python 3",
   "language": "python",
   "name": "python3"
  },
  "language_info": {
   "codemirror_mode": {
    "name": "ipython",
    "version": 3
   },
   "file_extension": ".py",
   "mimetype": "text/x-python",
   "name": "python",
   "nbconvert_exporter": "python",
   "pygments_lexer": "ipython3",
   "version": "3.13.1"
  }
 },
 "nbformat": 4,
 "nbformat_minor": 2
}
